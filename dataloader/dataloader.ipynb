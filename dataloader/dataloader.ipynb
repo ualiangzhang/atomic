{
 "cells": [
  {
   "cell_type": "markdown",
   "metadata": {},
   "source": [
    "# Dataloader Class"
   ]
  },
  {
   "cell_type": "code",
   "execution_count": 1,
   "metadata": {},
   "outputs": [],
   "source": [
    "# Imports\n",
    "import os\n",
    "from warnings import warn\n",
    "import json\n",
    "import numpy as np\n",
    "import pandas as pd\n",
    "from datetime import datetime\n",
    "import math\n",
    "from math import floor, sqrt\n",
    "from pandarallel import pandarallel\n",
    "import time"
   ]
  },
  {
   "cell_type": "code",
   "execution_count": 2,
   "metadata": {},
   "outputs": [],
   "source": [
    "# Whether to using multiprocessing. Turn on and off by setting the value of using_parallel\n",
    "\n",
    "using_parallel = False\n",
    "\n",
    "if using_parallel:\n",
    "    pandarallel.initialize()"
   ]
  },
  {
   "cell_type": "code",
   "execution_count": 3,
   "metadata": {},
   "outputs": [],
   "source": [
    "# Util function for FOV check -- by Rajay\n",
    "\n",
    "# pos_player (position of player) and pos_object (position of object) are triples (x, y, z)\n",
    "# object triples are all integers. Minecraft block coordinate is a corner with the least value.\n",
    "# Assume all positions are given in relative coordinates from some chosen origin.\n",
    "# Pitch and Yaw are given by Minecraft and are in degrees. pitch_player must be between -90 and +90 degrees and yaw_player must be between -180 and 180 degrees.\n",
    "# South: +Z, North: -Z, East: +X, West: -X\n",
    "# Pitch: Increases from 0 to +180 degrees when sweeping from South, through West, to North\n",
    "# Pitch: Decreases from 0 to -180 degrees when sweeping from South, through East, to North\n",
    "# Yaw: Increases from 0 to +90 degrees when looking toward feet\n",
    "# Yaw: Decreases from 0 to -90 degrees when looking toward above\n",
    "# distance_cutoff: torch viewing distance; Anything closer than this distance is visible. If distance_cutoff is less than or equal to zero, then it is not taken into account.\n",
    "def CanSee(pos_player, pos_object, pitch_player, yaw_player, distance_cutoff = -1, debug=False):\n",
    "    FOV_PITCH = 63.5 # Degrees\n",
    "    FOV_YAW = 101 # Degrees\n",
    "    EYE_HEIGHT = 1.62 # eye height according to https://minecraft.gamepedia.com/Tutorials/Navigation#X.2C_Y.2C_and_Z_coordinates\n",
    "\n",
    "    result = False\n",
    "    center_angel_yaw_deg, center_angel_pitch_deg = 0, 0\n",
    "    for i in [0,0.5,1]:\n",
    "        for j in [0,0.5,1]:\n",
    "            for k in [0,0.5,1]:\n",
    "                xDist = pos_player[0] - (pos_object[0]+i)\n",
    "                yDist = (pos_player[1]+EYE_HEIGHT) - (pos_object[1]+j)\n",
    "                zDist = pos_player[2] - (pos_object[2]+k)\n",
    "                # 3-d distance\n",
    "                d3 = math.sqrt(math.pow(xDist,2) + math.pow(yDist,2) + math.pow(zDist,2))\n",
    "                # if distance_cutoff is positive, then if distance to object is too far, it can't be seen\n",
    "                if (distance_cutoff > 0 and d3 > distance_cutoff):\n",
    "                    continue\n",
    "                # on-plane distance (h=horizontal)\n",
    "                dh = math.sqrt(math.pow(xDist,2) + math.pow(zDist,2))\n",
    "                # vertical distance (v=vertical)\n",
    "                dv = math.sqrt(math.pow(yDist,2) + math.pow(dh,2))\n",
    "                angle_yaw_deg = RestrictAngle(math.atan2(zDist,xDist)*180/math.pi + 90)\n",
    "                angle_pitch_deg = math.atan2(yDist,dh)*180/math.pi\n",
    "                if i == 0.5 and j == 0.5 and k == 0.5:\n",
    "                    center_angel_yaw_deg, center_angel_pitch_deg = angle_yaw_deg, angle_pitch_deg\n",
    "#                 print((angle_yaw_deg, angle_pitch_deg)) # testing\n",
    "                isInPitch = IsAngleBetween(angle_pitch_deg, pitch_player-FOV_PITCH/2, pitch_player+FOV_PITCH/2)\n",
    "                isInYaw   = IsAngleBetween(angle_yaw_deg, yaw_player-FOV_YAW/2, yaw_player+FOV_YAW/2)\n",
    "                if debug:\n",
    "                    print((angle_yaw_deg, angle_pitch_deg, isInPitch, isInYaw)) # testing\n",
    "                result += isInPitch and isInYaw\n",
    "                \n",
    "    return bool(result), center_angel_yaw_deg, center_angel_pitch_deg   \n",
    "\n",
    "def RestrictAngle(angle):\n",
    "    if (angle > 180):\n",
    "        return angle - 360\n",
    "    elif (angle < -180):\n",
    "        return angle + 360\n",
    "    else:\n",
    "        return angle\n",
    "\n",
    "def IsAngleBetween(angleToCheck,minAngle,maxAngle):\n",
    "    if (maxAngle > 180):\n",
    "#         print(\"Is \" + str(angleToCheck) + \" between \" + str(minAngle) + \" and 180 or greater than -180 and less than \" + str(RestrictAngle(maxAngle)))\n",
    "        return ((minAngle <= angleToCheck and (angleToCheck <= 180)) or (minAngle >= -180 and (angleToCheck <= RestrictAngle(maxAngle))))\n",
    "    else:\n",
    "#         print(\"Is \" + str(angleToCheck) + \" between \" + str(minAngle) + \" and \" + str(maxAngle))\n",
    "        return (minAngle <= angleToCheck and angleToCheck <= maxAngle)\n"
   ]
  },
  {
   "cell_type": "code",
   "execution_count": 88,
   "metadata": {},
   "outputs": [],
   "source": [
    "# Dataloader class\n",
    "\n",
    "class DataLoader:\n",
    "    def __init__(self, verbose=True):\n",
    "        # Raw data\n",
    "        self.raw_df = None                 # Dataframe from raw data\n",
    "        self.room_df = None             # Map location dataframe\n",
    "        self.victim_df = None          # Victim location dataframe\n",
    "        self.door_df = None            # Door location dataframe\n",
    "        \n",
    "        # Intermediat data\n",
    "        self.obs_df = None             # Observation dataframe\n",
    "        self.event_df = None           # Event dataframe\n",
    "        self.triage_df = None          # Triage event dataframe\n",
    "        self.conflict_victim_df = None # Dataframe containing info about occurence of different victim_id appearing in proc_df and triage_df\n",
    "        \n",
    "        # Processed data\n",
    "        self.proc_df = None            # Stores dataframe processed by specific routines\n",
    "        \n",
    "        # Other relevant data fields and attributes\n",
    "        self.player_names = None       # Tuple of player names\n",
    "        self.player_role = None        # Dictionary mapping from player name to player's role\n",
    "        self.datestr_format = \"%Y-%m-%dT%H:%M:%S.%f\"   # timestamp format in the raw data\n",
    "        self.max_victims_per_room = None   # Max number of victims per room. Will calculate automatically\n",
    "        self.max_portal_in_FOV = 3     # The max number of portals in FOV to be included in the generated data\n",
    "        self.max_triage_dist = 5       # Maximum distance within which player can be considered in triage position\n",
    "        self.victim_time = {}          # Victim type (color) to the number of seconds to successfuly triage\n",
    "        self.num_per_sec = 1           # Number of entries to select per second. Default to 1\n",
    "        self.sensor_events = set()     # Set of events that will be recognized as sensor \"beeping\"\n",
    "        \n",
    "        # Offset to ADD to raw x, y, z position values\n",
    "        # For now, will calculate automatically by finding minimum for each coordinate globally in the dataframe\n",
    "        self.x_offset, self.y_offset, self.z_offset = None, None, None\n",
    "        self.x_max, self.y_max, self.z_max = None, None, None\n",
    "        \n",
    "        # Verbosity. Whether to print progress and/or warnings. 1 to print, 0 to shut up.\n",
    "        self.verbose = verbose\n",
    "    \n",
    "    def load_csv(self, path, file_name):\n",
    "        # thousands=\",\" here so that numbers are of type float64\n",
    "        self.raw_df = pd.read_csv(os.path.join(path, file_name), thousands=\",\")[['message']]   \n",
    "        # Initial processing\n",
    "        self._init_df()\n",
    "        \n",
    "    def load_json(self, path, file_name):\n",
    "        self.raw_df = pd.read_json(os.path.join(path, file_name), lines=True)[['message']]\n",
    "        # Initial processing\n",
    "        self._init_df()\n",
    "        \n",
    "    def _init_df(self):\n",
    "        # If no player name and roles has been specified, default treat all names found in the data as Triager\n",
    "#         assert self.player_names is not None and self.player_role is not None, \"Please first set the player names and corresponding roles\"\n",
    "\n",
    "        # Clean up data. \n",
    "        # Convert message content from string to dictionary using Json\n",
    "        self.raw_df['content'] = self.raw_df['message'].apply(lambda entry: json.loads(entry))\n",
    "        # List dictionary keys and drop any columns that have empty keys\n",
    "        self.raw_df['content_keys'] = self.raw_df['content'].apply(lambda entry: tuple(entry.keys()))\n",
    "        empty_indices = list(self.raw_df.loc[self.raw_df['content_keys'] == ()].index)\n",
    "        if len(empty_indices) > 0:\n",
    "            self.raw_df = self.raw_df.drop(labels=empty_indices, axis=0)\n",
    "            # Reset index\n",
    "            self.raw_df = self.raw_df.reset_index().drop('index', axis=1)\n",
    "        # Drop entries if 'header' does not appear as one of the content keys\n",
    "        has_header = self.raw_df['content_keys'].apply(lambda entry: 'header' in entry)\n",
    "        no_header_index = list(has_header[has_header == False].index)\n",
    "        if len(no_header_index) > 0:\n",
    "            self.raw_df = self.raw_df.drop(labels=no_header_index, axis=0)\n",
    "            # Reset index\n",
    "            self.raw_df = self.raw_df.reset_index().drop('index', axis=1)\n",
    "            \n",
    "        # Extract timestamp string\n",
    "        self.raw_df['@timestamp'] = self.raw_df['content'].apply(lambda entry: entry['header']['timestamp'])\n",
    "        # Extract message type and publish to another column 'message_type'\n",
    "        self.raw_df['message_type'] = self.raw_df['content'].apply(lambda entry: entry['header']['message_type'])\n",
    "        \n",
    "        # Separate out event df \n",
    "        self.event_df = self.raw_df.loc[self.raw_df['message_type'] == 'event']\n",
    "        self.event_df = self.event_df.reset_index().drop('index', axis=1)\n",
    "        # Extract message for event df\n",
    "        self.event_df['msg'] = self.event_df['content'].apply(lambda entry: entry['msg'])\n",
    "        self.event_df['data'] = self.event_df['content'].apply(lambda entry: entry['data'] if 'data' in entry.keys() else 'None')\n",
    "        # Publish event subtype to another column\n",
    "        self.event_df['subtype'] = self.event_df['msg'].apply(lambda entry: entry['sub_type'])\n",
    "        \n",
    "        # Find Event:MissionState subtype event timestamp and use that to chop off data irrelevant to the mission\n",
    "        missionstate_df = self.event_df.loc[self.event_df['subtype'] == 'Event:MissionState']\n",
    "        if missionstate_df.shape[0] == 0 and self.verbose:\n",
    "            warn(\"\\nNo Event:MissionState event found! All raw data entries are therefore taken valid\\n\")\n",
    "        else:\n",
    "            missionstate_df['mission_state'] = missionstate_df['content'].apply(lambda entry: entry['data']['mission_state'].upper())\n",
    "            if 'START' in set(missionstate_df['mission_state'].unique()):\n",
    "                # Take the earlies entry\n",
    "                start_timestamp = missionstate_df.loc[missionstate_df['mission_state'] == 'START'].iloc[-1]['@timestamp']\n",
    "                # Chopp off any data that registers befor this timestamp\n",
    "                self.raw_df = self.raw_df.loc[pd.to_datetime(self.raw_df['@timestamp']) >= start_timestamp]\n",
    "                self.event_df = self.event_df.loc[pd.to_datetime(self.event_df['@timestamp']) >= start_timestamp]\n",
    "                self.raw_df = self.raw_df.reset_index().drop('index', axis=1)\n",
    "                self.event_df = self.event_df.reset_index().drop('index', axis=1)\n",
    "            elif self.verbose:\n",
    "                warn(\"\\nNo 'mission_state == START' event found. Entries early in time will not be chopped off\\n\")\n",
    "            if 'STOP' in set(missionstate_df['mission_state'].unique()):\n",
    "                # Take the latest entry\n",
    "                stop_timestamp = missionstate_df.loc[missionstate_df['mission_state'] == 'STOP'].iloc[0]['@timestamp']\n",
    "                # Chopp off any data that registers befor this timestamp\n",
    "                self.raw_df = self.raw_df.loc[pd.to_datetime(self.raw_df['@timestamp']) <= stop_timestamp]\n",
    "                self.event_df = self.event_df.loc[pd.to_datetime(self.event_df['@timestamp']) <= stop_timestamp]\n",
    "                self.raw_df = self.raw_df.reset_index().drop('index', axis=1)\n",
    "                self.event_df = self.event_df.reset_index().drop('index', axis=1)\n",
    "            elif self.verbose:\n",
    "                warn(\"\\nNo 'mission_state == STOP' event found. Entries late in time will not be chopped off\\n\")\n",
    "            \n",
    "        # Extract triaging events to triage df\n",
    "        self.triage_df = self.event_df.loc[self.event_df['subtype'] == 'Event:Triage']       \n",
    "        self.triage_df[['player_ID', 'triage_state', 'victim_x', 'victim_y', 'victim_z']] = \\\n",
    "            self.triage_df.apply(lambda row: [row['data']['playername'], \n",
    "                                              row['data']['triage_state'],\n",
    "                                              row['data']['victim_x'],\n",
    "                                              row['data']['victim_y'],\n",
    "                                              row['data']['victim_z']], axis=1, result_type='expand')\n",
    "        # Only select entries with player ID pre-specified\n",
    "        if self.player_names is not None:\n",
    "            self.triage_df = self.triage_df.loc[self.triage_df['player_ID'].isin(self.player_names)]\n",
    "        # Otherwise, set default player names and roles\n",
    "        else:\n",
    "            self.player_names = tuple(set(self.triage_df['player_ID'].unique()))\n",
    "            self.player_role = {n: 'Triager' for n in self.player_names}\n",
    "        # Reset index and drop redundant columns\n",
    "        self.triage_df = self.triage_df.reset_index().drop(['index', 'message', 'content', 'content_keys', 'message_type', 'msg', 'data', 'subtype'], axis=1) \n",
    "        # Sort dataframe so that timestamp in ascending order\n",
    "        self.triage_df = self.triage_df.sort_values(by='@timestamp', axis=0).reset_index().drop('index', axis=1)\n",
    "        \n",
    "        # Seperate out observation dataframe\n",
    "        self.obs_df = self.raw_df.loc[self.raw_df['message_type'] == 'observation']\n",
    "        self.obs_df = self.obs_df.reset_index().drop('index', axis=1)\n",
    "        self.obs_df['data'] = self.obs_df.apply(lambda row: row['content']['data'], axis=1)\n",
    "        # Get rid of scoreboard observation data entry\n",
    "        self.obs_df['data_keys'] = self.obs_df['data'].apply(lambda entry: tuple(entry.keys()))\n",
    "        self.obs_df = self.obs_df.loc[self.obs_df['data_keys'] != ('scoreboard',)]\n",
    "        self.obs_df = self.obs_df.reset_index().drop(['index', 'data_keys'], axis=1)\n",
    "        \n",
    "        # Set up proc_df\n",
    "        self.proc_df = self.obs_df.apply(lambda row: [row['@timestamp'], row['data']['name'],\n",
    "                                                      row['data']['motion_x'], row['data']['motion_y'], row['data']['motion_z'], \n",
    "                                                      row['data']['x'], row['data']['y'], row['data']['z'], \n",
    "                                                      row['data']['pitch'], row['data']['yaw']], axis=1, result_type='expand')\n",
    "        # Rename column names\n",
    "        self.proc_df.columns = ['@timestamp', 'player_ID', 'motion_x', 'motion_y', 'motion_z', 'x', 'y', 'z', 'pitch', 'yaw']\n",
    "        # Only select entries with player ID pre-specified\n",
    "        self.proc_df = self.proc_df.loc[self.proc_df['player_ID'].isin(self.player_names)]\n",
    "        # Reset index \n",
    "        self.proc_df = self.proc_df.reset_index().drop('index', axis=1)\n",
    "    \n",
    "    def load_map(self, path, room_csv_name, door_csv_name, victim_csv_name):\n",
    "        self.room_df = pd.read_csv(os.path.join(path, room_csv_name))\n",
    "        self.door_df = pd.read_csv(os.path.join(path, door_csv_name))\n",
    "        self.victim_df = pd.read_csv(os.path.join(path, victim_csv_name))\n",
    "        # Rename column names\n",
    "        self.room_df.columns = ['RoomID', 'x0', 'z0', 'x1', 'z1']\n",
    "        self.door_df.columns = ['Index', 'x0', 'z0', 'x1', 'z1', 'Room0', 'Room1'] \n",
    "        self.victim_df.columns = ['Index', 'RoomID', 'Color', 'x', 'y', 'z']\n",
    "        \n",
    "        # Calculate a mid point for the doors/portals as FOV calculation's reference\n",
    "        self.door_df[['x_mid', 'z_mid']] = self.door_df.apply(lambda row: [(row['x0'] + row['x1']) / 2, (row['z0'] + row['z1']) / 2], \n",
    "                                                              axis=1, result_type='expand')\n",
    "        \n",
    "    def set_loc_offsets(self, x_offset, y_offset, z_offset):\n",
    "        self.x_offset = x_offset\n",
    "        self.y_offset = y_offset\n",
    "        self.z_offset = z_offset\n",
    "        \n",
    "    def set_player_role(self, player_role_dict):\n",
    "        assert isinstance(player_role_dict, dict)\n",
    "        self.player_role = player_role_dict\n",
    "        self.player_names = set(player_role_dict.keys())\n",
    "        \n",
    "    def set_victim_triage_time_span(self, victim_time_span_dict):\n",
    "        assert isinstance(victim_time_span_dict, dict)\n",
    "        assert set(self.victim_df['Color']) == set(victim_time_span_dict.keys())\n",
    "        self.victim_time = victim_time_span_dict\n",
    "        \n",
    "    def set_max_triage_distance(self, max_triage_distance):\n",
    "        self.max_triage_dist = max_triage_distance\n",
    "        \n",
    "    def set_max_portals_in_FOV(self, num_portals):\n",
    "        self.max_portal_in_FOV = num_portals\n",
    "        \n",
    "    def set_num_entries_per_sec(self, num_per_sec):\n",
    "        # Set the number of entries to select per second\n",
    "        self.num_per_sec = num_per_sec\n",
    "        \n",
    "    def add_sensor_event_subtype(self, event):\n",
    "        # Add event subtype identifier string which will be picked up and treated as a sensor \"beeping\"\n",
    "        self.sensor_events.add(event)\n",
    "        \n",
    "    def process(self):\n",
    "        # Process data using subroutines. processed data in self.proc_df\n",
    "        # Need to all methods above before calling this method, otherwise requisite data not complete\n",
    "        # All subroutines operate on self.proc_df\n",
    "        # Process\n",
    "        self._df_by_sec()                    # Extract data entries with a coarser time granularity\n",
    "        self._adjust_loc()                   # Apply offset to all coordinates\n",
    "        self._check_victim_in_room()         # SANITY CHECK: whether the victims are indeed located in the room that the data claimed they are\n",
    "        self._find_room_in()                 # Find which room the player is located in\n",
    "        self._find_portal_in()               # Find which portal the player is located in, if applicable\n",
    "        self._find_victims_in_room()         # Find which victims are located in the same room as the player. Grab victims from both rooms if the player is located in a portal\n",
    "        self._set_role()                     # Set player roles (default to TRIAGER)\n",
    "        self._victim_in_FOV()                # For each victim, determine if it is in the Field of View of the player\n",
    "        self._victim_in_triage_position()    # For each victim, determine if it is in the player's triaging position (in FOV + close enough)\n",
    "\n",
    "        self._victim_in_cross_hair()         # Find the one victim that is closest to the visual center in the player's field of view\n",
    "        self._portal_in_FOV()                # Find which portals are in the field of view of the player. Sorted in ascending order by the portal's distance to the player\n",
    "        self._identify_triage_id()           # Identify the triage events and the indices of their occurences in the main dataframe\n",
    "        self._set_triage_in_progress()       # Set the triage state based on the reported triaging events\n",
    "        self._update_victim_color()          # Update victim colors. E.g. victim turned white from green when they are triaged\n",
    "        self._set_sensor_state()             # Set sensor state\n",
    "        \n",
    "        \n",
    "#     def batch_process_json(self, path):\n",
    "#         # Attempt to batch process all JSON files in the given path, and produce processed csv file with \"processed_\" prefix in the file name\n",
    "#         #     under the subdirectory name \"processed\"\n",
    "#         for file_name in os.listdir(path):\n",
    "#             if file_name.endswith(\".json\"):\n",
    "#                 try:\n",
    "#                     print(\"\\n\\n---------------- Processing file {} ----------------\\n\".format(file_name))\n",
    "#                     self.load_json(path, file_name)\n",
    "#                     self.process()\n",
    "#                     self.save_csv(os.path.join(path, 'processed'), \"processed_\" + os.path.splitext(file_name)[0] + '.csv')\n",
    "#                     print(\"\\n---------------- File saved ----------------\\n\\n\")\n",
    "#                 except Exception as err:\n",
    "#                     warn(\"CANNOT PROCESS JSON FILE: {}. Encountered the following exception: \\n\\n{}\".format(file_name, err))\n",
    "                    \n",
    "        \n",
    "    def save_csv(self, path, filename):\n",
    "        # Save the processed data, self.proc_df, to a csv file\n",
    "        # If directory not exists, create the directory\n",
    "        if not os.path.exists(path):\n",
    "            os.makedirs(path)\n",
    "        self.proc_df.to_csv(os.path.join(path, filename))\n",
    "        \n",
    "    def _df_by_sec(self):\n",
    "        # Take a coarser time granularity to select a fixed number of entries per second. \n",
    "        # Update self.player2df\n",
    "        tic = time.perf_counter()\n",
    "        \n",
    "        player_group = self.proc_df.groupby(by=\"player_ID\")\n",
    "        player2df = {n: player_group.get_group(n) for n in self.player_names}\n",
    "        \n",
    "        player2df_sec = {}\n",
    "        for n in self.player_names:\n",
    "            p_df = player2df[n]\n",
    "            # Reset index by datetime\n",
    "            p_df.index = pd.to_datetime(p_df['@timestamp'],format=self.datestr_format)\n",
    "            # Add a new column to track which microsecond group the entries belong to.\n",
    "            # To support selecting multiple entries per second which is spread equally in time\n",
    "            p_df['ms_group'] = p_df.index.microsecond // (1000000 // self.num_per_sec)\n",
    "            # Groupby seconds and microsecond group\n",
    "            g = p_df.groupby(by=[p_df.index.hour, p_df.index.minute, p_df.index.second, p_df['ms_group']])\n",
    "            # Take last of each group, which is the earliest entry per microsecond group\n",
    "            p_df = g.last()\n",
    "            # Reset index. argument drop=True to drop the current datetime index\n",
    "            p_df.reset_index(drop=True, inplace=True)\n",
    "            player2df_sec[n] = p_df\n",
    "            \n",
    "        player2df = player2df_sec\n",
    "        # Update self.proc_df\n",
    "        self.proc_df = pd.concat(list(player2df.values()), axis=0)\n",
    "        self.proc_df.reset_index(inplace=True)\n",
    "        \n",
    "        toc = time.perf_counter()\n",
    "        if self.verbose:\n",
    "            print(\"Step 1: df_by_sec() completed. Elapsed time: {:.5f}\".format(toc - tic))\n",
    "        \n",
    "    def _adjust_loc(self):\n",
    "        # Adjust proc_df loc\n",
    "        tic = time.perf_counter()\n",
    "        \n",
    "        # If offset not set, set it automatically by finding the minimum of each coordinates\n",
    "        if self.x_offset is None or self.y_offset is None or self.z_offset is None:\n",
    "            self.set_loc_offsets(-np.floor(self.proc_df[\"x\"].min()), -np.floor(self.proc_df[\"y\"].min()), -np.floor(self.proc_df[\"z\"].min()))\n",
    "        \n",
    "        self.proc_df[\"x\"] = self.proc_df[\"x\"].map(lambda v: np.floor(v) + self.x_offset)\n",
    "        self.proc_df[\"y\"] = self.proc_df[\"y\"].map(lambda v: np.floor(v) + self.y_offset)\n",
    "        self.proc_df[\"z\"] = self.proc_df[\"z\"].map(lambda v: np.floor(v) + self.z_offset)\n",
    "        \n",
    "        assert self.proc_df[\"x\"].min() >= 0, self.proc_df[\"x\"].min()\n",
    "        assert self.proc_df[\"y\"].min() >= 0, self.proc_df[\"y\"].min()\n",
    "        assert self.proc_df[\"z\"].min() >= 0, self.proc_df[\"z\"].min()\n",
    "            \n",
    "        self.x_max = self.proc_df[\"x\"].max()\n",
    "        self.y_max = self.proc_df[\"y\"].max()\n",
    "        self.z_max = self.proc_df[\"z\"].max()\n",
    "        \n",
    "        # Adjust room loc\n",
    "        self.room_df[[\"x0\", \"x1\"]] = self.room_df[[\"x0\", \"x1\"]].apply(lambda v: np.floor(v) + self.x_offset)\n",
    "        self.room_df[[\"z0\", \"z1\"]] = self.room_df[[\"z0\", \"z1\"]].apply(lambda v: np.floor(v) + self.z_offset)\n",
    "        # Take max/min for x/z and insert new columns\n",
    "        self.room_df[\"x_max\"], self.room_df[\"x_min\"] = self.room_df[[\"x0\", \"x1\"]].max(axis=1), self.room_df[[\"x0\", \"x1\"]].min(axis=1)\n",
    "        self.room_df[\"z_max\"], self.room_df[\"z_min\"] = self.room_df[[\"z0\", \"z1\"]].max(axis=1), self.room_df[[\"z0\", \"z1\"]].min(axis=1)\n",
    "        # Drop original coordinates columns\n",
    "        self.room_df.drop(labels=['x0', 'x1', 'z0', 'z1'], axis=1, inplace=True)\n",
    "        \n",
    "        # Adjust door loc\n",
    "        self.door_df[['x0', 'x1']] = self.door_df[[\"x0\", \"x1\"]].apply(lambda v: np.floor(v) + self.x_offset)\n",
    "        self.door_df[[\"z0\", \"z1\"]] = self.door_df[[\"z0\", \"z1\"]].apply(lambda v: np.floor(v) + self.z_offset)\n",
    "        \n",
    "        # Adjust victim loc\n",
    "        # Use floor() to round\n",
    "        self.victim_df['x'] = self.victim_df['x'].map(lambda v: np.floor(v) + self.x_offset)\n",
    "        self.victim_df['y'] = self.victim_df['y'].map(lambda v: np.floor(v) + self.y_offset)\n",
    "        self.victim_df['z'] = self.victim_df['z'].map(lambda v: np.floor(v) + self.z_offset)\n",
    "        \n",
    "        # Adjust triage dataframe loc\n",
    "        self.triage_df['victim_x'] = self.triage_df['victim_x'].map(lambda v: np.floor(v) + self.x_offset)\n",
    "        self.triage_df['victim_y'] = self.triage_df['victim_y'].map(lambda v: np.floor(v) + self.y_offset)\n",
    "        self.triage_df['victim_z'] = self.triage_df['victim_z'].map(lambda v: np.floor(v) + self.z_offset)\n",
    "        \n",
    "        toc = time.perf_counter()\n",
    "        if self.verbose:\n",
    "            print(\"Step 2: adjust_loc() completed. Elapsed time: {:.5f}\".format(toc - tic))\n",
    "        \n",
    "        \n",
    "    def _check_victim_in_room(self):\n",
    "        # Check that after adjusting locations, each victim is indeed within the room that it labels in the dataframe\n",
    "        #rg = self.room_df.groupbyby(by=)\n",
    "        tic = time.perf_counter()\n",
    "        \n",
    "        rg = self.room_df.groupby(by='RoomID')\n",
    "        vg = self.victim_df.groupby(by='RoomID')\n",
    "        \n",
    "        # Determine maximum number of victims within the same room\n",
    "        # Double the actual size of maximum victims per room because player may stand at portal connecting two rooms\n",
    "        self.max_victims_per_room = max(vg.size()) * 2\n",
    "        \n",
    "        for room_id in vg.groups.keys():\n",
    "            victims = vg.get_group(room_id)\n",
    "            room = rg.get_group(room_id)\n",
    "            assert (victims['x'] <= room.reset_index().loc[0, 'x_max']).all() and \\\n",
    "                   (victims['x'] >= room.reset_index().loc[0, 'x_min']).all(), \"Some victim in room {} is not within the room's X coordinate range!\".format(room_id)\n",
    "            assert (victims['z'] <= room.reset_index().loc[0, 'z_max']).all() and \\\n",
    "                   (victims['z'] >= room.reset_index().loc[0, 'z_min']).all(), \"Some victim in room {} is not within the room's Y coordinate range!\".format(room_id)\n",
    "        \n",
    "        toc = time.perf_counter()\n",
    "        if self.verbose:\n",
    "            print(\"Step 3: check_victim_in_room() completed. Elapsed time: {:.5f}\".format(toc - tic))\n",
    "\n",
    "        \n",
    "    def _find_room_in(self):\n",
    "        # Find the room that the player is currently in\n",
    "        tic = time.perf_counter()\n",
    "        \n",
    "        # Util function for finding RoomID for each given player row consisting of x coordinate and z coordinate\n",
    "        def find_room(in_row):\n",
    "            x = in_row['x']\n",
    "            z = in_row['z']\n",
    "            result = 'None'\n",
    "            for index, row in self.room_df.iterrows():\n",
    "                if x >= row['x_min'] and x <= row['x_max'] and z >= row['z_min'] and z <= row['z_max']:\n",
    "                    result = row['RoomID']\n",
    "            return result\n",
    "                \n",
    "        # Add a new column to self.proc_df\n",
    "        # Using parallelism if specified\n",
    "        if using_parallel:\n",
    "            self.proc_df[\"Room_in\"] = self.proc_df[['x', 'z']].parallel_apply(find_room, axis=1)\n",
    "        else:\n",
    "            self.proc_df[\"Room_in\"] = self.proc_df[['x', 'z']].apply(find_room, axis=1)\n",
    "        \n",
    "        toc = time.perf_counter()\n",
    "        if self.verbose:\n",
    "            print(\"Step 4: find_room_in() completed. Elapsed time: {:.5f}\".format(toc - tic))\n",
    "        \n",
    "    def _find_portal_in(self):\n",
    "        # Check if the victim is standing in the area of some portal\n",
    "        tic = time.perf_counter()\n",
    "        \n",
    "        # Util function\n",
    "        def find_portal(in_row):\n",
    "            x, z = in_row['x'], in_row['z']\n",
    "            result = 'None'\n",
    "            for index, row in self.door_df.iterrows():\n",
    "                if row['x0'] <= x <= row['x1'] and row['z0'] <= z <= row['z1']:\n",
    "                    result = row['Index']\n",
    "            return result\n",
    "        \n",
    "        if using_parallel:\n",
    "            self.proc_df[\"Portal_in\"] = self.proc_df[['x', 'z']].parallel_apply(find_portal, axis=1)\n",
    "        else:\n",
    "            self.proc_df[\"Portal_in\"] = self.proc_df[['x', 'z']].apply(find_portal, axis=1)\n",
    "        \n",
    "        toc = time.perf_counter()\n",
    "        if self.verbose:\n",
    "            print(\"Step 4.5: find_portal_in() completed. Elapsed time: {:.5f}\".format(toc - tic))\n",
    "        \n",
    "    def _find_victims_in_room(self):\n",
    "        # Find the victims in the same room with the player\n",
    "        # If player is standing in the area of a portal, will consider victims in both rooms the portal is connected to\n",
    "        tic = time.perf_counter()\n",
    "        \n",
    "        vg = self.victim_df.groupby(by='RoomID')\n",
    "        \n",
    "        def find_victims(in_row):\n",
    "            result = []\n",
    "            \n",
    "            # Enlist the rooms the player can observe. 2 rooms if player standing in portal, otherwise only 1 room\n",
    "            if in_row['Portal_in'] != 'None':\n",
    "                # Player standing in portal, grab both rooms\n",
    "                portal_id = in_row['Portal_in']\n",
    "                room_list = [self.door_df.loc[self.door_df['Index'] == portal_id]['Room0'].iloc[0], \n",
    "                             self.door_df.loc[self.door_df['Index'] == portal_id]['Room1'].iloc[0]]\n",
    "            else:\n",
    "                room_list = [in_row['Room_in']]\n",
    "            \n",
    "            # Find number of in-room victims\n",
    "            num_victims_in_room = 0\n",
    "            vic_index_list = []\n",
    "            vic_color_list = []\n",
    "            vic_dist_list = []\n",
    "            vic_loc_list = []\n",
    "            for room_id in room_list:\n",
    "                num_vic_current_room = len(vg.get_group(room_id).index) if room_id in vg.groups.keys() else 0\n",
    "                num_victims_in_room += num_vic_current_room\n",
    "            \n",
    "                # Find victim ids (Index in victim df) and corresponding colors\n",
    "                vic_index_list += (list(vg.get_group(room_id)['Index'].to_numpy()) if room_id in vg.groups.keys() else [])\n",
    "                vic_color_list += (list(vg.get_group(room_id)['Color'].to_numpy()) if room_id in vg.groups.keys() else [])\n",
    "            \n",
    "                # Calculate Euclidean distance to victim\n",
    "                x_player = in_row['x']\n",
    "                z_player = in_row['z']\n",
    "            \n",
    "                vic_dist_list += list(sqrt((vg.get_group(room_id).iloc[i]['x'] - x_player)**2 + (vg.get_group(room_id).iloc[i]['z'] - z_player)**2) for i in range(num_vic_current_room))\n",
    "            \n",
    "                vic_loc_list += list(tuple([vg.get_group(room_id).iloc[i]['x'], vg.get_group(room_id).iloc[i]['y'], vg.get_group(room_id).iloc[i]['z']]) for i in range(num_vic_current_room))\n",
    "                \n",
    "            # Form the result list\n",
    "            result.append(num_victims_in_room)\n",
    "            result += vic_index_list + ['None'] * (self.max_victims_per_room - num_victims_in_room)\n",
    "            result += vic_color_list + ['None'] * (self.max_victims_per_room - num_victims_in_room)\n",
    "            result += vic_dist_list + [0] * (self.max_victims_per_room - num_victims_in_room)\n",
    "            result += vic_loc_list + [(0, 0, 0)] * (self.max_victims_per_room - num_victims_in_room)\n",
    "            \n",
    "            return result\n",
    "        \n",
    "        new_cols = [\"num_victims\"] + list(\"victim_{}_id\".format(i) for i in range(self.max_victims_per_room)) \\\n",
    "                                   + list(\"victim_{}_color\".format(i) for i in range(self.max_victims_per_room)) \\\n",
    "                                   + list(\"victim_{}_dist\".format(i) for i in range(self.max_victims_per_room)) \\\n",
    "                                   + list(\"victim_{}_loc\".format(i) for i in range(self.max_victims_per_room))\n",
    "        \n",
    "        # Using parallelism if specified\n",
    "        if using_parallel:\n",
    "            self.proc_df[new_cols] = self.proc_df[['Room_in', 'Portal_in', 'x', 'z']].parallel_apply(find_victims, axis=1, result_type='expand')\n",
    "        else:\n",
    "            self.proc_df[new_cols] = self.proc_df[['Room_in', 'Portal_in', 'x', 'z']].apply(find_victims, axis=1, result_type='expand')\n",
    "\n",
    "        \n",
    "        self.proc_df.drop(labels='index', axis=1, inplace=True)\n",
    "        \n",
    "        toc = time.perf_counter()\n",
    "        if self.verbose:\n",
    "            print(\"Step 5: find_victims_in_room() completed. Elapsed time: {:.5f}\".format(toc - tic))\n",
    "        \n",
    "    def _set_role(self):\n",
    "        tic = time.perf_counter()\n",
    "        \n",
    "        assert all(p in self.player_role.keys() for p in self.player_names), \"unknown player {}\".format(p)\n",
    "        # Insert next to 'player_ID' column\n",
    "        col_id = list(self.proc_df.columns).index('player_ID') + 1\n",
    "        self.proc_df.insert(col_id, 'player_role', self.proc_df['player_ID'].apply(lambda n: self.player_role[n]))\n",
    "        \n",
    "        toc = time.perf_counter()\n",
    "        if self.verbose:\n",
    "            print(\"Step 6: set_role() completed. Elapsed time: {:.5f}\".format(toc - tic))\n",
    "        \n",
    "    def _victim_in_FOV(self):\n",
    "        # Determine if victims are in field of view of each player\n",
    "        # Always false if the victim is not in the same room with the player\n",
    "        tic = time.perf_counter()\n",
    "        \n",
    "        # Util function to be applied to each rows to generate new column\n",
    "        def in_FOV(row):\n",
    "            result = ['False', 'None', 'None', 'None'] * self.max_victims_per_room\n",
    "            \n",
    "            player_loc = tuple([row['x'], row['y'], row['z']])\n",
    "            pitch, yaw = row['pitch'], row['yaw']\n",
    "            for i in range(row['num_victims']):\n",
    "                vic_loc = row['victim_{}_loc'.format(i)]\n",
    "                result[4*i], result[4*i + 1], result[4*i + 2] = CanSee(player_loc, vic_loc, pitch, yaw)\n",
    "                result[4*i] = str(result[4*i])\n",
    "                # Calculate 2D angel degree\n",
    "                result[4*i + 3] = np.sqrt(np.square(result[4*i + 1]) + np.square(result[4*i + 2]))\n",
    "                \n",
    "            return result\n",
    "\n",
    "        new_cols = []\n",
    "        for i in range(self.max_victims_per_room):\n",
    "            new_cols += ['victim_{}_in_FOV'.format(i), \n",
    "                         'victim_{}_angel_yaw_deg'.format(i), \n",
    "                         'victim_{}_angel_pitch_deg'.format(i), \n",
    "                         'victim_{}_angel_2D_deg'.format(i)]\n",
    "        self.proc_df[new_cols] = self.proc_df.apply(in_FOV, axis=1, result_type='expand')\n",
    "        \n",
    "        # Using debug mode of the FOV function and propagate debug results\n",
    "#         def in_FOV_DEBUG(row):\n",
    "#             result = ['False', 'None', 'None',] * self.max_victims_per_room\n",
    "            \n",
    "#             player_loc = tuple([row['x'], row['y'], row['z']])\n",
    "#             pitch, yaw = row['pitch'], row['yaw']\n",
    "#             for i in range(row['num_victims']):\n",
    "#                 vic_loc = row['victim_{}_loc'.format(i)]\n",
    "#                 tmp_result = CanSee(player_loc, vic_loc, pitch, yaw, debug=True)\n",
    "#                 result[3*i], result[3*i + 1], result[3*i + 2] = str(tmp_result[0]), tmp_result[1], tmp_result[2]\n",
    "                \n",
    "#             return result\n",
    "        \n",
    "#         new_cols = []\n",
    "#         for i in range(self.max_victims_per_room):\n",
    "#             new_cols += ['victim_{}_in_FOV'.format(i), 'victim_{}_angle_yaw_deg'.format(i), 'victim_{}_angle_pitch_deg'.format(i)]\n",
    "        \n",
    "#         self.proc_df[new_cols] = self.proc_df.apply(in_FOV_DEBUG, axis=1, result_type='expand')\n",
    "        \n",
    "        toc = time.perf_counter()\n",
    "        if self.verbose:\n",
    "            print(\"Step 7: victim_in_FOV() completed. Elapsed time: {:.5f}\".format(toc - tic))\n",
    "        \n",
    "        \n",
    "    def _victim_in_triage_position(self):\n",
    "        # Determine whether the victim is in FOV AND within max triage distance of the player\n",
    "        # Only works for triager\n",
    "        tic = time.perf_counter()\n",
    "        \n",
    "        # util function\n",
    "        def in_TP(row):\n",
    "            result = ['False'] * self.max_victims_per_room\n",
    "            \n",
    "            if row['player_role'] == 'Triager':\n",
    "                for i in range(row['num_victims']):\n",
    "                    result[i] = str(row['victim_{}_in_FOV'.format(i)] == 'True' and float(row['victim_{}_dist'.format(i)]) <= self.max_triage_dist)\n",
    "                    \n",
    "            return result\n",
    "        \n",
    "        new_cols = list('victim_{}_in_triage_pos'.format(i) for i in range(self.max_victims_per_room))\n",
    "        self.proc_df[new_cols] = self.proc_df.apply(in_TP, axis=1, result_type='expand')\n",
    "        \n",
    "        toc = time.perf_counter()\n",
    "        if self.verbose:\n",
    "            print(\"Step 8: victim_in_triage_position() completed. Elapsed time: {:.5f}\".format(toc - tic))\n",
    "        \n",
    "        \n",
    "    def _victim_in_cross_hair(self):\n",
    "        # Sets 'victim_in_crosshair_id' and 'victim_in_cross_hair_color'\n",
    "        # Determine if victim is in the cross hair of each player. Criteria: victim in triage position & smallest angel_yaw_degree + angle_pitch_degree\n",
    "        # Only consider True if player is a triager\n",
    "        tic = time.perf_counter()\n",
    "        \n",
    "        # util function to be applied per row\n",
    "        def in_CH(row):\n",
    "            in_triage_pos = [row['victim_{}_in_triage_pos'.format(i)] == 'True' for i in range(self.max_victims_per_room)]\n",
    "            angel_2D_deg = [row['victim_{}_angel_2D_deg'.format(i)] for i in range(self.max_victims_per_room)]\n",
    "            CH_id = -1\n",
    "            for i in range(self.max_victims_per_room):\n",
    "                if not in_triage_pos[i]:\n",
    "                    continue\n",
    "                if CH_id < 0:\n",
    "                    CH_id = i\n",
    "                else:\n",
    "                    if angel_2D_deg[i] < angel_2D_deg[CH_id]:\n",
    "                        CH_id = i\n",
    "            if CH_id < 0:\n",
    "                results = ['None', 'None']\n",
    "            else:\n",
    "                results = [row['victim_{}_id'.format(CH_id)], row['victim_{}_color'.format(CH_id)]]\n",
    "            return results\n",
    "        \n",
    "        new_cols = ['victim_in_crosshair_id', 'victim_in_cross_hair_color']\n",
    "        self.proc_df[new_cols] = self.proc_df.apply(in_CH, axis=1, result_type='expand')\n",
    "        \n",
    "        toc = time.perf_counter()\n",
    "        if self.verbose:\n",
    "            print(\"Step 9: victim_in_cross_hair() completed. Elapsed time: {:.5f}\".format(toc - tic))\n",
    "\n",
    "        \n",
    "    def _portal_in_FOV(self):\n",
    "        # Sets 'portal_{}_in_FOV' with distance in ascending order, 'portal_{}_dist' and 'portal_{}_next_room'\n",
    "        tic = time.perf_counter()\n",
    "        \n",
    "        # Util function to be applied to each row of proc_df\n",
    "        def info_doors_in_FOV(row):\n",
    "            # Return max_portal_in_FOV number of groups of results. \n",
    "            #   Each group contains 3 fields: 'door_{}_in_FOV', 'portal_{}_dist', and 'portal_{}_next_room'. \n",
    "            #   The groups are sorted in ascending order based on distance\n",
    "            result = ['None', 0, 'None',] * self.max_portal_in_FOV\n",
    "\n",
    "            player_loc = tuple([row['x'], row['y'], row['z']])\n",
    "            player_y = row['y']\n",
    "            pitch, yaw = row['pitch'], row['yaw']\n",
    "            room = row['Room_in']\n",
    "\n",
    "            # Util function to be applied to each row of door_df\n",
    "            def in_FOV(row):\n",
    "                # Check if the door is in the same room as the player\n",
    "                if room != row['Room0'] and room != row['Room1']:\n",
    "                    return [False, 0]\n",
    "\n",
    "                door_loc = tuple([row['x_mid'], player_y, row['z_mid']])\n",
    "                can_see, _, _ = CanSee(player_loc, door_loc, pitch, yaw)\n",
    "                horiz_dist = math.sqrt(math.pow(door_loc[0] - player_loc[0], 2) + math.pow(door_loc[2] - player_loc[2], 2))\n",
    "\n",
    "                return [can_see, (horiz_dist if can_see else 0)]\n",
    "\n",
    "            info = self.door_df.apply(in_FOV, axis=1, result_type='expand')\n",
    "            info.columns = ['labels', 'dist']\n",
    "            portal_group = pd.concat([self.door_df, info], axis=1).groupby(by='labels')\n",
    "\n",
    "            if True in portal_group.groups.keys():\n",
    "                sorted_portals = portal_group.get_group(True).sort_values(by='dist', axis=0, ascending=True)\n",
    "                sorted_portals = sorted_portals.reset_index().drop('index', axis=1)\n",
    "                sorted_portals = sorted_portals.iloc[:self.max_portal_in_FOV]\n",
    "                for index, row in sorted_portals.iterrows(): \n",
    "                    result[3*index], result[3*index + 1], result[3*index + 2] = row['Index'], row['dist'], row['Room0'] if row['Room0'] != room else row['Room1']\n",
    "\n",
    "            return result\n",
    "        \n",
    "        new_cols = []\n",
    "        for i in range(self.max_portal_in_FOV):\n",
    "            new_cols += ['portal_{}_in_FOV'.format(i), 'portal_{}_dist'.format(i), 'portal_{}_next_room'.format(i)]\n",
    "        self.proc_df[new_cols] = self.proc_df.apply(info_doors_in_FOV, axis=1, result_type='expand')\n",
    "        \n",
    "        toc = time.perf_counter()\n",
    "        if self.verbose:\n",
    "            print(\"Step 10: portal_in_FOV() completed. {:.5f}\".format(toc - tic))\n",
    "        \n",
    "    \n",
    "    def _identify_triage_id(self):\n",
    "        # Sets 'victim_id' and 'proc_df_id' field in triage dataframe\n",
    "        # Identify the victim id corresponding to each of the triaging event\n",
    "        tic = time.perf_counter()\n",
    "        \n",
    "        self.triage_df[['victim_id', 'victim_color']] = self.triage_df.apply(lambda row: \n",
    "                                                           self.victim_df.loc[(self.victim_df['x'] == row['victim_x']) &\n",
    "                                                                              (self.victim_df['y'] == row['victim_y']) &\n",
    "                                                                              (self.victim_df['z'] == row['victim_z'])][['Index', 'Color']].iloc[0], \n",
    "                                                           axis=1)\n",
    "        # Identify index of row entry in the main datafram proc_df_id that has closest timestamp to each entry in triage df\n",
    "        # Util function for finding index of entry:\n",
    "        def find_id(row):\n",
    "            abs_diff = (pd.to_datetime(self.proc_df.loc[self.proc_df['player_ID'] == row['player_ID']]['@timestamp']) \n",
    "                                                         - pd.to_datetime(row['@timestamp'])).abs()\n",
    "            pos = abs_diff.argsort().iloc[0]\n",
    "            index = abs_diff.index[pos]\n",
    "            return index\n",
    "        \n",
    "        # Using parallelism if specified\n",
    "        if using_parallel:\n",
    "            self.triage_df['proc_df_id'] = self.triage_df.parallel_apply(find_id, axis=1)\n",
    "        else:\n",
    "            self.triage_df['proc_df_id'] = self.triage_df.apply(find_id, axis=1)\n",
    "\n",
    "        # Drop duplicates\n",
    "        self.triage_df = self.triage_df.drop_duplicates(subset=self.triage_df.columns.drop('@timestamp'), keep='last')\n",
    "        self.triage_df = self.triage_df.reset_index().drop('index', axis=1)\n",
    "        \n",
    "        # Check that victim id agrees in triage df and in 'crosshair' field in proc_df\n",
    "        combined_col_labels = list(self.proc_df.columns) + ['triage_state', 'victim_id', 'proc_df_id']\n",
    "        self.conflict_victim_df = pd.DataFrame(columns=combined_col_labels)\n",
    "        for index, row in self.triage_df.iterrows():\n",
    "            if not row['victim_id'] == self.proc_df['victim_in_crosshair_id'].iloc[row['proc_df_id']]:\n",
    "                if self.verbose:\n",
    "                    warn(\"Found conflict of victim entries. Found victim_id '{}' at index '{}' in triage_df, whereas victim_id '{}' in the crosshair \" \\\n",
    "                         \"field at index '{}' in proc_df \\n\\tvictim\"\\\n",
    "                         .format(row['victim_id'], index, self.proc_df['victim_in_crosshair_id'].iloc[row['proc_df_id']], row['proc_df_id']))\n",
    "                combined_row = self.proc_df.iloc[row['proc_df_id']].append(row[['triage_state', 'victim_id', 'proc_df_id']])\n",
    "                self.conflict_victim_df = self.conflict_victim_df.append(combined_row, ignore_index=True)\n",
    "        \n",
    "        new_col_labels = list(self.proc_df.columns) + ['event_triage_state', 'event_victim_id', 'proc_df_id']\n",
    "        self.conflict_victim_df.columns = new_col_labels\n",
    "        \n",
    "        if self.conflict_victim_df.shape[0] > 0:\n",
    "            # Map player locations to original values without offset, rounded to integer\n",
    "            self.conflict_victim_df[['x', 'y', 'z']] = self.conflict_victim_df.apply(lambda row: [row['x'] - self.x_offset, row['y'] - self.y_offset, row['z'] - self.z_offset], \n",
    "                                                                                     axis=1, result_type = 'expand')\n",
    "            # Transpose the dataframe for better visual\n",
    "            self.conflict_victim_df = self.conflict_victim_df.transpose()\n",
    "\n",
    "            path = os.path.join(os.getcwd(), \"conflict_victims\")\n",
    "            if not os.path.exists(path):\n",
    "                os.makedirs(path)\n",
    "            conflict_filename = \"conflct_{}.csv\".format(datetime.now().strftime(\"%m-%dT%H-%M-%S\"))\n",
    "            self.conflict_victim_df.to_csv(os.path.join(path, conflict_filename))\n",
    "\n",
    "#             if self.verbose:\n",
    "            print(\"\\nConflict entries saved to {}\\n\".format(os.path.join(path, conflict_filename)))\n",
    "        else:\n",
    "            print(\"\\nCONGRATULATIONS No conflict entries found!\\n\")\n",
    "        \n",
    "        # Publish the victim id to proc_df\n",
    "        self.proc_df['event_triage_victim_id'] = 'None'\n",
    "        for index, row in self.triage_df.iterrows():\n",
    "            self.proc_df['event_triage_victim_id'].iloc[row['proc_df_id']] = row['victim_id']\n",
    "        \n",
    "        toc = time.perf_counter()\n",
    "        if self.verbose:\n",
    "            print(\"Step 11: identify_triage_id() completed. {:.5f}\".format(toc - tic))\n",
    "    \n",
    "    \n",
    "    def _set_triage_in_progress(self):\n",
    "        # Sets 'triage_in_progress' and 'triage_result' field\n",
    "        # Based on event df, determine if the player is triaging the victim that is in its crosshair\n",
    "        tic = time.perf_counter()\n",
    "        \n",
    "        # First add new columns and set with default value 'False' to 'triage_in_progress' and 'None' to 'triage_result'\n",
    "        self.proc_df['triage_in_progress'] = 'False'\n",
    "        self.proc_df['triage_result'] = 'None'\n",
    "        \n",
    "        # Group triage df by the triage state. Get the group where state is IN_PROGRESS. Iterate through rows of this group\n",
    "        in_prog_group = self.triage_df.groupby(by='triage_state').get_group(\"IN_PROGRESS\")\n",
    "        for index, row in in_prog_group.iterrows():\n",
    "            if index == self.triage_df.shape[0] - 1 and self.verbose:\n",
    "                warn(\"\\n Found a 'Triage In Progress' event as the last triage event with no result at index {} of the \" \n",
    "                     \"triage dataframe. This event will NOT be registered in the main dataframe.\".format(index))\n",
    "            # Find the result of this triage episode by looking up next row in triage_df\n",
    "            next_row = self.triage_df.iloc[index + 1]\n",
    "            proc_df_id_1 = row['proc_df_id']\n",
    "            proc_df_id_2, result, victim_id = next_row['proc_df_id'], next_row['triage_state'], next_row['victim_id']\n",
    "            \n",
    "            if result not in ['SUCCESSFUL', 'UNSUCCESSFUL'] and self.verbose:\n",
    "                warn(\"\\nExpect 'SUCCESSFUL' or 'UNSUCCESSFUL' triage state in the next row entry of triage dataframe, \"\n",
    "                     \"but found {} at row index {}\".format(result, index + 1))\n",
    "            \n",
    "            # Backfill data\n",
    "            self.proc_df['triage_in_progress'].iloc[proc_df_id_1:proc_df_id_2 + 1] = 'True'\n",
    "            self.proc_df['triage_result'].iloc[proc_df_id_1:proc_df_id_2 + 1] = result\n",
    "            self.proc_df['event_triage_victim_id'].iloc[proc_df_id_1:proc_df_id_2 + 1] = victim_id\n",
    "            \n",
    "        toc = time.perf_counter()\n",
    "        if self.verbose:\n",
    "            print(\"Step 12: set_triage_in_progress() completed. {:.5f}\".format(toc - tic))\n",
    "            \n",
    "    def _update_victim_color(self):\n",
    "        # Update the victim color to White once they are successfully triaged\n",
    "        tic = time.perf_counter()\n",
    "        \n",
    "        # Util function to be appied to triage_df row by row\n",
    "        def update_by_row(row):\n",
    "            if row['triage_state'] != 'SUCCESSFUL':\n",
    "                return\n",
    "            vic_id = row['victim_id']\n",
    "            proc_df_id = row['proc_df_id']\n",
    "            # Update 'victim_{}_color' field\n",
    "            for pos in range(self.max_victims_per_room):\n",
    "                self.proc_df.loc[(self.proc_df['victim_{}_id'.format(pos)] == vic_id) & \n",
    "                                 (self.proc_df.index >= proc_df_id), 'victim_{}_color'.format(pos)] = 'White'\n",
    "            # Update 'victim_in_cross_hair_color' field\n",
    "            self.proc_df.loc[(self.proc_df['victim_in_crosshair_id'] == vic_id) &\n",
    "                             (self.proc_df.index >= proc_df_id), 'victim_in_crosshair_color'] = 'White'\n",
    "\n",
    "        # Apply function to triage_df\n",
    "        self.triage_df.apply(update_by_row, axis=1)    \n",
    "        \n",
    "        \n",
    "        toc = time.perf_counter()\n",
    "        if self.verbose:\n",
    "            print(\"Step 13: update_victim_color() completed. {:.5f}\".format(toc - tic))\n",
    "        \n",
    "        \n",
    "    def _set_sensor_state(self):\n",
    "        # Iterate through all event identifiers and find the occurrence of each in the event dataframe\n",
    "        # If found event occurence, find the closest row entry in proc_df dataframe in time and set value of corresponding \n",
    "        #     column \n",
    "        tic = time.perf_counter()\n",
    "        \n",
    "        # Add sensor state column\n",
    "        self.proc_df['sensor_state'] = 'None'\n",
    "        \n",
    "        # Util function that sets field value of proc_df row that is closet in time\n",
    "        def find_id(row):\n",
    "            abs_diff = (pd.to_datetime(self.proc_df['@timestamp']) - pd.to_datetime(row['@timestamp'])).abs()\n",
    "            pos = abs_diff.argsort().iloc[0]\n",
    "            index = abs_diff.index[pos]\n",
    "            \n",
    "            if self.proc_df['sensor_state'].iloc[index] == 'None':\n",
    "                self.proc_df['sensor_state'].iloc[index] = row['subtype']\n",
    "            elif self.proc_df['sensor_state'].iloc[index] != row['subtype']:\n",
    "                self.proc_df['sensor_state'].iloc[index] += \",\" + row['subtype']\n",
    "        \n",
    "        # Pick sensor beeping events\n",
    "        for event_str in self.sensor_events:\n",
    "            sensor_df = self.event_df.loc[self.event_df['subtype'] == event_str]\n",
    "            sensor_df.apply(find_id, axis=1)\n",
    "        \n",
    "        toc = time.perf_counter()\n",
    "        if self.verbose:\n",
    "            print(\"Step 14: set_sensor_state() completed. {:.5f}\".format(toc - tic))\n",
    "        "
   ]
  },
  {
   "cell_type": "markdown",
   "metadata": {},
   "source": [
    "## CSV Data"
   ]
  },
  {
   "cell_type": "code",
   "execution_count": 95,
   "metadata": {},
   "outputs": [],
   "source": [
    "# File locations and other parameters\n",
    "main_data_path = \"/mnt/sda2/projects/ASIST/ASIST-Sigma/data2/8-13/raw\"\n",
    "env_data_path = \"/mnt/sda2/projects/ASIST/ASIST-Sigma/data2/falcon\"\n",
    "\n",
    "event_obs_file_name = \"20200810_Participant9_Cond1_1of2.csv\"\n",
    "\n",
    "room_csv_name = \"ASIST_FalconMap_Rooms_v1.1_OCN.csv\"\n",
    "door_csv_name = \"ASIST_FalconMap_Portals_v1.1_OCN.csv\"\n",
    "victim_csv_name = \"ASIST_FalconMap_Victims_v1.1_OCN.csv\"\n",
    "\n"
   ]
  },
  {
   "cell_type": "code",
   "execution_count": 96,
   "metadata": {},
   "outputs": [],
   "source": [
    "self = DataLoader()"
   ]
  },
  {
   "cell_type": "code",
   "execution_count": 97,
   "metadata": {
    "scrolled": true
   },
   "outputs": [
    {
     "name": "stderr",
     "output_type": "stream",
     "text": [
      "/home/jincheng/anaconda3/lib/python3.7/site-packages/ipykernel_launcher.py:91: SettingWithCopyWarning: \n",
      "A value is trying to be set on a copy of a slice from a DataFrame.\n",
      "Try using .loc[row_indexer,col_indexer] = value instead\n",
      "\n",
      "See the caveats in the documentation: http://pandas.pydata.org/pandas-docs/stable/indexing.html#indexing-view-versus-copy\n",
      "/home/jincheng/anaconda3/lib/python3.7/site-packages/ipykernel_launcher.py:111: UserWarning: \n",
      "No 'mission_state == STOP' event found. Entries late in time will not be chopped off\n",
      "\n"
     ]
    },
    {
     "ename": "ValueError",
     "evalue": "Columns must be same length as key",
     "output_type": "error",
     "traceback": [
      "\u001b[0;31m---------------------------------------------------------------------------\u001b[0m",
      "\u001b[0;31mValueError\u001b[0m                                Traceback (most recent call last)",
      "\u001b[0;32m<ipython-input-97-292bccb9abb3>\u001b[0m in \u001b[0;36m<module>\u001b[0;34m\u001b[0m\n\u001b[1;32m      1\u001b[0m \u001b[0;31m# Load main data file\u001b[0m\u001b[0;34m\u001b[0m\u001b[0;34m\u001b[0m\u001b[0;34m\u001b[0m\u001b[0m\n\u001b[0;32m----> 2\u001b[0;31m \u001b[0mself\u001b[0m\u001b[0;34m.\u001b[0m\u001b[0mload_csv\u001b[0m\u001b[0;34m(\u001b[0m\u001b[0mmain_data_path\u001b[0m\u001b[0;34m,\u001b[0m \u001b[0mevent_obs_file_name\u001b[0m\u001b[0;34m)\u001b[0m\u001b[0;34m\u001b[0m\u001b[0;34m\u001b[0m\u001b[0m\n\u001b[0m\u001b[1;32m      3\u001b[0m \u001b[0;34m\u001b[0m\u001b[0m\n\u001b[1;32m      4\u001b[0m \u001b[0;31m# Load map data, including room, door, and victim locations\u001b[0m\u001b[0;34m\u001b[0m\u001b[0;34m\u001b[0m\u001b[0;34m\u001b[0m\u001b[0m\n\u001b[1;32m      5\u001b[0m \u001b[0mself\u001b[0m\u001b[0;34m.\u001b[0m\u001b[0mload_map\u001b[0m\u001b[0;34m(\u001b[0m\u001b[0menv_data_path\u001b[0m\u001b[0;34m,\u001b[0m \u001b[0mroom_csv_name\u001b[0m\u001b[0;34m,\u001b[0m \u001b[0mdoor_csv_name\u001b[0m\u001b[0;34m,\u001b[0m \u001b[0mvictim_csv_name\u001b[0m\u001b[0;34m)\u001b[0m\u001b[0;34m\u001b[0m\u001b[0;34m\u001b[0m\u001b[0m\n",
      "\u001b[0;32m<ipython-input-88-06078a1f51a3>\u001b[0m in \u001b[0;36mload_csv\u001b[0;34m(self, path, file_name)\u001b[0m\n\u001b[1;32m     41\u001b[0m         \u001b[0mself\u001b[0m\u001b[0;34m.\u001b[0m\u001b[0mraw_df\u001b[0m \u001b[0;34m=\u001b[0m \u001b[0mpd\u001b[0m\u001b[0;34m.\u001b[0m\u001b[0mread_csv\u001b[0m\u001b[0;34m(\u001b[0m\u001b[0mos\u001b[0m\u001b[0;34m.\u001b[0m\u001b[0mpath\u001b[0m\u001b[0;34m.\u001b[0m\u001b[0mjoin\u001b[0m\u001b[0;34m(\u001b[0m\u001b[0mpath\u001b[0m\u001b[0;34m,\u001b[0m \u001b[0mfile_name\u001b[0m\u001b[0;34m)\u001b[0m\u001b[0;34m,\u001b[0m \u001b[0mthousands\u001b[0m\u001b[0;34m=\u001b[0m\u001b[0;34m\",\"\u001b[0m\u001b[0;34m)\u001b[0m\u001b[0;34m[\u001b[0m\u001b[0;34m[\u001b[0m\u001b[0;34m'message'\u001b[0m\u001b[0;34m]\u001b[0m\u001b[0;34m]\u001b[0m\u001b[0;34m\u001b[0m\u001b[0;34m\u001b[0m\u001b[0m\n\u001b[1;32m     42\u001b[0m         \u001b[0;31m# Initial processing\u001b[0m\u001b[0;34m\u001b[0m\u001b[0;34m\u001b[0m\u001b[0;34m\u001b[0m\u001b[0m\n\u001b[0;32m---> 43\u001b[0;31m         \u001b[0mself\u001b[0m\u001b[0;34m.\u001b[0m\u001b[0m_init_df\u001b[0m\u001b[0;34m(\u001b[0m\u001b[0;34m)\u001b[0m\u001b[0;34m\u001b[0m\u001b[0;34m\u001b[0m\u001b[0m\n\u001b[0m\u001b[1;32m     44\u001b[0m \u001b[0;34m\u001b[0m\u001b[0m\n\u001b[1;32m     45\u001b[0m     \u001b[0;32mdef\u001b[0m \u001b[0mload_json\u001b[0m\u001b[0;34m(\u001b[0m\u001b[0mself\u001b[0m\u001b[0;34m,\u001b[0m \u001b[0mpath\u001b[0m\u001b[0;34m,\u001b[0m \u001b[0mfile_name\u001b[0m\u001b[0;34m)\u001b[0m\u001b[0;34m:\u001b[0m\u001b[0;34m\u001b[0m\u001b[0;34m\u001b[0m\u001b[0m\n",
      "\u001b[0;32m<ipython-input-88-06078a1f51a3>\u001b[0m in \u001b[0;36m_init_df\u001b[0;34m(self)\u001b[0m\n\u001b[1;32m    118\u001b[0m                                               \u001b[0mrow\u001b[0m\u001b[0;34m[\u001b[0m\u001b[0;34m'data'\u001b[0m\u001b[0;34m]\u001b[0m\u001b[0;34m[\u001b[0m\u001b[0;34m'victim_x'\u001b[0m\u001b[0;34m]\u001b[0m\u001b[0;34m,\u001b[0m\u001b[0;34m\u001b[0m\u001b[0;34m\u001b[0m\u001b[0m\n\u001b[1;32m    119\u001b[0m                                               \u001b[0mrow\u001b[0m\u001b[0;34m[\u001b[0m\u001b[0;34m'data'\u001b[0m\u001b[0;34m]\u001b[0m\u001b[0;34m[\u001b[0m\u001b[0;34m'victim_y'\u001b[0m\u001b[0;34m]\u001b[0m\u001b[0;34m,\u001b[0m\u001b[0;34m\u001b[0m\u001b[0;34m\u001b[0m\u001b[0m\n\u001b[0;32m--> 120\u001b[0;31m                                               row['data']['victim_z']], axis=1, result_type='expand')\n\u001b[0m\u001b[1;32m    121\u001b[0m         \u001b[0;31m# Only select entries with player ID pre-specified\u001b[0m\u001b[0;34m\u001b[0m\u001b[0;34m\u001b[0m\u001b[0;34m\u001b[0m\u001b[0m\n\u001b[1;32m    122\u001b[0m         \u001b[0;32mif\u001b[0m \u001b[0mself\u001b[0m\u001b[0;34m.\u001b[0m\u001b[0mplayer_names\u001b[0m \u001b[0;32mis\u001b[0m \u001b[0;32mnot\u001b[0m \u001b[0;32mNone\u001b[0m\u001b[0;34m:\u001b[0m\u001b[0;34m\u001b[0m\u001b[0;34m\u001b[0m\u001b[0m\n",
      "\u001b[0;32m~/anaconda3/lib/python3.7/site-packages/pandas/core/frame.py\u001b[0m in \u001b[0;36m__setitem__\u001b[0;34m(self, key, value)\u001b[0m\n\u001b[1;32m   3365\u001b[0m             \u001b[0mself\u001b[0m\u001b[0;34m.\u001b[0m\u001b[0m_setitem_frame\u001b[0m\u001b[0;34m(\u001b[0m\u001b[0mkey\u001b[0m\u001b[0;34m,\u001b[0m \u001b[0mvalue\u001b[0m\u001b[0;34m)\u001b[0m\u001b[0;34m\u001b[0m\u001b[0;34m\u001b[0m\u001b[0m\n\u001b[1;32m   3366\u001b[0m         \u001b[0;32melif\u001b[0m \u001b[0misinstance\u001b[0m\u001b[0;34m(\u001b[0m\u001b[0mkey\u001b[0m\u001b[0;34m,\u001b[0m \u001b[0;34m(\u001b[0m\u001b[0mSeries\u001b[0m\u001b[0;34m,\u001b[0m \u001b[0mnp\u001b[0m\u001b[0;34m.\u001b[0m\u001b[0mndarray\u001b[0m\u001b[0;34m,\u001b[0m \u001b[0mlist\u001b[0m\u001b[0;34m,\u001b[0m \u001b[0mIndex\u001b[0m\u001b[0;34m)\u001b[0m\u001b[0;34m)\u001b[0m\u001b[0;34m:\u001b[0m\u001b[0;34m\u001b[0m\u001b[0;34m\u001b[0m\u001b[0m\n\u001b[0;32m-> 3367\u001b[0;31m             \u001b[0mself\u001b[0m\u001b[0;34m.\u001b[0m\u001b[0m_setitem_array\u001b[0m\u001b[0;34m(\u001b[0m\u001b[0mkey\u001b[0m\u001b[0;34m,\u001b[0m \u001b[0mvalue\u001b[0m\u001b[0;34m)\u001b[0m\u001b[0;34m\u001b[0m\u001b[0;34m\u001b[0m\u001b[0m\n\u001b[0m\u001b[1;32m   3368\u001b[0m         \u001b[0;32melse\u001b[0m\u001b[0;34m:\u001b[0m\u001b[0;34m\u001b[0m\u001b[0;34m\u001b[0m\u001b[0m\n\u001b[1;32m   3369\u001b[0m             \u001b[0;31m# set column\u001b[0m\u001b[0;34m\u001b[0m\u001b[0;34m\u001b[0m\u001b[0;34m\u001b[0m\u001b[0m\n",
      "\u001b[0;32m~/anaconda3/lib/python3.7/site-packages/pandas/core/frame.py\u001b[0m in \u001b[0;36m_setitem_array\u001b[0;34m(self, key, value)\u001b[0m\n\u001b[1;32m   3387\u001b[0m             \u001b[0;32mif\u001b[0m \u001b[0misinstance\u001b[0m\u001b[0;34m(\u001b[0m\u001b[0mvalue\u001b[0m\u001b[0;34m,\u001b[0m \u001b[0mDataFrame\u001b[0m\u001b[0;34m)\u001b[0m\u001b[0;34m:\u001b[0m\u001b[0;34m\u001b[0m\u001b[0;34m\u001b[0m\u001b[0m\n\u001b[1;32m   3388\u001b[0m                 \u001b[0;32mif\u001b[0m \u001b[0mlen\u001b[0m\u001b[0;34m(\u001b[0m\u001b[0mvalue\u001b[0m\u001b[0;34m.\u001b[0m\u001b[0mcolumns\u001b[0m\u001b[0;34m)\u001b[0m \u001b[0;34m!=\u001b[0m \u001b[0mlen\u001b[0m\u001b[0;34m(\u001b[0m\u001b[0mkey\u001b[0m\u001b[0;34m)\u001b[0m\u001b[0;34m:\u001b[0m\u001b[0;34m\u001b[0m\u001b[0;34m\u001b[0m\u001b[0m\n\u001b[0;32m-> 3389\u001b[0;31m                     \u001b[0;32mraise\u001b[0m \u001b[0mValueError\u001b[0m\u001b[0;34m(\u001b[0m\u001b[0;34m'Columns must be same length as key'\u001b[0m\u001b[0;34m)\u001b[0m\u001b[0;34m\u001b[0m\u001b[0;34m\u001b[0m\u001b[0m\n\u001b[0m\u001b[1;32m   3390\u001b[0m                 \u001b[0;32mfor\u001b[0m \u001b[0mk1\u001b[0m\u001b[0;34m,\u001b[0m \u001b[0mk2\u001b[0m \u001b[0;32min\u001b[0m \u001b[0mzip\u001b[0m\u001b[0;34m(\u001b[0m\u001b[0mkey\u001b[0m\u001b[0;34m,\u001b[0m \u001b[0mvalue\u001b[0m\u001b[0;34m.\u001b[0m\u001b[0mcolumns\u001b[0m\u001b[0;34m)\u001b[0m\u001b[0;34m:\u001b[0m\u001b[0;34m\u001b[0m\u001b[0;34m\u001b[0m\u001b[0m\n\u001b[1;32m   3391\u001b[0m                     \u001b[0mself\u001b[0m\u001b[0;34m[\u001b[0m\u001b[0mk1\u001b[0m\u001b[0;34m]\u001b[0m \u001b[0;34m=\u001b[0m \u001b[0mvalue\u001b[0m\u001b[0;34m[\u001b[0m\u001b[0mk2\u001b[0m\u001b[0;34m]\u001b[0m\u001b[0;34m\u001b[0m\u001b[0;34m\u001b[0m\u001b[0m\n",
      "\u001b[0;31mValueError\u001b[0m: Columns must be same length as key"
     ]
    }
   ],
   "source": [
    "# Load main data file\n",
    "self.load_csv(main_data_path, event_obs_file_name)\n",
    "\n",
    "# Load map data, including room, door, and victim locations\n",
    "self.load_map(env_data_path, room_csv_name, door_csv_name, victim_csv_name)\n",
    "\n",
    "# Set frequency -- number of entries per second. Will be spreaded evenly in time\n",
    "self.set_num_entries_per_sec(2)       # Set to select 2 entries per second. Divided equally in time\n",
    "\n",
    "# Sets sensor event subtype string\n",
    "self.add_sensor_event_subtype('Event:Beep')\n",
    "self.add_sensor_event_subtype('Event:Woof')"
   ]
  },
  {
   "cell_type": "code",
   "execution_count": 99,
   "metadata": {},
   "outputs": [
    {
     "data": {
      "text/html": [
       "<div>\n",
       "<style scoped>\n",
       "    .dataframe tbody tr th:only-of-type {\n",
       "        vertical-align: middle;\n",
       "    }\n",
       "\n",
       "    .dataframe tbody tr th {\n",
       "        vertical-align: top;\n",
       "    }\n",
       "\n",
       "    .dataframe thead th {\n",
       "        text-align: right;\n",
       "    }\n",
       "</style>\n",
       "<table border=\"1\" class=\"dataframe\">\n",
       "  <thead>\n",
       "    <tr style=\"text-align: right;\">\n",
       "      <th></th>\n",
       "      <th>message</th>\n",
       "      <th>content</th>\n",
       "      <th>content_keys</th>\n",
       "      <th>@timestamp</th>\n",
       "      <th>message_type</th>\n",
       "      <th>msg</th>\n",
       "      <th>data</th>\n",
       "      <th>subtype</th>\n",
       "    </tr>\n",
       "  </thead>\n",
       "  <tbody>\n",
       "  </tbody>\n",
       "</table>\n",
       "</div>"
      ],
      "text/plain": [
       "Empty DataFrame\n",
       "Columns: [message, content, content_keys, @timestamp, message_type, msg, data, subtype]\n",
       "Index: []"
      ]
     },
     "execution_count": 99,
     "metadata": {},
     "output_type": "execute_result"
    }
   ],
   "source": [
    "self.triage_df"
   ]
  },
  {
   "cell_type": "code",
   "execution_count": 61,
   "metadata": {},
   "outputs": [
    {
     "name": "stdout",
     "output_type": "stream",
     "text": [
      "Step 1: df_by_sec() completed. Elapsed time: 0.01166\n",
      "Step 2: adjust_loc() completed. Elapsed time: 0.02068\n",
      "Step 3: check_victim_in_room() completed. Elapsed time: 0.04681\n",
      "Step 4: find_room_in() completed. Elapsed time: 8.86072\n",
      "Step 4.5: find_portal_in() completed. Elapsed time: 9.03647\n",
      "Step 5: find_victims_in_room() completed. Elapsed time: 3.21897\n",
      "Step 6: set_role() completed. Elapsed time: 0.00091\n",
      "Step 7: victim_in_FOV() completed. Elapsed time: 0.38636\n",
      "Step 8: victim_in_triage_position() completed. Elapsed time: 0.19237\n",
      "Step 9: victim_in_cross_hair() completed. Elapsed time: 0.30336\n",
      "Step 10: portal_in_FOV() completed. 19.04947\n"
     ]
    },
    {
     "name": "stderr",
     "output_type": "stream",
     "text": [
      "/home/jincheng/anaconda3/lib/python3.7/site-packages/ipykernel_launcher.py:669: UserWarning: Found conflict of victim entries. Found victim_id '24' at index '68' in triage_df, whereas victim_id '25' in the crosshair field at index '925' in proc_df \n",
      "\tvictim\n",
      "/home/jincheng/anaconda3/lib/python3.7/site-packages/ipykernel_launcher.py:669: UserWarning: Found conflict of victim entries. Found victim_id '20' at index '81' in triage_df, whereas victim_id '19' in the crosshair field at index '1151' in proc_df \n",
      "\tvictim\n",
      "/home/jincheng/anaconda3/lib/python3.7/site-packages/pandas/core/indexing.py:190: SettingWithCopyWarning: \n",
      "A value is trying to be set on a copy of a slice from a DataFrame\n",
      "\n",
      "See the caveats in the documentation: http://pandas.pydata.org/pandas-docs/stable/indexing.html#indexing-view-versus-copy\n",
      "  self._setitem_with_indexer(indexer, value)\n"
     ]
    },
    {
     "name": "stdout",
     "output_type": "stream",
     "text": [
      "\n",
      "Conflict entries saved to /mnt/sda2/projects/ASIST/ASIST-Sigma/data2/conflict_victims/conflct_08-18T16-51-53.csv\n",
      "\n",
      "Step 11: identify_triage_id() completed. 2.98014\n"
     ]
    },
    {
     "name": "stderr",
     "output_type": "stream",
     "text": [
      "/home/jincheng/anaconda3/lib/python3.7/site-packages/ipykernel_launcher.py:726: UserWarning: \n",
      "Expect 'SUCCESSFUL' or 'UNSUCCESSFUL' triage state in the next row entry of triage dataframe, but found IN_PROGRESS at row index 3\n",
      "/home/jincheng/anaconda3/lib/python3.7/site-packages/ipykernel_launcher.py:726: UserWarning: \n",
      "Expect 'SUCCESSFUL' or 'UNSUCCESSFUL' triage state in the next row entry of triage dataframe, but found IN_PROGRESS at row index 8\n",
      "/home/jincheng/anaconda3/lib/python3.7/site-packages/ipykernel_launcher.py:726: UserWarning: \n",
      "Expect 'SUCCESSFUL' or 'UNSUCCESSFUL' triage state in the next row entry of triage dataframe, but found IN_PROGRESS at row index 13\n",
      "/home/jincheng/anaconda3/lib/python3.7/site-packages/ipykernel_launcher.py:726: UserWarning: \n",
      "Expect 'SUCCESSFUL' or 'UNSUCCESSFUL' triage state in the next row entry of triage dataframe, but found IN_PROGRESS at row index 18\n",
      "/home/jincheng/anaconda3/lib/python3.7/site-packages/ipykernel_launcher.py:726: UserWarning: \n",
      "Expect 'SUCCESSFUL' or 'UNSUCCESSFUL' triage state in the next row entry of triage dataframe, but found IN_PROGRESS at row index 27\n",
      "/home/jincheng/anaconda3/lib/python3.7/site-packages/ipykernel_launcher.py:726: UserWarning: \n",
      "Expect 'SUCCESSFUL' or 'UNSUCCESSFUL' triage state in the next row entry of triage dataframe, but found IN_PROGRESS at row index 34\n",
      "/home/jincheng/anaconda3/lib/python3.7/site-packages/ipykernel_launcher.py:726: UserWarning: \n",
      "Expect 'SUCCESSFUL' or 'UNSUCCESSFUL' triage state in the next row entry of triage dataframe, but found IN_PROGRESS at row index 39\n",
      "/home/jincheng/anaconda3/lib/python3.7/site-packages/ipykernel_launcher.py:726: UserWarning: \n",
      "Expect 'SUCCESSFUL' or 'UNSUCCESSFUL' triage state in the next row entry of triage dataframe, but found IN_PROGRESS at row index 44\n",
      "/home/jincheng/anaconda3/lib/python3.7/site-packages/ipykernel_launcher.py:726: UserWarning: \n",
      "Expect 'SUCCESSFUL' or 'UNSUCCESSFUL' triage state in the next row entry of triage dataframe, but found IN_PROGRESS at row index 47\n",
      "/home/jincheng/anaconda3/lib/python3.7/site-packages/ipykernel_launcher.py:726: UserWarning: \n",
      "Expect 'SUCCESSFUL' or 'UNSUCCESSFUL' triage state in the next row entry of triage dataframe, but found IN_PROGRESS at row index 50\n",
      "/home/jincheng/anaconda3/lib/python3.7/site-packages/ipykernel_launcher.py:726: UserWarning: \n",
      "Expect 'SUCCESSFUL' or 'UNSUCCESSFUL' triage state in the next row entry of triage dataframe, but found IN_PROGRESS at row index 57\n",
      "/home/jincheng/anaconda3/lib/python3.7/site-packages/ipykernel_launcher.py:726: UserWarning: \n",
      "Expect 'SUCCESSFUL' or 'UNSUCCESSFUL' triage state in the next row entry of triage dataframe, but found IN_PROGRESS at row index 60\n",
      "/home/jincheng/anaconda3/lib/python3.7/site-packages/ipykernel_launcher.py:726: UserWarning: \n",
      "Expect 'SUCCESSFUL' or 'UNSUCCESSFUL' triage state in the next row entry of triage dataframe, but found IN_PROGRESS at row index 61\n",
      "/home/jincheng/anaconda3/lib/python3.7/site-packages/ipykernel_launcher.py:726: UserWarning: \n",
      "Expect 'SUCCESSFUL' or 'UNSUCCESSFUL' triage state in the next row entry of triage dataframe, but found IN_PROGRESS at row index 64\n",
      "/home/jincheng/anaconda3/lib/python3.7/site-packages/ipykernel_launcher.py:726: UserWarning: \n",
      "Expect 'SUCCESSFUL' or 'UNSUCCESSFUL' triage state in the next row entry of triage dataframe, but found IN_PROGRESS at row index 69\n",
      "/home/jincheng/anaconda3/lib/python3.7/site-packages/ipykernel_launcher.py:726: UserWarning: \n",
      "Expect 'SUCCESSFUL' or 'UNSUCCESSFUL' triage state in the next row entry of triage dataframe, but found IN_PROGRESS at row index 72\n",
      "/home/jincheng/anaconda3/lib/python3.7/site-packages/ipykernel_launcher.py:726: UserWarning: \n",
      "Expect 'SUCCESSFUL' or 'UNSUCCESSFUL' triage state in the next row entry of triage dataframe, but found IN_PROGRESS at row index 75\n",
      "/home/jincheng/anaconda3/lib/python3.7/site-packages/ipykernel_launcher.py:726: UserWarning: \n",
      "Expect 'SUCCESSFUL' or 'UNSUCCESSFUL' triage state in the next row entry of triage dataframe, but found IN_PROGRESS at row index 78\n",
      "/home/jincheng/anaconda3/lib/python3.7/site-packages/ipykernel_launcher.py:726: UserWarning: \n",
      "Expect 'SUCCESSFUL' or 'UNSUCCESSFUL' triage state in the next row entry of triage dataframe, but found IN_PROGRESS at row index 82\n",
      "/home/jincheng/anaconda3/lib/python3.7/site-packages/ipykernel_launcher.py:726: UserWarning: \n",
      "Expect 'SUCCESSFUL' or 'UNSUCCESSFUL' triage state in the next row entry of triage dataframe, but found IN_PROGRESS at row index 87\n",
      "/home/jincheng/anaconda3/lib/python3.7/site-packages/ipykernel_launcher.py:726: UserWarning: \n",
      "Expect 'SUCCESSFUL' or 'UNSUCCESSFUL' triage state in the next row entry of triage dataframe, but found IN_PROGRESS at row index 90\n"
     ]
    },
    {
     "name": "stdout",
     "output_type": "stream",
     "text": [
      "Step 12: set_triage_in_progress() completed. 4.70666\n",
      "Step 13: update_victim_color() completed. 0.25854\n"
     ]
    },
    {
     "name": "stderr",
     "output_type": "stream",
     "text": [
      "/home/jincheng/anaconda3/lib/python3.7/site-packages/pandas/core/indexing.py:190: SettingWithCopyWarning: \n",
      "A value is trying to be set on a copy of a slice from a DataFrame\n",
      "\n",
      "See the caveats in the documentation: http://pandas.pydata.org/pandas-docs/stable/indexing.html#indexing-view-versus-copy\n",
      "  self._setitem_with_indexer(indexer, value)\n"
     ]
    },
    {
     "name": "stdout",
     "output_type": "stream",
     "text": [
      "Step 14: set_sensor_state() completed. 0.53216\n"
     ]
    }
   ],
   "source": [
    "# Process\n",
    "self.process()"
   ]
  },
  {
   "cell_type": "code",
   "execution_count": 62,
   "metadata": {},
   "outputs": [],
   "source": [
    "save_file_name_prefix = \"processed_\"\n",
    "self.save_csv(os.path.join(main_data_path, 'processed'), save_file_name_prefix + os.path.splitext(event_obs_file_name)[0] + '.csv')"
   ]
  },
  {
   "cell_type": "markdown",
   "metadata": {},
   "source": [
    "# JSON Data"
   ]
  },
  {
   "cell_type": "code",
   "execution_count": 33,
   "metadata": {},
   "outputs": [],
   "source": [
    "# Sparky\n",
    "main_data_path = \"/mnt/sda2/projects/ASIST/ASIST-Sigma/data2/6-22/Sparky\"\n",
    "env_data_path = \"/mnt/sda2/projects/ASIST/ASIST-Sigma/data2/sparky\"\n",
    "\n",
    "event_obs_file_name = \"ASIST_data_study_id_000001_condition_id_000003_trial_id_000013_messages.json\"\n",
    "\n",
    "room_csv_name = \"ASIST_SparkyMap_Rooms_v5.3_OCN.csv\"\n",
    "door_csv_name = \"ASIST_SparkyMap_Portals_v5.4_OCN.csv\"\n",
    "victim_csv_name = \"ASIST_SparkyMap_Victims_v5.2_OCN.csv\"\n"
   ]
  },
  {
   "cell_type": "code",
   "execution_count": 48,
   "metadata": {},
   "outputs": [],
   "source": [
    "# Falcon \n",
    "main_data_path = \"/mnt/sda2/projects/ASIST/ASIST-Sigma/data2/6-22/Falcon\"\n",
    "env_data_path = \"/mnt/sda2/projects/ASIST/ASIST-Sigma/data2/falcon\"\n",
    "\n",
    "event_obs_file_name = \"ASIST_data_study_id_000001_condition_id_000007_trial_id_000012_messages.json\"\n",
    "\n",
    "room_csv_name = \"ASIST_FalconMap_Rooms_v1.1_OCN.csv\"\n",
    "door_csv_name = \"ASIST_FalconMap_Portals_v1.1_OCN.csv\"\n",
    "victim_csv_name = \"ASIST_FalconMap_Victims_v1.1_OCN.csv\""
   ]
  },
  {
   "cell_type": "code",
   "execution_count": 49,
   "metadata": {},
   "outputs": [],
   "source": [
    "self = DataLoader()"
   ]
  },
  {
   "cell_type": "code",
   "execution_count": null,
   "metadata": {},
   "outputs": [],
   "source": [
    "# Load main data file\n",
    "self.load_json(main_data_path, event_obs_file_name)\n",
    "\n",
    "# Load map data, including room, door, and victim locations\n",
    "self.load_map(env_data_path, room_csv_name, door_csv_name, victim_csv_name)\n",
    "\n",
    "# Set frequency -- number of entries per second. Will be spreaded evenly in time\n",
    "self.set_num_entries_per_sec(2)       # Set to select 2 entries per second. Divided equally in time\n",
    "\n",
    "# Sets sensor event subtype string\n",
    "self.add_sensor_event_subtype('Event:Beep')\n",
    "self.add_sensor_event_subtype('Event:Woof')"
   ]
  },
  {
   "cell_type": "code",
   "execution_count": 160,
   "metadata": {},
   "outputs": [
    {
     "name": "stdout",
     "output_type": "stream",
     "text": [
      "Step 1: df_by_sec() completed. Elapsed time: 0.01060\n",
      "Step 2: adjust_loc() completed. Elapsed time: 0.01971\n",
      "Step 3: check_victim_in_room() completed. Elapsed time: 0.04950\n",
      "Step 4: find_room_in() completed. Elapsed time: 7.97832\n",
      "Step 4.5: find_portal_in() completed. Elapsed time: 8.10604\n",
      "Step 5: find_victims_in_room() completed. Elapsed time: 3.47323\n",
      "Step 6: set_role() completed. Elapsed time: 0.00067\n",
      "Step 7: victim_in_FOV() completed. Elapsed time: 0.37167\n",
      "Step 8: victim_in_triage_position() completed. Elapsed time: 0.17707\n",
      "Step 9: victim_in_cross_hair() completed. Elapsed time: 0.26600\n",
      "Step 10: portal_in_FOV() completed. 16.96075\n"
     ]
    },
    {
     "name": "stderr",
     "output_type": "stream",
     "text": [
      "/home/jincheng/anaconda3/lib/python3.7/site-packages/ipykernel_launcher.py:664: UserWarning: Found conflict of victim entries. Found victim_id '3' at index '4' in triage_df, whereas victim_id 'None' in the crosshair field at index '342' in proc_df \n",
      "\tvictim\n",
      "/home/jincheng/anaconda3/lib/python3.7/site-packages/ipykernel_launcher.py:664: UserWarning: Found conflict of victim entries. Found victim_id '3' at index '5' in triage_df, whereas victim_id 'None' in the crosshair field at index '372' in proc_df \n",
      "\tvictim\n",
      "/home/jincheng/anaconda3/lib/python3.7/site-packages/ipykernel_launcher.py:664: UserWarning: Found conflict of victim entries. Found victim_id '19' at index '12' in triage_df, whereas victim_id '20' in the crosshair field at index '585' in proc_df \n",
      "\tvictim\n",
      "/home/jincheng/anaconda3/lib/python3.7/site-packages/ipykernel_launcher.py:664: UserWarning: Found conflict of victim entries. Found victim_id '19' at index '13' in triage_df, whereas victim_id '20' in the crosshair field at index '615' in proc_df \n",
      "\tvictim\n",
      "/home/jincheng/anaconda3/lib/python3.7/site-packages/ipykernel_launcher.py:664: UserWarning: Found conflict of victim entries. Found victim_id '1' at index '56' in triage_df, whereas victim_id 'None' in the crosshair field at index '1331' in proc_df \n",
      "\tvictim\n",
      "/home/jincheng/anaconda3/lib/python3.7/site-packages/ipykernel_launcher.py:664: UserWarning: Found conflict of victim entries. Found victim_id '1' at index '57' in triage_df, whereas victim_id 'None' in the crosshair field at index '1346' in proc_df \n",
      "\tvictim\n",
      "/home/jincheng/anaconda3/lib/python3.7/site-packages/pandas/core/indexing.py:190: SettingWithCopyWarning: \n",
      "A value is trying to be set on a copy of a slice from a DataFrame\n",
      "\n",
      "See the caveats in the documentation: http://pandas.pydata.org/pandas-docs/stable/indexing.html#indexing-view-versus-copy\n",
      "  self._setitem_with_indexer(indexer, value)\n"
     ]
    },
    {
     "name": "stdout",
     "output_type": "stream",
     "text": [
      "\n",
      "Conflict entries saved to /mnt/sda2/projects/ASIST/ASIST-Sigma/data2/conflict_victims/conflct_07-22T17-04-27.csv\n",
      "\n",
      "Step 11: identify_triage_id() completed. 2.02850\n",
      "Step 12: set_triage_in_progress() completed. 2.56589\n",
      "Step 13: update_victim_color() completed. 0.37482\n"
     ]
    },
    {
     "name": "stderr",
     "output_type": "stream",
     "text": [
      "/home/jincheng/anaconda3/lib/python3.7/site-packages/pandas/core/indexing.py:190: SettingWithCopyWarning: \n",
      "A value is trying to be set on a copy of a slice from a DataFrame\n",
      "\n",
      "See the caveats in the documentation: http://pandas.pydata.org/pandas-docs/stable/indexing.html#indexing-view-versus-copy\n",
      "  self._setitem_with_indexer(indexer, value)\n"
     ]
    },
    {
     "name": "stdout",
     "output_type": "stream",
     "text": [
      "Step 14: set_sensor_state() completed. 1.18201\n"
     ]
    }
   ],
   "source": [
    "self.process()"
   ]
  },
  {
   "cell_type": "code",
   "execution_count": 38,
   "metadata": {},
   "outputs": [],
   "source": [
    "save_file_name_prefix = \"processed_\"\n",
    "self.save_csv(main_data_path, save_file_name_prefix + os.path.splitext(event_obs_file_name)[0] + '.csv')"
   ]
  },
  {
   "cell_type": "markdown",
   "metadata": {},
   "source": [
    "# Batch Processing JSON Data"
   ]
  },
  {
   "cell_type": "code",
   "execution_count": null,
   "metadata": {},
   "outputs": [],
   "source": [
    "main_data_path = \"/media/jincheng/Shared/projects/ASIST/ASIST-Sigma/data2/6-22\"\n",
    "env_data_path = \"/media/jincheng/Shared/projects/ASIST/ASIST-Sigma/data2\"\n",
    "\n",
    "room_csv_name = \"DARPA-ASIST_ICT_MapData - RoomLocations_v5.3.csv\"\n",
    "door_csv_name = \"DARPA-ASIST_ICT_MapData - Door locations_v5.3.csv\"\n",
    "victim_csv_name = \"DARPA-ASIST_ICT_MapData - VictimLocations_v5.2.csv\""
   ]
  },
  {
   "cell_type": "code",
   "execution_count": null,
   "metadata": {},
   "outputs": [],
   "source": [
    "for file_name in os.listdir(main_data_path):\n",
    "    if file_name.endswith(\".json\"):\n",
    "        try:\n",
    "            print(\"\\n\\n---------------- Processing file {} ----------------\\n\".format(file_name))\n",
    "            self = DataLoader()\n",
    "            \n",
    "            # Load main data file\n",
    "            self.load_json(main_data_path, file_name)\n",
    "\n",
    "            # Load map data, including room, door, and victim locations\n",
    "            self.load_map(env_data_path, room_csv_name, door_csv_name, victim_csv_name)\n",
    "\n",
    "            # Set coordinate offsets\n",
    "            self.set_loc_offsets(2202, -23, -144)\n",
    "\n",
    "            # Set time span (number of seconds) necessary to successfully triage each type of victim\n",
    "            # Round up to specify a coarse upper bound\n",
    "            victim_time = {'Green': 8, 'Gold': 16}\n",
    "            self.set_victim_triage_time_span(victim_time)\n",
    "\n",
    "            # Set frequency -- number of entries per second. Will be spreaded evenly in time\n",
    "            self.set_num_entries_per_sec(2)       # Set to select 2 entries per second. Divided equally in time\n",
    "\n",
    "            # Sets sensor event subtype string\n",
    "            self.add_sensor_event_subtype('Event:Beep')\n",
    "            self.add_sensor_event_subtype('Event:Woof')\n",
    "            \n",
    "            self.process()\n",
    "            \n",
    "            self.save_csv(os.path.join(main_data_path, 'processed'), \"processed_\" + os.path.splitext(file_name)[0] + '.csv')\n",
    "            print(\"\\n---------------- File saved ----------------\\n\\n\")\n",
    "        except Exception as err:\n",
    "            warn(\"CANNOT PROCESS JSON FILE: {}. Encountered the following exception: \\n\\n{}\".format(file_name, err))\n"
   ]
  },
  {
   "cell_type": "markdown",
   "metadata": {},
   "source": [
    "# Multiprocessing Batch JSON Data"
   ]
  },
  {
   "cell_type": "code",
   "execution_count": 6,
   "metadata": {},
   "outputs": [],
   "source": [
    "# Sparky map\n",
    "env_data_path = \"/mnt/sda2/projects/ASIST/ASIST-Sigma/data2/sparky\"\n",
    "\n",
    "room_csv_name = \"ASIST_SparkyMap_Rooms_v5.3_OCN.csv\"\n",
    "door_csv_name = \"ASIST_SparkyMap_Portals_v5.4_OCN.csv\"\n",
    "victim_csv_name = \"ASIST_SparkyMap_Victims_v5.2_OCN.csv\"\n",
    "\n",
    "# Main data path\n",
    "main_data_path = \"/mnt/sda2/projects/ASIST/ASIST-Sigma/data2/6-22/Sparky\""
   ]
  },
  {
   "cell_type": "code",
   "execution_count": 100,
   "metadata": {},
   "outputs": [],
   "source": [
    "# Falcon map \n",
    "env_data_path = \"/mnt/sda2/projects/ASIST/ASIST-Sigma/data2/falcon\"\n",
    "room_csv_name = \"ASIST_FalconMap_Rooms_v1.1_OCN.csv\"\n",
    "door_csv_name = \"ASIST_FalconMap_Portals_v1.1_OCN.csv\"\n",
    "victim_csv_name = \"ASIST_FalconMap_Victims_v1.1_OCN.csv\"\n",
    "\n",
    "# Main data path\n",
    "main_data_path = \"/mnt/sda2/projects/ASIST/ASIST-Sigma/data2/8-13/raw\""
   ]
  },
  {
   "cell_type": "code",
   "execution_count": 101,
   "metadata": {},
   "outputs": [],
   "source": [
    "verbose = True\n",
    "file_format = \"csv\"   # \"csv\" or \"json\"\n",
    "\n",
    "def proc(file_name):\n",
    "    try:\n",
    "        print(\"\\n\\n---------------- Processing file {} ----------------\\n\".format(file_name))\n",
    "        self = DataLoader(verbose=verbose)\n",
    "\n",
    "        # Load main data file\n",
    "        if file_format == \"csv\":\n",
    "            self.load_csv(main_data_path, file_name)\n",
    "        else:\n",
    "            self.load_json(main_data_path, file_name)\n",
    "\n",
    "        # Load map data, including room, door, and victim locations\n",
    "        self.load_map(env_data_path, room_csv_name, door_csv_name, victim_csv_name)\n",
    "\n",
    "        # Set frequency -- number of entries per second. Will be spreaded evenly in time\n",
    "        self.set_num_entries_per_sec(2)       # Set to select 2 entries per second. Divided equally in time\n",
    "\n",
    "        # Sets sensor event subtype string\n",
    "        self.add_sensor_event_subtype('Event:Beep')\n",
    "        self.add_sensor_event_subtype('Event:Woof')\n",
    "\n",
    "        self.process()\n",
    "\n",
    "        save_file_name = \"processed_\" + os.path.splitext(file_name)[0] + '.csv'\n",
    "        self.save_csv(os.path.join(main_data_path, 'processed'), save_file_name)\n",
    "        print(\"\\n---------------- File saved: {} ----------------\\n\\n\".format(save_file_name))\n",
    "    except Exception as err:\n",
    "        warn(\"CANNOT PROCESS JSON FILE: {}. Encountered the following exception: \\n\\n{}\".format(file_name, err))"
   ]
  },
  {
   "cell_type": "code",
   "execution_count": 102,
   "metadata": {},
   "outputs": [
    {
     "name": "stdout",
     "output_type": "stream",
     "text": [
      "\n",
      "\n",
      "---------------- Processing file 20200728_Participant3_Cond1_timestamp.csv ----------------\n",
      "\n",
      "\n",
      "---------------- Processing file 20200818_Participant16_Cond1.csv ----------------\n",
      "\n",
      "\n",
      "---------------- Processing file 20200817_Participant14_Cond1.csv ----------------\n",
      "\n",
      "\n",
      "---------------- Processing file 20200818_Participant17_Cond1.csv ----------------\n",
      "\n",
      "\n",
      "---------------- Processing file 20200811_Participant11_Cond1.csv ----------------\n",
      "\n",
      "\n",
      "---------------- Processing file 20200728_Participant3_Cond1.csv ----------------\n",
      "\n",
      "\n",
      "---------------- Processing file 20200724_Participant1_Cond1_X.csv ----------------\n",
      "\n",
      "\n",
      "---------------- Processing file 20200729_Participant4_Cond1.csv ----------------\n",
      "\n",
      "\n",
      "---------------- Processing file 20200805_Participant7_Cond1.csv ----------------\n",
      "\n",
      "\n",
      "\n",
      "---------------- Processing file 20200813_Participant12_Cond1.csv ----------------\n",
      "\n",
      "\n",
      "\n",
      "\n",
      "\n",
      "---------------- Processing file 20200810_Participant9_Cond1_2of2.csv ----------------\n",
      "\n",
      "\n",
      "\n",
      "---------------- Processing file 20200807_Participant8_Cond1.csv ----------------\n",
      "\n",
      "\n",
      "\n",
      "\n",
      "---------------- Processing file 20200817_Participant15_Cond1.csv ----------------\n",
      "\n",
      "\n",
      "\n",
      "\n",
      "---------------- Processing file 20200814_Participant13_Cond1.csv ----------------\n",
      "\n",
      "\n",
      "\n",
      "---------------- Processing file 20200811_Participant10_Cond1.csv ----------------\n",
      "\n",
      "\n",
      "---------------- Processing file 20200731_Participant5_Cond1.csv ----------------\n",
      "\n",
      "\n",
      "\n",
      "\n",
      "\n",
      "\n"
     ]
    },
    {
     "name": "stderr",
     "output_type": "stream",
     "text": [
      "/home/jincheng/anaconda3/lib/python3.7/site-packages/ipykernel_launcher.py:89: UserWarning: \n",
      "No Event:MissionState event found! All raw data entries are therefore taken valid\n",
      "\n",
      "/home/jincheng/anaconda3/lib/python3.7/site-packages/ipykernel_launcher.py:91: SettingWithCopyWarning: \n",
      "A value is trying to be set on a copy of a slice from a DataFrame.\n",
      "Try using .loc[row_indexer,col_indexer] = value instead\n",
      "\n",
      "See the caveats in the documentation: http://pandas.pydata.org/pandas-docs/stable/indexing.html#indexing-view-versus-copy\n",
      "/home/jincheng/anaconda3/lib/python3.7/site-packages/ipykernel_launcher.py:91: SettingWithCopyWarning: \n",
      "A value is trying to be set on a copy of a slice from a DataFrame.\n",
      "Try using .loc[row_indexer,col_indexer] = value instead\n",
      "\n",
      "See the caveats in the documentation: http://pandas.pydata.org/pandas-docs/stable/indexing.html#indexing-view-versus-copy\n",
      "/home/jincheng/anaconda3/lib/python3.7/site-packages/ipykernel_launcher.py:111: UserWarning: \n",
      "No 'mission_state == STOP' event found. Entries late in time will not be chopped off\n",
      "\n",
      "/home/jincheng/anaconda3/lib/python3.7/site-packages/ipykernel_launcher.py:111: UserWarning: \n",
      "No 'mission_state == STOP' event found. Entries late in time will not be chopped off\n",
      "\n",
      "/home/jincheng/anaconda3/lib/python3.7/site-packages/ipykernel_launcher.py:91: SettingWithCopyWarning: \n",
      "A value is trying to be set on a copy of a slice from a DataFrame.\n",
      "Try using .loc[row_indexer,col_indexer] = value instead\n",
      "\n",
      "See the caveats in the documentation: http://pandas.pydata.org/pandas-docs/stable/indexing.html#indexing-view-versus-copy\n",
      "/home/jincheng/anaconda3/lib/python3.7/site-packages/ipykernel_launcher.py:91: SettingWithCopyWarning: \n",
      "A value is trying to be set on a copy of a slice from a DataFrame.\n",
      "Try using .loc[row_indexer,col_indexer] = value instead\n",
      "\n",
      "See the caveats in the documentation: http://pandas.pydata.org/pandas-docs/stable/indexing.html#indexing-view-versus-copy\n",
      "/home/jincheng/anaconda3/lib/python3.7/site-packages/ipykernel_launcher.py:91: SettingWithCopyWarning: \n",
      "A value is trying to be set on a copy of a slice from a DataFrame.\n",
      "Try using .loc[row_indexer,col_indexer] = value instead\n",
      "\n",
      "See the caveats in the documentation: http://pandas.pydata.org/pandas-docs/stable/indexing.html#indexing-view-versus-copy\n",
      "/home/jincheng/anaconda3/lib/python3.7/site-packages/ipykernel_launcher.py:91: SettingWithCopyWarning: \n",
      "A value is trying to be set on a copy of a slice from a DataFrame.\n",
      "Try using .loc[row_indexer,col_indexer] = value instead\n",
      "\n",
      "See the caveats in the documentation: http://pandas.pydata.org/pandas-docs/stable/indexing.html#indexing-view-versus-copy\n",
      "/home/jincheng/anaconda3/lib/python3.7/site-packages/ipykernel_launcher.py:91: SettingWithCopyWarning: \n",
      "A value is trying to be set on a copy of a slice from a DataFrame.\n",
      "Try using .loc[row_indexer,col_indexer] = value instead\n",
      "\n",
      "See the caveats in the documentation: http://pandas.pydata.org/pandas-docs/stable/indexing.html#indexing-view-versus-copy\n",
      "/home/jincheng/anaconda3/lib/python3.7/site-packages/ipykernel_launcher.py:91: SettingWithCopyWarning: \n",
      "A value is trying to be set on a copy of a slice from a DataFrame.\n",
      "Try using .loc[row_indexer,col_indexer] = value instead\n",
      "\n",
      "See the caveats in the documentation: http://pandas.pydata.org/pandas-docs/stable/indexing.html#indexing-view-versus-copy\n",
      "/home/jincheng/anaconda3/lib/python3.7/site-packages/ipykernel_launcher.py:111: UserWarning: \n",
      "No 'mission_state == STOP' event found. Entries late in time will not be chopped off\n",
      "\n",
      "/home/jincheng/anaconda3/lib/python3.7/site-packages/ipykernel_launcher.py:91: SettingWithCopyWarning: \n",
      "A value is trying to be set on a copy of a slice from a DataFrame.\n",
      "Try using .loc[row_indexer,col_indexer] = value instead\n",
      "\n",
      "See the caveats in the documentation: http://pandas.pydata.org/pandas-docs/stable/indexing.html#indexing-view-versus-copy\n",
      "/home/jincheng/anaconda3/lib/python3.7/site-packages/ipykernel_launcher.py:111: UserWarning: \n",
      "No 'mission_state == STOP' event found. Entries late in time will not be chopped off\n",
      "\n",
      "/home/jincheng/anaconda3/lib/python3.7/site-packages/ipykernel_launcher.py:111: UserWarning: \n",
      "No 'mission_state == STOP' event found. Entries late in time will not be chopped off\n",
      "\n",
      "/home/jincheng/anaconda3/lib/python3.7/site-packages/ipykernel_launcher.py:111: UserWarning: \n",
      "No 'mission_state == STOP' event found. Entries late in time will not be chopped off\n",
      "\n",
      "/home/jincheng/anaconda3/lib/python3.7/site-packages/ipykernel_launcher.py:111: UserWarning: \n",
      "No 'mission_state == STOP' event found. Entries late in time will not be chopped off\n",
      "\n",
      "/home/jincheng/anaconda3/lib/python3.7/site-packages/ipykernel_launcher.py:111: UserWarning: \n",
      "No 'mission_state == STOP' event found. Entries late in time will not be chopped off\n",
      "\n",
      "/home/jincheng/anaconda3/lib/python3.7/site-packages/ipykernel_launcher.py:111: UserWarning: \n",
      "No 'mission_state == STOP' event found. Entries late in time will not be chopped off\n",
      "\n",
      "/home/jincheng/anaconda3/lib/python3.7/site-packages/ipykernel_launcher.py:91: SettingWithCopyWarning: \n",
      "A value is trying to be set on a copy of a slice from a DataFrame.\n",
      "Try using .loc[row_indexer,col_indexer] = value instead\n",
      "\n",
      "See the caveats in the documentation: http://pandas.pydata.org/pandas-docs/stable/indexing.html#indexing-view-versus-copy\n",
      "/home/jincheng/anaconda3/lib/python3.7/site-packages/ipykernel_launcher.py:91: SettingWithCopyWarning: \n",
      "A value is trying to be set on a copy of a slice from a DataFrame.\n",
      "Try using .loc[row_indexer,col_indexer] = value instead\n",
      "\n",
      "See the caveats in the documentation: http://pandas.pydata.org/pandas-docs/stable/indexing.html#indexing-view-versus-copy\n",
      "/home/jincheng/anaconda3/lib/python3.7/site-packages/pandas/core/frame.py:3391: SettingWithCopyWarning: \n",
      "A value is trying to be set on a copy of a slice from a DataFrame.\n",
      "Try using .loc[row_indexer,col_indexer] = value instead\n",
      "\n",
      "See the caveats in the documentation: http://pandas.pydata.org/pandas-docs/stable/indexing.html#indexing-view-versus-copy\n",
      "  self[k1] = value[k2]\n",
      "/home/jincheng/anaconda3/lib/python3.7/site-packages/ipykernel_launcher.py:91: SettingWithCopyWarning: \n",
      "A value is trying to be set on a copy of a slice from a DataFrame.\n",
      "Try using .loc[row_indexer,col_indexer] = value instead\n",
      "\n",
      "See the caveats in the documentation: http://pandas.pydata.org/pandas-docs/stable/indexing.html#indexing-view-versus-copy\n",
      "/home/jincheng/anaconda3/lib/python3.7/site-packages/ipykernel_launcher.py:111: UserWarning: \n",
      "No 'mission_state == STOP' event found. Entries late in time will not be chopped off\n",
      "\n",
      "/home/jincheng/anaconda3/lib/python3.7/site-packages/ipykernel_launcher.py:91: SettingWithCopyWarning: \n",
      "A value is trying to be set on a copy of a slice from a DataFrame.\n",
      "Try using .loc[row_indexer,col_indexer] = value instead\n",
      "\n",
      "See the caveats in the documentation: http://pandas.pydata.org/pandas-docs/stable/indexing.html#indexing-view-versus-copy\n",
      "/home/jincheng/anaconda3/lib/python3.7/site-packages/ipykernel_launcher.py:91: SettingWithCopyWarning: \n",
      "A value is trying to be set on a copy of a slice from a DataFrame.\n",
      "Try using .loc[row_indexer,col_indexer] = value instead\n",
      "\n",
      "See the caveats in the documentation: http://pandas.pydata.org/pandas-docs/stable/indexing.html#indexing-view-versus-copy\n",
      "/home/jincheng/anaconda3/lib/python3.7/site-packages/ipykernel_launcher.py:111: UserWarning: \n",
      "No 'mission_state == STOP' event found. Entries late in time will not be chopped off\n",
      "\n",
      "/home/jincheng/anaconda3/lib/python3.7/site-packages/ipykernel_launcher.py:111: UserWarning: \n",
      "No 'mission_state == STOP' event found. Entries late in time will not be chopped off\n",
      "\n",
      "/home/jincheng/anaconda3/lib/python3.7/site-packages/ipykernel_launcher.py:111: UserWarning: \n",
      "No 'mission_state == STOP' event found. Entries late in time will not be chopped off\n",
      "\n",
      "/home/jincheng/anaconda3/lib/python3.7/site-packages/ipykernel_launcher.py:111: UserWarning: \n",
      "No 'mission_state == STOP' event found. Entries late in time will not be chopped off\n",
      "\n",
      "/home/jincheng/anaconda3/lib/python3.7/site-packages/ipykernel_launcher.py:91: SettingWithCopyWarning: \n",
      "A value is trying to be set on a copy of a slice from a DataFrame.\n",
      "Try using .loc[row_indexer,col_indexer] = value instead\n",
      "\n",
      "See the caveats in the documentation: http://pandas.pydata.org/pandas-docs/stable/indexing.html#indexing-view-versus-copy\n",
      "/home/jincheng/anaconda3/lib/python3.7/site-packages/pandas/core/frame.py:3391: SettingWithCopyWarning: \n",
      "A value is trying to be set on a copy of a slice from a DataFrame.\n",
      "Try using .loc[row_indexer,col_indexer] = value instead\n",
      "\n",
      "See the caveats in the documentation: http://pandas.pydata.org/pandas-docs/stable/indexing.html#indexing-view-versus-copy\n",
      "  self[k1] = value[k2]\n",
      "/home/jincheng/anaconda3/lib/python3.7/site-packages/ipykernel_launcher.py:111: UserWarning: \n",
      "No 'mission_state == STOP' event found. Entries late in time will not be chopped off\n",
      "\n",
      "/home/jincheng/anaconda3/lib/python3.7/site-packages/pandas/core/frame.py:3391: SettingWithCopyWarning: \n",
      "A value is trying to be set on a copy of a slice from a DataFrame.\n",
      "Try using .loc[row_indexer,col_indexer] = value instead\n",
      "\n",
      "See the caveats in the documentation: http://pandas.pydata.org/pandas-docs/stable/indexing.html#indexing-view-versus-copy\n",
      "  self[k1] = value[k2]\n",
      "/home/jincheng/anaconda3/lib/python3.7/site-packages/pandas/core/frame.py:3391: SettingWithCopyWarning: \n",
      "A value is trying to be set on a copy of a slice from a DataFrame.\n",
      "Try using .loc[row_indexer,col_indexer] = value instead\n",
      "\n",
      "See the caveats in the documentation: http://pandas.pydata.org/pandas-docs/stable/indexing.html#indexing-view-versus-copy\n",
      "  self[k1] = value[k2]\n",
      "/home/jincheng/anaconda3/lib/python3.7/site-packages/pandas/core/frame.py:3391: SettingWithCopyWarning: \n",
      "A value is trying to be set on a copy of a slice from a DataFrame.\n",
      "Try using .loc[row_indexer,col_indexer] = value instead\n",
      "\n",
      "See the caveats in the documentation: http://pandas.pydata.org/pandas-docs/stable/indexing.html#indexing-view-versus-copy\n",
      "  self[k1] = value[k2]\n",
      "/home/jincheng/anaconda3/lib/python3.7/site-packages/pandas/core/frame.py:3391: SettingWithCopyWarning: \n",
      "A value is trying to be set on a copy of a slice from a DataFrame.\n",
      "Try using .loc[row_indexer,col_indexer] = value instead\n",
      "\n",
      "See the caveats in the documentation: http://pandas.pydata.org/pandas-docs/stable/indexing.html#indexing-view-versus-copy\n",
      "  self[k1] = value[k2]\n",
      "/home/jincheng/anaconda3/lib/python3.7/site-packages/pandas/core/frame.py:3391: SettingWithCopyWarning: \n",
      "A value is trying to be set on a copy of a slice from a DataFrame.\n",
      "Try using .loc[row_indexer,col_indexer] = value instead\n",
      "\n",
      "See the caveats in the documentation: http://pandas.pydata.org/pandas-docs/stable/indexing.html#indexing-view-versus-copy\n",
      "  self[k1] = value[k2]\n",
      "/home/jincheng/anaconda3/lib/python3.7/site-packages/pandas/core/frame.py:3391: SettingWithCopyWarning: \n",
      "A value is trying to be set on a copy of a slice from a DataFrame.\n",
      "Try using .loc[row_indexer,col_indexer] = value instead\n",
      "\n",
      "See the caveats in the documentation: http://pandas.pydata.org/pandas-docs/stable/indexing.html#indexing-view-versus-copy\n",
      "  self[k1] = value[k2]\n",
      "/home/jincheng/anaconda3/lib/python3.7/site-packages/pandas/core/frame.py:3391: SettingWithCopyWarning: \n",
      "A value is trying to be set on a copy of a slice from a DataFrame.\n",
      "Try using .loc[row_indexer,col_indexer] = value instead\n",
      "\n",
      "See the caveats in the documentation: http://pandas.pydata.org/pandas-docs/stable/indexing.html#indexing-view-versus-copy\n",
      "  self[k1] = value[k2]\n",
      "/home/jincheng/anaconda3/lib/python3.7/site-packages/pandas/core/frame.py:3391: SettingWithCopyWarning: \n",
      "A value is trying to be set on a copy of a slice from a DataFrame.\n",
      "Try using .loc[row_indexer,col_indexer] = value instead\n",
      "\n",
      "See the caveats in the documentation: http://pandas.pydata.org/pandas-docs/stable/indexing.html#indexing-view-versus-copy\n",
      "  self[k1] = value[k2]\n",
      "/home/jincheng/anaconda3/lib/python3.7/site-packages/pandas/core/frame.py:3391: SettingWithCopyWarning: \n",
      "A value is trying to be set on a copy of a slice from a DataFrame.\n",
      "Try using .loc[row_indexer,col_indexer] = value instead\n",
      "\n",
      "See the caveats in the documentation: http://pandas.pydata.org/pandas-docs/stable/indexing.html#indexing-view-versus-copy\n",
      "  self[k1] = value[k2]\n",
      "/home/jincheng/anaconda3/lib/python3.7/site-packages/pandas/core/frame.py:3391: SettingWithCopyWarning: \n",
      "A value is trying to be set on a copy of a slice from a DataFrame.\n",
      "Try using .loc[row_indexer,col_indexer] = value instead\n",
      "\n",
      "See the caveats in the documentation: http://pandas.pydata.org/pandas-docs/stable/indexing.html#indexing-view-versus-copy\n",
      "  self[k1] = value[k2]\n",
      "/home/jincheng/anaconda3/lib/python3.7/site-packages/pandas/core/frame.py:3391: SettingWithCopyWarning: \n",
      "A value is trying to be set on a copy of a slice from a DataFrame.\n",
      "Try using .loc[row_indexer,col_indexer] = value instead\n",
      "\n",
      "See the caveats in the documentation: http://pandas.pydata.org/pandas-docs/stable/indexing.html#indexing-view-versus-copy\n",
      "  self[k1] = value[k2]\n",
      "/home/jincheng/anaconda3/lib/python3.7/site-packages/pandas/core/frame.py:3391: SettingWithCopyWarning: \n",
      "A value is trying to be set on a copy of a slice from a DataFrame.\n",
      "Try using .loc[row_indexer,col_indexer] = value instead\n",
      "\n",
      "See the caveats in the documentation: http://pandas.pydata.org/pandas-docs/stable/indexing.html#indexing-view-versus-copy\n",
      "  self[k1] = value[k2]\n",
      "/home/jincheng/anaconda3/lib/python3.7/site-packages/pandas/core/frame.py:3391: SettingWithCopyWarning: \n",
      "A value is trying to be set on a copy of a slice from a DataFrame.\n",
      "Try using .loc[row_indexer,col_indexer] = value instead\n",
      "\n",
      "See the caveats in the documentation: http://pandas.pydata.org/pandas-docs/stable/indexing.html#indexing-view-versus-copy\n",
      "  self[k1] = value[k2]\n",
      "/home/jincheng/anaconda3/lib/python3.7/site-packages/pandas/core/frame.py:3391: SettingWithCopyWarning: \n",
      "A value is trying to be set on a copy of a slice from a DataFrame.\n",
      "Try using .loc[row_indexer,col_indexer] = value instead\n",
      "\n",
      "See the caveats in the documentation: http://pandas.pydata.org/pandas-docs/stable/indexing.html#indexing-view-versus-copy\n",
      "  self[k1] = value[k2]\n"
     ]
    },
    {
     "name": "stdout",
     "output_type": "stream",
     "text": [
      "Step 1: df_by_sec() completed. Elapsed time: 0.00862\n",
      "Step 2: adjust_loc() completed. Elapsed time: 0.03959\n",
      "Step 1: df_by_sec() completed. Elapsed time: 0.01231\n",
      "Step 3: check_victim_in_room() completed. Elapsed time: 0.08762\n",
      "Step 2: adjust_loc() completed. Elapsed time: 0.02633\n",
      "Step 3: check_victim_in_room() completed. Elapsed time: 0.07053\n",
      "Step 1: df_by_sec() completed. Elapsed time: 0.01190\n",
      "Step 2: adjust_loc() completed. Elapsed time: 0.02671\n",
      "Step 1: df_by_sec() completed. Elapsed time: 0.01680\n",
      "Step 2: adjust_loc() completed. Elapsed time: 0.02933\n",
      "Step 3: check_victim_in_room() completed. Elapsed time: 0.07117\n",
      "Step 3: check_victim_in_room() completed. Elapsed time: 0.07073\n",
      "Step 1: df_by_sec() completed. Elapsed time: 0.01622\n",
      "Step 2: adjust_loc() completed. Elapsed time: 0.03341\n",
      "Step 3: check_victim_in_room() completed. Elapsed time: 0.07118\n",
      "Step 1: df_by_sec() completed. Elapsed time: 0.01699\n",
      "Step 2: adjust_loc() completed. Elapsed time: 0.04555\n",
      "Step 3: check_victim_in_room() completed. Elapsed time: 0.07036\n",
      "Step 1: df_by_sec() completed. Elapsed time: 0.01643\n",
      "Step 2: adjust_loc() completed. Elapsed time: 0.02895\n",
      "Step 3: check_victim_in_room() completed. Elapsed time: 0.07065\n",
      "Step 4: find_room_in() completed. Elapsed time: 1.15324\n",
      "Step 1: df_by_sec() completed. Elapsed time: 0.01732\n",
      "Step 2: adjust_loc() completed. Elapsed time: 0.03668\n",
      "Step 1: df_by_sec() completed. Elapsed time: 0.01675\n",
      "Step 3: check_victim_in_room() completed. Elapsed time: 0.09082\n",
      "Step 1: df_by_sec() completed. Elapsed time: 0.01815\n",
      "Step 1: df_by_sec() completed. Elapsed time: 0.01796\n",
      "Step 2: adjust_loc() completed. Elapsed time: 0.03115\n",
      "Step 1: df_by_sec() completed. Elapsed time: 0.01574\n",
      "Step 1: df_by_sec() completed. Elapsed time: 0.01499\n",
      "Step 2: adjust_loc() completed. Elapsed time: 0.04214\n",
      "Step 2: adjust_loc() completed. Elapsed time: 0.03537\n",
      "Step 2: adjust_loc() completed. Elapsed time: 0.03152\n",
      "Step 2: adjust_loc() completed. Elapsed time: 0.03177\n",
      "Step 3: check_victim_in_room() completed. Elapsed time: 0.06932\n",
      "Step 1: df_by_sec() completed. Elapsed time: 0.01691\n",
      "Step 3: check_victim_in_room() completed. Elapsed time: 0.06574\n",
      "Step 3: check_victim_in_room() completed. Elapsed time: 0.08655\n",
      "Step 2: adjust_loc() completed. Elapsed time: 0.04559\n",
      "Step 3: check_victim_in_room() completed. Elapsed time: 0.07083\n",
      "Step 3: check_victim_in_room() completed. Elapsed time: 0.06699\n",
      "Step 1: df_by_sec() completed. Elapsed time: 0.01865\n",
      "Step 2: adjust_loc() completed. Elapsed time: 0.03200\n",
      "Step 1: df_by_sec() completed. Elapsed time: 0.01643\n",
      "Step 3: check_victim_in_room() completed. Elapsed time: 0.12536\n",
      "Step 2: adjust_loc() completed. Elapsed time: 0.02411\n",
      "Step 3: check_victim_in_room() completed. Elapsed time: 0.09652\n",
      "Step 3: check_victim_in_room() completed. Elapsed time: 0.08265\n",
      "Step 4.5: find_portal_in() completed. Elapsed time: 1.15758\n",
      "Step 5: find_victims_in_room() completed. Elapsed time: 0.44931\n",
      "Step 6: set_role() completed. Elapsed time: 0.00091\n",
      "Step 7: victim_in_FOV() completed. Elapsed time: 0.07893\n",
      "Step 8: victim_in_triage_position() completed. Elapsed time: 0.03829\n",
      "Step 9: victim_in_cross_hair() completed. Elapsed time: 0.07510\n",
      "Step 10: portal_in_FOV() completed. 2.97520\n",
      "Step 4: find_room_in() completed. Elapsed time: 5.95750\n"
     ]
    },
    {
     "name": "stderr",
     "output_type": "stream",
     "text": [
      "/home/jincheng/anaconda3/lib/python3.7/site-packages/ipykernel_launcher.py:671: UserWarning: Found conflict of victim entries. Found victim_id '5' at index '2' in triage_df, whereas victim_id '3' in the crosshair field at index '51' in proc_df \n",
      "\tvictim\n",
      "/home/jincheng/anaconda3/lib/python3.7/site-packages/ipykernel_launcher.py:671: UserWarning: Found conflict of victim entries. Found victim_id '3' at index '6' in triage_df, whereas victim_id '0' in the crosshair field at index '81' in proc_df \n",
      "\tvictim\n",
      "/home/jincheng/anaconda3/lib/python3.7/site-packages/ipykernel_launcher.py:671: UserWarning: Found conflict of victim entries. Found victim_id '0' at index '10' in triage_df, whereas victim_id '2' in the crosshair field at index '107' in proc_df \n",
      "\tvictim\n"
     ]
    },
    {
     "name": "stdout",
     "output_type": "stream",
     "text": [
      "\n",
      "Conflict entries saved to /mnt/sda2/projects/ASIST/ASIST-Sigma/data2/conflict_victims/conflct_08-18T17-11-16.csv\n",
      "\n",
      "Step 4: find_room_in() completed. Elapsed time: 5.86481\n"
     ]
    },
    {
     "name": "stderr",
     "output_type": "stream",
     "text": [
      "/home/jincheng/anaconda3/lib/python3.7/site-packages/pandas/core/indexing.py:190: SettingWithCopyWarning: \n",
      "A value is trying to be set on a copy of a slice from a DataFrame\n",
      "\n",
      "See the caveats in the documentation: http://pandas.pydata.org/pandas-docs/stable/indexing.html#indexing-view-versus-copy\n",
      "  self._setitem_with_indexer(indexer, value)\n"
     ]
    },
    {
     "name": "stdout",
     "output_type": "stream",
     "text": [
      "Step 11: identify_triage_id() completed. 3.06097\n",
      "Step 4: find_room_in() completed. Elapsed time: 10.81743\n",
      "Step 4: find_room_in() completed. Elapsed time: 10.79125\n",
      "Step 4.5: find_portal_in() completed. Elapsed time: 5.79140\n",
      "Step 4: find_room_in() completed. Elapsed time: 11.20197\n",
      "Step 4: find_room_in() completed. Elapsed time: 11.21947\n",
      "Step 4.5: find_portal_in() completed. Elapsed time: 6.04248\n",
      "Step 4: find_room_in() completed. Elapsed time: 10.93736\n",
      "Step 4: find_room_in() completed. Elapsed time: 11.32711\n",
      "Step 4: find_room_in() completed. Elapsed time: 11.75433\n",
      "Step 12: set_triage_in_progress() completed. 4.19562\n",
      "Step 13: update_victim_color() completed. 0.07934\n",
      "Step 4: find_room_in() completed. Elapsed time: 12.13158\n",
      "Step 4: find_room_in() completed. Elapsed time: 12.00209\n"
     ]
    },
    {
     "name": "stderr",
     "output_type": "stream",
     "text": [
      "/home/jincheng/anaconda3/lib/python3.7/site-packages/pandas/core/indexing.py:190: SettingWithCopyWarning: \n",
      "A value is trying to be set on a copy of a slice from a DataFrame\n",
      "\n",
      "See the caveats in the documentation: http://pandas.pydata.org/pandas-docs/stable/indexing.html#indexing-view-versus-copy\n",
      "  self._setitem_with_indexer(indexer, value)\n"
     ]
    },
    {
     "name": "stdout",
     "output_type": "stream",
     "text": [
      "Step 4: find_room_in() completed. Elapsed time: 12.69117\n",
      "Step 4: find_room_in() completed. Elapsed time: 12.41875\n",
      "Step 5: find_victims_in_room() completed. Elapsed time: 2.72429\n",
      "Step 6: set_role() completed. Elapsed time: 0.00114\n",
      "Step 7: victim_in_FOV() completed. Elapsed time: 0.28806\n",
      "Step 4: find_room_in() completed. Elapsed time: 13.42334\n",
      "Step 14: set_sensor_state() completed. 1.55354\n",
      "\n",
      "---------------- File saved: processed_20200811_Participant11_Cond1.csv ----------------\n",
      "\n",
      "\n",
      "\n",
      "\n",
      "---------------- Processing file 20200727_Participant2_Cond1.csv ----------------\n",
      "\n",
      "Step 8: victim_in_triage_position() completed. Elapsed time: 0.13186\n",
      "Step 9: victim_in_cross_hair() completed. Elapsed time: 0.20150\n",
      "Step 5: find_victims_in_room() completed. Elapsed time: 2.91223\n",
      "Step 6: set_role() completed. Elapsed time: 0.00111\n",
      "Step 7: victim_in_FOV() completed. Elapsed time: 0.30000\n"
     ]
    },
    {
     "name": "stderr",
     "output_type": "stream",
     "text": [
      "/home/jincheng/anaconda3/lib/python3.7/site-packages/ipykernel_launcher.py:91: SettingWithCopyWarning: \n",
      "A value is trying to be set on a copy of a slice from a DataFrame.\n",
      "Try using .loc[row_indexer,col_indexer] = value instead\n",
      "\n",
      "See the caveats in the documentation: http://pandas.pydata.org/pandas-docs/stable/indexing.html#indexing-view-versus-copy\n",
      "/home/jincheng/anaconda3/lib/python3.7/site-packages/ipykernel_launcher.py:111: UserWarning: \n",
      "No 'mission_state == STOP' event found. Entries late in time will not be chopped off\n",
      "\n"
     ]
    },
    {
     "name": "stdout",
     "output_type": "stream",
     "text": [
      "Step 8: victim_in_triage_position() completed. Elapsed time: 0.13617\n"
     ]
    },
    {
     "name": "stderr",
     "output_type": "stream",
     "text": [
      "/home/jincheng/anaconda3/lib/python3.7/site-packages/pandas/core/frame.py:3391: SettingWithCopyWarning: \n",
      "A value is trying to be set on a copy of a slice from a DataFrame.\n",
      "Try using .loc[row_indexer,col_indexer] = value instead\n",
      "\n",
      "See the caveats in the documentation: http://pandas.pydata.org/pandas-docs/stable/indexing.html#indexing-view-versus-copy\n",
      "  self[k1] = value[k2]\n"
     ]
    },
    {
     "name": "stdout",
     "output_type": "stream",
     "text": [
      "Step 9: victim_in_cross_hair() completed. Elapsed time: 0.21562\n",
      "Step 4: find_room_in() completed. Elapsed time: 15.00216\n",
      "Step 1: df_by_sec() completed. Elapsed time: 0.01699\n",
      "Step 2: adjust_loc() completed. Elapsed time: 0.02998\n",
      "Step 3: check_victim_in_room() completed. Elapsed time: 0.07037\n",
      "Step 4.5: find_portal_in() completed. Elapsed time: 11.74185\n",
      "Step 4.5: find_portal_in() completed. Elapsed time: 11.66684\n",
      "Step 4.5: find_portal_in() completed. Elapsed time: 11.44721\n",
      "Step 4.5: find_portal_in() completed. Elapsed time: 11.18851\n",
      "Step 4.5: find_portal_in() completed. Elapsed time: 12.12298\n",
      "Step 4.5: find_portal_in() completed. Elapsed time: 12.43564\n",
      "Step 4.5: find_portal_in() completed. Elapsed time: 12.13523\n",
      "Step 5: find_victims_in_room() completed. Elapsed time: 2.16110\n",
      "Step 6: set_role() completed. Elapsed time: 0.00112\n",
      "Step 4.5: find_portal_in() completed. Elapsed time: 11.98507\n",
      "Step 7: victim_in_FOV() completed. Elapsed time: 0.36471\n",
      "Step 8: victim_in_triage_position() completed. Elapsed time: 0.23145\n",
      "Step 9: victim_in_cross_hair() completed. Elapsed time: 0.38179\n",
      "Step 5: find_victims_in_room() completed. Elapsed time: 3.09498\n",
      "Step 6: set_role() completed. Elapsed time: 0.00131\n",
      "Step 4.5: find_portal_in() completed. Elapsed time: 12.42235\n",
      "Step 4.5: find_portal_in() completed. Elapsed time: 13.06128\n",
      "Step 7: victim_in_FOV() completed. Elapsed time: 0.44441\n",
      "Step 5: find_victims_in_room() completed. Elapsed time: 3.27410\n",
      "Step 6: set_role() completed. Elapsed time: 0.00116\n",
      "Step 8: victim_in_triage_position() completed. Elapsed time: 0.24475\n",
      "Step 4.5: find_portal_in() completed. Elapsed time: 13.02346\n",
      "Step 9: victim_in_cross_hair() completed. Elapsed time: 0.38886\n",
      "Step 7: victim_in_FOV() completed. Elapsed time: 0.44221\n",
      "Step 8: victim_in_triage_position() completed. Elapsed time: 0.32790\n",
      "Step 10: portal_in_FOV() completed. 12.94591\n",
      "Step 9: victim_in_cross_hair() completed. Elapsed time: 0.42673\n",
      "Step 5: find_victims_in_room() completed. Elapsed time: 3.84917\n",
      "Step 6: set_role() completed. Elapsed time: 0.00143\n"
     ]
    },
    {
     "name": "stderr",
     "output_type": "stream",
     "text": [
      "/home/jincheng/anaconda3/lib/python3.7/site-packages/ipykernel_launcher.py:671: UserWarning: Found conflict of victim entries. Found victim_id '0' at index '0' in triage_df, whereas victim_id 'None' in the crosshair field at index '28' in proc_df \n",
      "\tvictim\n",
      "/home/jincheng/anaconda3/lib/python3.7/site-packages/ipykernel_launcher.py:671: UserWarning: Found conflict of victim entries. Found victim_id '0' at index '1' in triage_df, whereas victim_id 'None' in the crosshair field at index '44' in proc_df \n",
      "\tvictim\n",
      "/home/jincheng/anaconda3/lib/python3.7/site-packages/ipykernel_launcher.py:671: UserWarning: Found conflict of victim entries. Found victim_id '0' at index '2' in triage_df, whereas victim_id 'None' in the crosshair field at index '44' in proc_df \n",
      "\tvictim\n",
      "/home/jincheng/anaconda3/lib/python3.7/site-packages/ipykernel_launcher.py:671: UserWarning: Found conflict of victim entries. Found victim_id '0' at index '4' in triage_df, whereas victim_id '2' in the crosshair field at index '57' in proc_df \n",
      "\tvictim\n",
      "/home/jincheng/anaconda3/lib/python3.7/site-packages/ipykernel_launcher.py:671: UserWarning: Found conflict of victim entries. Found victim_id '2' at index '7' in triage_df, whereas victim_id 'None' in the crosshair field at index '81' in proc_df \n",
      "\tvictim\n"
     ]
    },
    {
     "name": "stdout",
     "output_type": "stream",
     "text": [
      "Step 5: find_victims_in_room() completed. Elapsed time: 4.29556\n"
     ]
    },
    {
     "name": "stderr",
     "output_type": "stream",
     "text": [
      "/home/jincheng/anaconda3/lib/python3.7/site-packages/ipykernel_launcher.py:671: UserWarning: Found conflict of victim entries. Found victim_id '23' at index '11' in triage_df, whereas victim_id 'None' in the crosshair field at index '158' in proc_df \n",
      "\tvictim\n"
     ]
    },
    {
     "name": "stdout",
     "output_type": "stream",
     "text": [
      "Step 4.5: find_portal_in() completed. Elapsed time: 13.88952\n",
      "Step 6: set_role() completed. Elapsed time: 0.00160\n"
     ]
    },
    {
     "name": "stderr",
     "output_type": "stream",
     "text": [
      "/home/jincheng/anaconda3/lib/python3.7/site-packages/ipykernel_launcher.py:671: UserWarning: Found conflict of victim entries. Found victim_id '19' at index '13' in triage_df, whereas victim_id 'None' in the crosshair field at index '208' in proc_df \n",
      "\tvictim\n",
      "/home/jincheng/anaconda3/lib/python3.7/site-packages/ipykernel_launcher.py:671: UserWarning: Found conflict of victim entries. Found victim_id '19' at index '14' in triage_df, whereas victim_id 'None' in the crosshair field at index '222' in proc_df \n",
      "\tvictim\n",
      "/home/jincheng/anaconda3/lib/python3.7/site-packages/ipykernel_launcher.py:671: UserWarning: Found conflict of victim entries. Found victim_id '17' at index '18' in triage_df, whereas victim_id '14' in the crosshair field at index '270' in proc_df \n",
      "\tvictim\n"
     ]
    },
    {
     "name": "stdout",
     "output_type": "stream",
     "text": [
      "Step 5: find_victims_in_room() completed. Elapsed time: 4.07912\n"
     ]
    },
    {
     "name": "stderr",
     "output_type": "stream",
     "text": [
      "/home/jincheng/anaconda3/lib/python3.7/site-packages/ipykernel_launcher.py:671: UserWarning: Found conflict of victim entries. Found victim_id '14' at index '20' in triage_df, whereas victim_id 'None' in the crosshair field at index '282' in proc_df \n",
      "\tvictim\n"
     ]
    },
    {
     "name": "stdout",
     "output_type": "stream",
     "text": [
      "Step 6: set_role() completed. Elapsed time: 0.00128\n"
     ]
    },
    {
     "name": "stderr",
     "output_type": "stream",
     "text": [
      "/home/jincheng/anaconda3/lib/python3.7/site-packages/ipykernel_launcher.py:671: UserWarning: Found conflict of victim entries. Found victim_id '14' at index '21' in triage_df, whereas victim_id 'None' in the crosshair field at index '296' in proc_df \n",
      "\tvictim\n",
      "/home/jincheng/anaconda3/lib/python3.7/site-packages/ipykernel_launcher.py:671: UserWarning: Found conflict of victim entries. Found victim_id '11' at index '22' in triage_df, whereas victim_id 'None' in the crosshair field at index '318' in proc_df \n",
      "\tvictim\n",
      "/home/jincheng/anaconda3/lib/python3.7/site-packages/ipykernel_launcher.py:671: UserWarning: Found conflict of victim entries. Found victim_id '11' at index '23' in triage_df, whereas victim_id 'None' in the crosshair field at index '334' in proc_df \n",
      "\tvictim\n"
     ]
    },
    {
     "name": "stdout",
     "output_type": "stream",
     "text": [
      "Step 7: victim_in_FOV() completed. Elapsed time: 0.53406\n"
     ]
    },
    {
     "name": "stderr",
     "output_type": "stream",
     "text": [
      "/home/jincheng/anaconda3/lib/python3.7/site-packages/ipykernel_launcher.py:671: UserWarning: Found conflict of victim entries. Found victim_id '11' at index '24' in triage_df, whereas victim_id 'None' in the crosshair field at index '334' in proc_df \n",
      "\tvictim\n",
      "/home/jincheng/anaconda3/lib/python3.7/site-packages/ipykernel_launcher.py:671: UserWarning: Found conflict of victim entries. Found victim_id '9' at index '26' in triage_df, whereas victim_id 'None' in the crosshair field at index '338' in proc_df \n",
      "\tvictim\n",
      "/home/jincheng/anaconda3/lib/python3.7/site-packages/ipykernel_launcher.py:671: UserWarning: Found conflict of victim entries. Found victim_id '10' at index '27' in triage_df, whereas victim_id 'None' in the crosshair field at index '340' in proc_df \n",
      "\tvictim\n"
     ]
    },
    {
     "name": "stdout",
     "output_type": "stream",
     "text": [
      "Step 5: find_victims_in_room() completed. Elapsed time: 4.95679\n",
      "Step 6: set_role() completed. Elapsed time: 0.00133\n"
     ]
    },
    {
     "name": "stderr",
     "output_type": "stream",
     "text": [
      "/home/jincheng/anaconda3/lib/python3.7/site-packages/ipykernel_launcher.py:671: UserWarning: Found conflict of victim entries. Found victim_id '10' at index '28' in triage_df, whereas victim_id 'None' in the crosshair field at index '340' in proc_df \n",
      "\tvictim\n",
      "/home/jincheng/anaconda3/lib/python3.7/site-packages/ipykernel_launcher.py:671: UserWarning: Found conflict of victim entries. Found victim_id '11' at index '29' in triage_df, whereas victim_id 'None' in the crosshair field at index '348' in proc_df \n",
      "\tvictim\n",
      "/home/jincheng/anaconda3/lib/python3.7/site-packages/ipykernel_launcher.py:671: UserWarning: Found conflict of victim entries. Found victim_id '10' at index '30' in triage_df, whereas victim_id 'None' in the crosshair field at index '348' in proc_df \n",
      "\tvictim\n"
     ]
    },
    {
     "name": "stdout",
     "output_type": "stream",
     "text": [
      "Step 7: victim_in_FOV() completed. Elapsed time: 0.48022\n",
      "Step 5: find_victims_in_room() completed. Elapsed time: 3.66848\n",
      "Step 8: victim_in_triage_position() completed. Elapsed time: 0.25237\n",
      "Step 6: set_role() completed. Elapsed time: 0.00118\n"
     ]
    },
    {
     "name": "stderr",
     "output_type": "stream",
     "text": [
      "/home/jincheng/anaconda3/lib/python3.7/site-packages/ipykernel_launcher.py:671: UserWarning: Found conflict of victim entries. Found victim_id '10' at index '31' in triage_df, whereas victim_id 'None' in the crosshair field at index '348' in proc_df \n",
      "\tvictim\n",
      "/home/jincheng/anaconda3/lib/python3.7/site-packages/ipykernel_launcher.py:671: UserWarning: Found conflict of victim entries. Found victim_id '9' at index '35' in triage_df, whereas victim_id 'None' in the crosshair field at index '365' in proc_df \n",
      "\tvictim\n",
      "/home/jincheng/anaconda3/lib/python3.7/site-packages/ipykernel_launcher.py:671: UserWarning: Found conflict of victim entries. Found victim_id '1' at index '36' in triage_df, whereas victim_id 'None' in the crosshair field at index '430' in proc_df \n",
      "\tvictim\n"
     ]
    },
    {
     "name": "stdout",
     "output_type": "stream",
     "text": [
      "Step 7: victim_in_FOV() completed. Elapsed time: 0.49068\n",
      "Step 10: portal_in_FOV() completed. 13.37909\n"
     ]
    },
    {
     "name": "stderr",
     "output_type": "stream",
     "text": [
      "/home/jincheng/anaconda3/lib/python3.7/site-packages/ipykernel_launcher.py:671: UserWarning: Found conflict of victim entries. Found victim_id '1' at index '37' in triage_df, whereas victim_id 'None' in the crosshair field at index '438' in proc_df \n",
      "\tvictim\n",
      "/home/jincheng/anaconda3/lib/python3.7/site-packages/ipykernel_launcher.py:671: UserWarning: Found conflict of victim entries. Found victim_id '1' at index '38' in triage_df, whereas victim_id 'None' in the crosshair field at index '438' in proc_df \n",
      "\tvictim\n",
      "/home/jincheng/anaconda3/lib/python3.7/site-packages/ipykernel_launcher.py:671: UserWarning: Found conflict of victim entries. Found victim_id '1' at index '39' in triage_df, whereas victim_id 'None' in the crosshair field at index '444' in proc_df \n",
      "\tvictim\n",
      "/home/jincheng/anaconda3/lib/python3.7/site-packages/ipykernel_launcher.py:671: UserWarning: Found conflict of victim entries. Found victim_id '4' at index '40' in triage_df, whereas victim_id 'None' in the crosshair field at index '482' in proc_df \n",
      "\tvictim\n"
     ]
    },
    {
     "name": "stdout",
     "output_type": "stream",
     "text": [
      "Step 8: victim_in_triage_position() completed. Elapsed time: 0.24821\n"
     ]
    },
    {
     "name": "stderr",
     "output_type": "stream",
     "text": [
      "/home/jincheng/anaconda3/lib/python3.7/site-packages/ipykernel_launcher.py:671: UserWarning: Found conflict of victim entries. Found victim_id '4' at index '41' in triage_df, whereas victim_id 'None' in the crosshair field at index '490' in proc_df \n",
      "\tvictim\n",
      "/home/jincheng/anaconda3/lib/python3.7/site-packages/ipykernel_launcher.py:671: UserWarning: Found conflict of victim entries. Found victim_id '4' at index '42' in triage_df, whereas victim_id 'None' in the crosshair field at index '491' in proc_df \n",
      "\tvictim\n",
      "/home/jincheng/anaconda3/lib/python3.7/site-packages/ipykernel_launcher.py:671: UserWarning: Found conflict of victim entries. Found victim_id '4' at index '43' in triage_df, whereas victim_id 'None' in the crosshair field at index '493' in proc_df \n",
      "\tvictim\n",
      "/home/jincheng/anaconda3/lib/python3.7/site-packages/ipykernel_launcher.py:671: UserWarning: Found conflict of victim entries. Found victim_id '3' at index '44' in triage_df, whereas victim_id 'None' in the crosshair field at index '496' in proc_df \n",
      "\tvictim\n"
     ]
    },
    {
     "name": "stdout",
     "output_type": "stream",
     "text": [
      "Step 8: victim_in_triage_position() completed. Elapsed time: 0.24746\n"
     ]
    },
    {
     "name": "stderr",
     "output_type": "stream",
     "text": [
      "/home/jincheng/anaconda3/lib/python3.7/site-packages/ipykernel_launcher.py:671: UserWarning: Found conflict of victim entries. Found victim_id '4' at index '45' in triage_df, whereas victim_id 'None' in the crosshair field at index '497' in proc_df \n",
      "\tvictim\n"
     ]
    },
    {
     "name": "stdout",
     "output_type": "stream",
     "text": [
      "Step 9: victim_in_cross_hair() completed. Elapsed time: 0.39310\n",
      "Step 7: victim_in_FOV() completed. Elapsed time: 0.41051\n"
     ]
    },
    {
     "name": "stderr",
     "output_type": "stream",
     "text": [
      "/home/jincheng/anaconda3/lib/python3.7/site-packages/ipykernel_launcher.py:671: UserWarning: Found conflict of victim entries. Found victim_id '3' at index '46' in triage_df, whereas victim_id 'None' in the crosshair field at index '512' in proc_df \n",
      "\tvictim\n",
      "/home/jincheng/anaconda3/lib/python3.7/site-packages/ipykernel_launcher.py:671: UserWarning: Found conflict of victim entries. Found victim_id '3' at index '47' in triage_df, whereas victim_id 'None' in the crosshair field at index '512' in proc_df \n",
      "\tvictim\n"
     ]
    },
    {
     "name": "stdout",
     "output_type": "stream",
     "text": [
      "Step 7: victim_in_FOV() completed. Elapsed time: 0.63527\n"
     ]
    },
    {
     "name": "stderr",
     "output_type": "stream",
     "text": [
      "/home/jincheng/anaconda3/lib/python3.7/site-packages/ipykernel_launcher.py:671: UserWarning: Found conflict of victim entries. Found victim_id '3' at index '49' in triage_df, whereas victim_id '5' in the crosshair field at index '526' in proc_df \n",
      "\tvictim\n",
      "/home/jincheng/anaconda3/lib/python3.7/site-packages/ipykernel_launcher.py:671: UserWarning: Found conflict of victim entries. Found victim_id '0' at index '0' in triage_df, whereas victim_id 'None' in the crosshair field at index '28' in proc_df \n",
      "\tvictim\n",
      "/home/jincheng/anaconda3/lib/python3.7/site-packages/ipykernel_launcher.py:671: UserWarning: Found conflict of victim entries. Found victim_id '5' at index '51' in triage_df, whereas victim_id 'None' in the crosshair field at index '552' in proc_df \n",
      "\tvictim\n",
      "/home/jincheng/anaconda3/lib/python3.7/site-packages/ipykernel_launcher.py:671: UserWarning: Found conflict of victim entries. Found victim_id '0' at index '1' in triage_df, whereas victim_id 'None' in the crosshair field at index '44' in proc_df \n",
      "\tvictim\n"
     ]
    },
    {
     "name": "stdout",
     "output_type": "stream",
     "text": [
      "Step 5: find_victims_in_room() completed. Elapsed time: 3.24022\n",
      "Step 6: set_role() completed. Elapsed time: 0.00134\n"
     ]
    },
    {
     "name": "stderr",
     "output_type": "stream",
     "text": [
      "/home/jincheng/anaconda3/lib/python3.7/site-packages/ipykernel_launcher.py:671: UserWarning: Found conflict of victim entries. Found victim_id '0' at index '2' in triage_df, whereas victim_id 'None' in the crosshair field at index '44' in proc_df \n",
      "\tvictim\n",
      "/home/jincheng/anaconda3/lib/python3.7/site-packages/ipykernel_launcher.py:671: UserWarning: Found conflict of victim entries. Found victim_id '29' at index '58' in triage_df, whereas victim_id 'None' in the crosshair field at index '619' in proc_df \n",
      "\tvictim\n",
      "/home/jincheng/anaconda3/lib/python3.7/site-packages/ipykernel_launcher.py:671: UserWarning: Found conflict of victim entries. Found victim_id '27' at index '63' in triage_df, whereas victim_id '26' in the crosshair field at index '643' in proc_df \n",
      "\tvictim\n",
      "/home/jincheng/anaconda3/lib/python3.7/site-packages/ipykernel_launcher.py:671: UserWarning: Found conflict of victim entries. Found victim_id '0' at index '4' in triage_df, whereas victim_id '2' in the crosshair field at index '57' in proc_df \n",
      "\tvictim\n"
     ]
    },
    {
     "name": "stdout",
     "output_type": "stream",
     "text": [
      "\n",
      "Conflict entries saved to /mnt/sda2/projects/ASIST/ASIST-Sigma/data2/conflict_victims/conflct_08-18T17-11-39.csv\n",
      "Step 9: victim_in_cross_hair() completed. Elapsed time: 0.40740\n",
      "Step 8: victim_in_triage_position() completed. Elapsed time: 0.24685\n"
     ]
    },
    {
     "name": "stderr",
     "output_type": "stream",
     "text": [
      "/home/jincheng/anaconda3/lib/python3.7/site-packages/ipykernel_launcher.py:671: UserWarning: Found conflict of victim entries. Found victim_id '2' at index '7' in triage_df, whereas victim_id 'None' in the crosshair field at index '81' in proc_df \n",
      "\tvictim\n"
     ]
    },
    {
     "name": "stdout",
     "output_type": "stream",
     "text": [
      "\n"
     ]
    },
    {
     "name": "stderr",
     "output_type": "stream",
     "text": [
      "/home/jincheng/anaconda3/lib/python3.7/site-packages/ipykernel_launcher.py:671: UserWarning: Found conflict of victim entries. Found victim_id '23' at index '11' in triage_df, whereas victim_id 'None' in the crosshair field at index '158' in proc_df \n",
      "\tvictim\n",
      "/home/jincheng/anaconda3/lib/python3.7/site-packages/ipykernel_launcher.py:671: UserWarning: Found conflict of victim entries. Found victim_id '19' at index '13' in triage_df, whereas victim_id 'None' in the crosshair field at index '208' in proc_df \n",
      "\tvictim\n"
     ]
    },
    {
     "name": "stdout",
     "output_type": "stream",
     "text": [
      "Step 8: victim_in_triage_position() completed. Elapsed time: 0.27012\n"
     ]
    },
    {
     "name": "stderr",
     "output_type": "stream",
     "text": [
      "/home/jincheng/anaconda3/lib/python3.7/site-packages/ipykernel_launcher.py:671: UserWarning: Found conflict of victim entries. Found victim_id '19' at index '14' in triage_df, whereas victim_id 'None' in the crosshair field at index '222' in proc_df \n",
      "\tvictim\n"
     ]
    },
    {
     "name": "stdout",
     "output_type": "stream",
     "text": [
      "Step 9: victim_in_cross_hair() completed. Elapsed time: 0.43426\n"
     ]
    },
    {
     "name": "stderr",
     "output_type": "stream",
     "text": [
      "/home/jincheng/anaconda3/lib/python3.7/site-packages/ipykernel_launcher.py:671: UserWarning: Found conflict of victim entries. Found victim_id '17' at index '18' in triage_df, whereas victim_id '14' in the crosshair field at index '270' in proc_df \n",
      "\tvictim\n",
      "/home/jincheng/anaconda3/lib/python3.7/site-packages/ipykernel_launcher.py:671: UserWarning: Found conflict of victim entries. Found victim_id '14' at index '20' in triage_df, whereas victim_id 'None' in the crosshair field at index '282' in proc_df \n",
      "\tvictim\n",
      "/home/jincheng/anaconda3/lib/python3.7/site-packages/ipykernel_launcher.py:671: UserWarning: Found conflict of victim entries. Found victim_id '14' at index '21' in triage_df, whereas victim_id 'None' in the crosshair field at index '296' in proc_df \n",
      "\tvictim\n",
      "/home/jincheng/anaconda3/lib/python3.7/site-packages/ipykernel_launcher.py:671: UserWarning: Found conflict of victim entries. Found victim_id '11' at index '22' in triage_df, whereas victim_id 'None' in the crosshair field at index '318' in proc_df \n",
      "\tvictim\n",
      "/home/jincheng/anaconda3/lib/python3.7/site-packages/ipykernel_launcher.py:671: UserWarning: Found conflict of victim entries. Found victim_id '11' at index '23' in triage_df, whereas victim_id 'None' in the crosshair field at index '334' in proc_df \n",
      "\tvictim\n",
      "/home/jincheng/anaconda3/lib/python3.7/site-packages/pandas/core/indexing.py:190: SettingWithCopyWarning: \n",
      "A value is trying to be set on a copy of a slice from a DataFrame\n",
      "\n",
      "See the caveats in the documentation: http://pandas.pydata.org/pandas-docs/stable/indexing.html#indexing-view-versus-copy\n",
      "  self._setitem_with_indexer(indexer, value)\n"
     ]
    },
    {
     "name": "stdout",
     "output_type": "stream",
     "text": [
      "Step 7: victim_in_FOV() completed. Elapsed time: 0.44957\n"
     ]
    },
    {
     "name": "stderr",
     "output_type": "stream",
     "text": [
      "/home/jincheng/anaconda3/lib/python3.7/site-packages/ipykernel_launcher.py:671: UserWarning: Found conflict of victim entries. Found victim_id '11' at index '24' in triage_df, whereas victim_id 'None' in the crosshair field at index '334' in proc_df \n",
      "\tvictim\n",
      "/home/jincheng/anaconda3/lib/python3.7/site-packages/ipykernel_launcher.py:671: UserWarning: Found conflict of victim entries. Found victim_id '9' at index '26' in triage_df, whereas victim_id 'None' in the crosshair field at index '338' in proc_df \n",
      "\tvictim\n",
      "/home/jincheng/anaconda3/lib/python3.7/site-packages/ipykernel_launcher.py:671: UserWarning: Found conflict of victim entries. Found victim_id '10' at index '27' in triage_df, whereas victim_id 'None' in the crosshair field at index '340' in proc_df \n",
      "\tvictim\n",
      "/home/jincheng/anaconda3/lib/python3.7/site-packages/ipykernel_launcher.py:671: UserWarning: Found conflict of victim entries. Found victim_id '10' at index '28' in triage_df, whereas victim_id 'None' in the crosshair field at index '340' in proc_df \n",
      "\tvictim\n"
     ]
    },
    {
     "name": "stdout",
     "output_type": "stream",
     "text": [
      "Step 9: victim_in_cross_hair() completed. Elapsed time: 0.43118\n",
      "Step 9: victim_in_cross_hair() completed. Elapsed time: 0.40028\n"
     ]
    },
    {
     "name": "stderr",
     "output_type": "stream",
     "text": [
      "/home/jincheng/anaconda3/lib/python3.7/site-packages/ipykernel_launcher.py:671: UserWarning: Found conflict of victim entries. Found victim_id '11' at index '29' in triage_df, whereas victim_id 'None' in the crosshair field at index '348' in proc_df \n",
      "\tvictim\n",
      "/home/jincheng/anaconda3/lib/python3.7/site-packages/ipykernel_launcher.py:671: UserWarning: Found conflict of victim entries. Found victim_id '10' at index '30' in triage_df, whereas victim_id 'None' in the crosshair field at index '348' in proc_df \n",
      "\tvictim\n",
      "/home/jincheng/anaconda3/lib/python3.7/site-packages/ipykernel_launcher.py:671: UserWarning: Found conflict of victim entries. Found victim_id '10' at index '31' in triage_df, whereas victim_id 'None' in the crosshair field at index '348' in proc_df \n",
      "\tvictim\n",
      "/home/jincheng/anaconda3/lib/python3.7/site-packages/ipykernel_launcher.py:671: UserWarning: Found conflict of victim entries. Found victim_id '9' at index '35' in triage_df, whereas victim_id 'None' in the crosshair field at index '365' in proc_df \n",
      "\tvictim\n"
     ]
    },
    {
     "name": "stdout",
     "output_type": "stream",
     "text": [
      "Step 8: victim_in_triage_position() completed. Elapsed time: 0.29194\n"
     ]
    },
    {
     "name": "stderr",
     "output_type": "stream",
     "text": [
      "/home/jincheng/anaconda3/lib/python3.7/site-packages/ipykernel_launcher.py:671: UserWarning: Found conflict of victim entries. Found victim_id '1' at index '36' in triage_df, whereas victim_id 'None' in the crosshair field at index '430' in proc_df \n",
      "\tvictim\n",
      "/home/jincheng/anaconda3/lib/python3.7/site-packages/ipykernel_launcher.py:671: UserWarning: Found conflict of victim entries. Found victim_id '1' at index '37' in triage_df, whereas victim_id 'None' in the crosshair field at index '438' in proc_df \n",
      "\tvictim\n",
      "/home/jincheng/anaconda3/lib/python3.7/site-packages/ipykernel_launcher.py:671: UserWarning: Found conflict of victim entries. Found victim_id '1' at index '38' in triage_df, whereas victim_id 'None' in the crosshair field at index '438' in proc_df \n",
      "\tvictim\n",
      "/home/jincheng/anaconda3/lib/python3.7/site-packages/ipykernel_launcher.py:671: UserWarning: Found conflict of victim entries. Found victim_id '1' at index '39' in triage_df, whereas victim_id 'None' in the crosshair field at index '444' in proc_df \n",
      "\tvictim\n"
     ]
    },
    {
     "name": "stdout",
     "output_type": "stream",
     "text": [
      "Step 5: find_victims_in_room() completed. Elapsed time: 4.23210\n"
     ]
    },
    {
     "name": "stderr",
     "output_type": "stream",
     "text": [
      "/home/jincheng/anaconda3/lib/python3.7/site-packages/ipykernel_launcher.py:671: UserWarning: Found conflict of victim entries. Found victim_id '4' at index '40' in triage_df, whereas victim_id 'None' in the crosshair field at index '482' in proc_df \n",
      "\tvictim\n"
     ]
    },
    {
     "name": "stdout",
     "output_type": "stream",
     "text": [
      "Step 6: set_role() completed. Elapsed time: 0.00137\n"
     ]
    },
    {
     "name": "stderr",
     "output_type": "stream",
     "text": [
      "/home/jincheng/anaconda3/lib/python3.7/site-packages/ipykernel_launcher.py:671: UserWarning: Found conflict of victim entries. Found victim_id '4' at index '41' in triage_df, whereas victim_id 'None' in the crosshair field at index '490' in proc_df \n",
      "\tvictim\n",
      "/home/jincheng/anaconda3/lib/python3.7/site-packages/ipykernel_launcher.py:671: UserWarning: Found conflict of victim entries. Found victim_id '4' at index '42' in triage_df, whereas victim_id 'None' in the crosshair field at index '491' in proc_df \n",
      "\tvictim\n",
      "/home/jincheng/anaconda3/lib/python3.7/site-packages/ipykernel_launcher.py:671: UserWarning: Found conflict of victim entries. Found victim_id '4' at index '43' in triage_df, whereas victim_id 'None' in the crosshair field at index '493' in proc_df \n",
      "\tvictim\n",
      "/home/jincheng/anaconda3/lib/python3.7/site-packages/ipykernel_launcher.py:671: UserWarning: Found conflict of victim entries. Found victim_id '3' at index '44' in triage_df, whereas victim_id 'None' in the crosshair field at index '496' in proc_df \n",
      "\tvictim\n",
      "/home/jincheng/anaconda3/lib/python3.7/site-packages/ipykernel_launcher.py:671: UserWarning: Found conflict of victim entries. Found victim_id '4' at index '45' in triage_df, whereas victim_id 'None' in the crosshair field at index '497' in proc_df \n",
      "\tvictim\n"
     ]
    },
    {
     "name": "stdout",
     "output_type": "stream",
     "text": [
      "Step 4.5: find_portal_in() completed. Elapsed time: 14.24641\n"
     ]
    },
    {
     "name": "stderr",
     "output_type": "stream",
     "text": [
      "/home/jincheng/anaconda3/lib/python3.7/site-packages/ipykernel_launcher.py:671: UserWarning: Found conflict of victim entries. Found victim_id '3' at index '46' in triage_df, whereas victim_id 'None' in the crosshair field at index '512' in proc_df \n",
      "\tvictim\n",
      "/home/jincheng/anaconda3/lib/python3.7/site-packages/ipykernel_launcher.py:671: UserWarning: Found conflict of victim entries. Found victim_id '3' at index '47' in triage_df, whereas victim_id 'None' in the crosshair field at index '512' in proc_df \n",
      "\tvictim\n",
      "/home/jincheng/anaconda3/lib/python3.7/site-packages/ipykernel_launcher.py:671: UserWarning: Found conflict of victim entries. Found victim_id '3' at index '49' in triage_df, whereas victim_id '5' in the crosshair field at index '526' in proc_df \n",
      "\tvictim\n",
      "/home/jincheng/anaconda3/lib/python3.7/site-packages/ipykernel_launcher.py:671: UserWarning: Found conflict of victim entries. Found victim_id '5' at index '51' in triage_df, whereas victim_id 'None' in the crosshair field at index '552' in proc_df \n",
      "\tvictim\n",
      "/home/jincheng/anaconda3/lib/python3.7/site-packages/ipykernel_launcher.py:671: UserWarning: Found conflict of victim entries. Found victim_id '29' at index '58' in triage_df, whereas victim_id 'None' in the crosshair field at index '619' in proc_df \n",
      "\tvictim\n",
      "/home/jincheng/anaconda3/lib/python3.7/site-packages/ipykernel_launcher.py:671: UserWarning: Found conflict of victim entries. Found victim_id '27' at index '63' in triage_df, whereas victim_id '26' in the crosshair field at index '643' in proc_df \n",
      "\tvictim\n"
     ]
    },
    {
     "name": "stdout",
     "output_type": "stream",
     "text": [
      "\n",
      "Conflict entries saved to /mnt/sda2/projects/ASIST/ASIST-Sigma/data2/conflict_victims/conflct_08-18T17-11-41.csv\n",
      "\n",
      "Step 9: victim_in_cross_hair() completed. Elapsed time: 0.45100\n",
      "Step 5: find_victims_in_room() completed. Elapsed time: 4.09255\n",
      "Step 6: set_role() completed. Elapsed time: 0.00221\n",
      "Step 7: victim_in_FOV() completed. Elapsed time: 0.56513\n"
     ]
    },
    {
     "name": "stderr",
     "output_type": "stream",
     "text": [
      "/home/jincheng/anaconda3/lib/python3.7/site-packages/pandas/core/indexing.py:190: SettingWithCopyWarning: \n",
      "A value is trying to be set on a copy of a slice from a DataFrame\n",
      "\n",
      "See the caveats in the documentation: http://pandas.pydata.org/pandas-docs/stable/indexing.html#indexing-view-versus-copy\n",
      "  self._setitem_with_indexer(indexer, value)\n"
     ]
    },
    {
     "name": "stdout",
     "output_type": "stream",
     "text": [
      "Step 8: victim_in_triage_position() completed. Elapsed time: 0.28665\n",
      "Step 7: victim_in_FOV() completed. Elapsed time: 0.56245\n",
      "Step 4: find_room_in() completed. Elapsed time: 12.88326\n",
      "Step 8: victim_in_triage_position() completed. Elapsed time: 0.30349\n",
      "Step 9: victim_in_cross_hair() completed. Elapsed time: 0.50698\n",
      "Step 9: victim_in_cross_hair() completed. Elapsed time: 0.42633\n",
      "Step 5: find_victims_in_room() completed. Elapsed time: 4.64376\n",
      "Step 6: set_role() completed. Elapsed time: 0.00145\n",
      "Step 7: victim_in_FOV() completed. Elapsed time: 0.57817\n",
      "Step 8: victim_in_triage_position() completed. Elapsed time: 0.30694\n",
      "Step 9: victim_in_cross_hair() completed. Elapsed time: 0.47814\n",
      "Step 5: find_victims_in_room() completed. Elapsed time: 4.29016\n",
      "Step 6: set_role() completed. Elapsed time: 0.00142\n",
      "Step 7: victim_in_FOV() completed. Elapsed time: 0.57304\n",
      "Step 8: victim_in_triage_position() completed. Elapsed time: 0.30869\n",
      "Step 9: victim_in_cross_hair() completed. Elapsed time: 0.49236\n",
      "Step 4.5: find_portal_in() completed. Elapsed time: 13.85414\n",
      "Step 11: identify_triage_id() completed. 19.40356\n"
     ]
    },
    {
     "name": "stderr",
     "output_type": "stream",
     "text": [
      "/home/jincheng/anaconda3/lib/python3.7/site-packages/ipykernel_launcher.py:728: UserWarning: \n",
      "Expect 'SUCCESSFUL' or 'UNSUCCESSFUL' triage state in the next row entry of triage dataframe, but found IN_PROGRESS at row index 1\n"
     ]
    },
    {
     "name": "stdout",
     "output_type": "stream",
     "text": [
      "Step 11: identify_triage_id() completed. 19.28681\n"
     ]
    },
    {
     "name": "stderr",
     "output_type": "stream",
     "text": [
      "/home/jincheng/anaconda3/lib/python3.7/site-packages/ipykernel_launcher.py:728: UserWarning: \n",
      "Expect 'SUCCESSFUL' or 'UNSUCCESSFUL' triage state in the next row entry of triage dataframe, but found IN_PROGRESS at row index 1\n",
      "/home/jincheng/anaconda3/lib/python3.7/site-packages/ipykernel_launcher.py:728: UserWarning: \n",
      "Expect 'SUCCESSFUL' or 'UNSUCCESSFUL' triage state in the next row entry of triage dataframe, but found IN_PROGRESS at row index 9\n"
     ]
    },
    {
     "name": "stdout",
     "output_type": "stream",
     "text": [
      "Step 10: portal_in_FOV() completed. 25.59113\n",
      "Step 5: find_victims_in_room() completed. Elapsed time: 5.86781\n",
      "Step 6: set_role() completed. Elapsed time: 0.00133\n"
     ]
    },
    {
     "name": "stderr",
     "output_type": "stream",
     "text": [
      "/home/jincheng/anaconda3/lib/python3.7/site-packages/ipykernel_launcher.py:671: UserWarning: Found conflict of victim entries. Found victim_id '1' at index '0' in triage_df, whereas victim_id 'None' in the crosshair field at index '471' in proc_df \n",
      "\tvictim\n",
      "/home/jincheng/anaconda3/lib/python3.7/site-packages/ipykernel_launcher.py:671: UserWarning: Found conflict of victim entries. Found victim_id '1' at index '1' in triage_df, whereas victim_id 'None' in the crosshair field at index '471' in proc_df \n",
      "\tvictim\n",
      "/home/jincheng/anaconda3/lib/python3.7/site-packages/ipykernel_launcher.py:671: UserWarning: Found conflict of victim entries. Found victim_id '1' at index '2' in triage_df, whereas victim_id 'None' in the crosshair field at index '498' in proc_df \n",
      "\tvictim\n"
     ]
    },
    {
     "name": "stdout",
     "output_type": "stream",
     "text": [
      "Step 10: portal_in_FOV() completed. 24.47148\n"
     ]
    },
    {
     "name": "stderr",
     "output_type": "stream",
     "text": [
      "/home/jincheng/anaconda3/lib/python3.7/site-packages/ipykernel_launcher.py:671: UserWarning: Found conflict of victim entries. Found victim_id '1' at index '3' in triage_df, whereas victim_id 'None' in the crosshair field at index '499' in proc_df \n",
      "\tvictim\n",
      "/home/jincheng/anaconda3/lib/python3.7/site-packages/ipykernel_launcher.py:671: UserWarning: Found conflict of victim entries. Found victim_id '1' at index '4' in triage_df, whereas victim_id 'None' in the crosshair field at index '503' in proc_df \n",
      "\tvictim\n",
      "/home/jincheng/anaconda3/lib/python3.7/site-packages/ipykernel_launcher.py:671: UserWarning: Found conflict of victim entries. Found victim_id '1' at index '5' in triage_df, whereas victim_id 'None' in the crosshair field at index '510' in proc_df \n",
      "\tvictim\n",
      "/home/jincheng/anaconda3/lib/python3.7/site-packages/ipykernel_launcher.py:671: UserWarning: Found conflict of victim entries. Found victim_id '1' at index '6' in triage_df, whereas victim_id 'None' in the crosshair field at index '511' in proc_df \n",
      "\tvictim\n",
      "/home/jincheng/anaconda3/lib/python3.7/site-packages/ipykernel_launcher.py:671: UserWarning: Found conflict of victim entries. Found victim_id '1' at index '7' in triage_df, whereas victim_id 'None' in the crosshair field at index '518' in proc_df \n",
      "\tvictim\n",
      "/home/jincheng/anaconda3/lib/python3.7/site-packages/ipykernel_launcher.py:671: UserWarning: Found conflict of victim entries. Found victim_id '1' at index '8' in triage_df, whereas victim_id 'None' in the crosshair field at index '521' in proc_df \n",
      "\tvictim\n",
      "/home/jincheng/anaconda3/lib/python3.7/site-packages/ipykernel_launcher.py:671: UserWarning: Found conflict of victim entries. Found victim_id '1' at index '9' in triage_df, whereas victim_id 'None' in the crosshair field at index '527' in proc_df \n",
      "\tvictim\n"
     ]
    },
    {
     "name": "stdout",
     "output_type": "stream",
     "text": [
      "\n",
      "Conflict entries saved to /mnt/sda2/projects/ASIST/ASIST-Sigma/data2/conflict_victims/conflct_08-18T17-12-02.csv\n"
     ]
    },
    {
     "name": "stderr",
     "output_type": "stream",
     "text": [
      "/home/jincheng/anaconda3/lib/python3.7/site-packages/ipykernel_launcher.py:728: UserWarning: \n",
      "Expect 'SUCCESSFUL' or 'UNSUCCESSFUL' triage state in the next row entry of triage dataframe, but found IN_PROGRESS at row index 9\n"
     ]
    },
    {
     "name": "stdout",
     "output_type": "stream",
     "text": [
      "\n",
      "Step 7: victim_in_FOV() completed. Elapsed time: 0.61822\n"
     ]
    },
    {
     "name": "stderr",
     "output_type": "stream",
     "text": [
      "/home/jincheng/anaconda3/lib/python3.7/site-packages/ipykernel_launcher.py:671: UserWarning: Found conflict of victim entries. Found victim_id '2' at index '5' in triage_df, whereas victim_id 'None' in the crosshair field at index '100' in proc_df \n",
      "\tvictim\n",
      "/home/jincheng/anaconda3/lib/python3.7/site-packages/ipykernel_launcher.py:671: UserWarning: Found conflict of victim entries. Found victim_id '1' at index '9' in triage_df, whereas victim_id '2' in the crosshair field at index '120' in proc_df \n",
      "\tvictim\n",
      "/home/jincheng/anaconda3/lib/python3.7/site-packages/ipykernel_launcher.py:671: UserWarning: Found conflict of victim entries. Found victim_id '0' at index '10' in triage_df, whereas victim_id 'None' in the crosshair field at index '211' in proc_df \n",
      "\tvictim\n",
      "/home/jincheng/anaconda3/lib/python3.7/site-packages/ipykernel_launcher.py:671: UserWarning: Found conflict of victim entries. Found victim_id '0' at index '11' in triage_df, whereas victim_id 'None' in the crosshair field at index '227' in proc_df \n",
      "\tvictim\n",
      "/home/jincheng/anaconda3/lib/python3.7/site-packages/ipykernel_launcher.py:671: UserWarning: Found conflict of victim entries. Found victim_id '0' at index '12' in triage_df, whereas victim_id 'None' in the crosshair field at index '227' in proc_df \n",
      "\tvictim\n",
      "/home/jincheng/anaconda3/lib/python3.7/site-packages/ipykernel_launcher.py:671: UserWarning: Found conflict of victim entries. Found victim_id '0' at index '13' in triage_df, whereas victim_id 'None' in the crosshair field at index '240' in proc_df \n",
      "\tvictim\n",
      "/home/jincheng/anaconda3/lib/python3.7/site-packages/ipykernel_launcher.py:671: UserWarning: Found conflict of victim entries. Found victim_id '3' at index '14' in triage_df, whereas victim_id 'None' in the crosshair field at index '280' in proc_df \n",
      "\tvictim\n",
      "/home/jincheng/anaconda3/lib/python3.7/site-packages/ipykernel_launcher.py:671: UserWarning: Found conflict of victim entries. Found victim_id '3' at index '15' in triage_df, whereas victim_id 'None' in the crosshair field at index '295' in proc_df \n",
      "\tvictim\n",
      "/home/jincheng/anaconda3/lib/python3.7/site-packages/ipykernel_launcher.py:671: UserWarning: Found conflict of victim entries. Found victim_id '3' at index '16' in triage_df, whereas victim_id 'None' in the crosshair field at index '297' in proc_df \n",
      "\tvictim\n",
      "/home/jincheng/anaconda3/lib/python3.7/site-packages/ipykernel_launcher.py:671: UserWarning: Found conflict of victim entries. Found victim_id '3' at index '17' in triage_df, whereas victim_id 'None' in the crosshair field at index '309' in proc_df \n",
      "\tvictim\n",
      "/home/jincheng/anaconda3/lib/python3.7/site-packages/ipykernel_launcher.py:671: UserWarning: Found conflict of victim entries. Found victim_id '23' at index '21' in triage_df, whereas victim_id '25' in the crosshair field at index '584' in proc_df \n",
      "\tvictim\n",
      "/home/jincheng/anaconda3/lib/python3.7/site-packages/pandas/core/indexing.py:190: SettingWithCopyWarning: \n",
      "A value is trying to be set on a copy of a slice from a DataFrame\n",
      "\n",
      "See the caveats in the documentation: http://pandas.pydata.org/pandas-docs/stable/indexing.html#indexing-view-versus-copy\n",
      "  self._setitem_with_indexer(indexer, value)\n"
     ]
    },
    {
     "name": "stdout",
     "output_type": "stream",
     "text": [
      "Step 10: portal_in_FOV() completed. 24.41016\n",
      "Step 8: victim_in_triage_position() completed. Elapsed time: 0.36529\n"
     ]
    },
    {
     "name": "stderr",
     "output_type": "stream",
     "text": [
      "/home/jincheng/anaconda3/lib/python3.7/site-packages/ipykernel_launcher.py:671: UserWarning: Found conflict of victim entries. Found victim_id '24' at index '25' in triage_df, whereas victim_id '25' in the crosshair field at index '598' in proc_df \n",
      "\tvictim\n",
      "/home/jincheng/anaconda3/lib/python3.7/site-packages/ipykernel_launcher.py:671: UserWarning: Found conflict of victim entries. Found victim_id '24' at index '27' in triage_df, whereas victim_id '25' in the crosshair field at index '606' in proc_df \n",
      "\tvictim\n",
      "/home/jincheng/anaconda3/lib/python3.7/site-packages/ipykernel_launcher.py:671: UserWarning: Found conflict of victim entries. Found victim_id '24' at index '28' in triage_df, whereas victim_id '25' in the crosshair field at index '607' in proc_df \n",
      "\tvictim\n",
      "/home/jincheng/anaconda3/lib/python3.7/site-packages/ipykernel_launcher.py:671: UserWarning: Found conflict of victim entries. Found victim_id '24' at index '29' in triage_df, whereas victim_id 'None' in the crosshair field at index '612' in proc_df \n",
      "\tvictim\n",
      "/home/jincheng/anaconda3/lib/python3.7/site-packages/ipykernel_launcher.py:671: UserWarning: Found conflict of victim entries. Found victim_id '20' at index '37' in triage_df, whereas victim_id 'None' in the crosshair field at index '810' in proc_df \n",
      "\tvictim\n",
      "/home/jincheng/anaconda3/lib/python3.7/site-packages/ipykernel_launcher.py:671: UserWarning: Found conflict of victim entries. Found victim_id '21' at index '41' in triage_df, whereas victim_id 'None' in the crosshair field at index '891' in proc_df \n",
      "\tvictim\n",
      "/home/jincheng/anaconda3/lib/python3.7/site-packages/ipykernel_launcher.py:671: UserWarning: Found conflict of victim entries. Found victim_id '22' at index '45' in triage_df, whereas victim_id 'None' in the crosshair field at index '954' in proc_df \n",
      "\tvictim\n",
      "/home/jincheng/anaconda3/lib/python3.7/site-packages/ipykernel_launcher.py:671: UserWarning: Found conflict of victim entries. Found victim_id '6' at index '46' in triage_df, whereas victim_id 'None' in the crosshair field at index '1086' in proc_df \n",
      "\tvictim\n",
      "/home/jincheng/anaconda3/lib/python3.7/site-packages/ipykernel_launcher.py:671: UserWarning: Found conflict of victim entries. Found victim_id '1' at index '16' in triage_df, whereas victim_id 'None' in the crosshair field at index '296' in proc_df \n",
      "\tvictim\n",
      "/home/jincheng/anaconda3/lib/python3.7/site-packages/ipykernel_launcher.py:671: UserWarning: Found conflict of victim entries. Found victim_id '6' at index '47' in triage_df, whereas victim_id 'None' in the crosshair field at index '1094' in proc_df \n",
      "\tvictim\n",
      "/home/jincheng/anaconda3/lib/python3.7/site-packages/ipykernel_launcher.py:671: UserWarning: Found conflict of victim entries. Found victim_id '24' at index '30' in triage_df, whereas victim_id 'None' in the crosshair field at index '844' in proc_df \n",
      "\tvictim\n",
      "/home/jincheng/anaconda3/lib/python3.7/site-packages/ipykernel_launcher.py:671: UserWarning: Found conflict of victim entries. Found victim_id '6' at index '48' in triage_df, whereas victim_id 'None' in the crosshair field at index '1094' in proc_df \n",
      "\tvictim\n",
      "/home/jincheng/anaconda3/lib/python3.7/site-packages/ipykernel_launcher.py:671: UserWarning: Found conflict of victim entries. Found victim_id '21' at index '36' in triage_df, whereas victim_id 'None' in the crosshair field at index '943' in proc_df \n",
      "\tvictim\n",
      "/home/jincheng/anaconda3/lib/python3.7/site-packages/ipykernel_launcher.py:671: UserWarning: Found conflict of victim entries. Found victim_id '18' at index '42' in triage_df, whereas victim_id 'None' in the crosshair field at index '1024' in proc_df \n",
      "\tvictim\n",
      "/home/jincheng/anaconda3/lib/python3.7/site-packages/ipykernel_launcher.py:671: UserWarning: Found conflict of victim entries. Found victim_id '6' at index '49' in triage_df, whereas victim_id 'None' in the crosshair field at index '1101' in proc_df \n",
      "\tvictim\n"
     ]
    },
    {
     "name": "stdout",
     "output_type": "stream",
     "text": [
      "Step 9: victim_in_cross_hair() completed. Elapsed time: 0.46420\n"
     ]
    },
    {
     "name": "stderr",
     "output_type": "stream",
     "text": [
      "/home/jincheng/anaconda3/lib/python3.7/site-packages/ipykernel_launcher.py:671: UserWarning: Found conflict of victim entries. Found victim_id '20' at index '46' in triage_df, whereas victim_id 'None' in the crosshair field at index '1042' in proc_df \n",
      "\tvictim\n",
      "/home/jincheng/anaconda3/lib/python3.7/site-packages/ipykernel_launcher.py:671: UserWarning: Found conflict of victim entries. Found victim_id '7' at index '50' in triage_df, whereas victim_id 'None' in the crosshair field at index '1125' in proc_df \n",
      "\tvictim\n"
     ]
    },
    {
     "name": "stdout",
     "output_type": "stream",
     "text": [
      "\n",
      "Conflict entries saved to /mnt/sda2/projects/ASIST/ASIST-Sigma/data2/conflict_victims/conflct_08-18T17-12-03.csv\n",
      "\n"
     ]
    },
    {
     "name": "stderr",
     "output_type": "stream",
     "text": [
      "/home/jincheng/anaconda3/lib/python3.7/site-packages/ipykernel_launcher.py:671: UserWarning: Found conflict of victim entries. Found victim_id '7' at index '51' in triage_df, whereas victim_id 'None' in the crosshair field at index '1133' in proc_df \n",
      "\tvictim\n",
      "/home/jincheng/anaconda3/lib/python3.7/site-packages/ipykernel_launcher.py:671: UserWarning: Found conflict of victim entries. Found victim_id '7' at index '52' in triage_df, whereas victim_id 'None' in the crosshair field at index '1134' in proc_df \n",
      "\tvictim\n",
      "/home/jincheng/anaconda3/lib/python3.7/site-packages/ipykernel_launcher.py:671: UserWarning: Found conflict of victim entries. Found victim_id '7' at index '53' in triage_df, whereas victim_id 'None' in the crosshair field at index '1140' in proc_df \n",
      "\tvictim\n"
     ]
    },
    {
     "name": "stdout",
     "output_type": "stream",
     "text": [
      "\n",
      "Conflict entries saved to /mnt/sda2/projects/ASIST/ASIST-Sigma/data2/conflict_victims/conflct_08-18T17-12-03.csv\n",
      "\n"
     ]
    },
    {
     "name": "stderr",
     "output_type": "stream",
     "text": [
      "/home/jincheng/anaconda3/lib/python3.7/site-packages/pandas/core/indexing.py:190: SettingWithCopyWarning: \n",
      "A value is trying to be set on a copy of a slice from a DataFrame\n",
      "\n",
      "See the caveats in the documentation: http://pandas.pydata.org/pandas-docs/stable/indexing.html#indexing-view-versus-copy\n",
      "  self._setitem_with_indexer(indexer, value)\n",
      "/home/jincheng/anaconda3/lib/python3.7/site-packages/pandas/core/indexing.py:190: SettingWithCopyWarning: \n",
      "A value is trying to be set on a copy of a slice from a DataFrame\n",
      "\n",
      "See the caveats in the documentation: http://pandas.pydata.org/pandas-docs/stable/indexing.html#indexing-view-versus-copy\n",
      "  self._setitem_with_indexer(indexer, value)\n"
     ]
    },
    {
     "name": "stdout",
     "output_type": "stream",
     "text": [
      "Step 10: portal_in_FOV() completed. 25.23373\n",
      "Step 10: portal_in_FOV() completed. 25.16604\n"
     ]
    },
    {
     "name": "stderr",
     "output_type": "stream",
     "text": [
      "/home/jincheng/anaconda3/lib/python3.7/site-packages/ipykernel_launcher.py:671: UserWarning: Found conflict of victim entries. Found victim_id '1' at index '7' in triage_df, whereas victim_id 'None' in the crosshair field at index '220' in proc_df \n",
      "\tvictim\n",
      "/home/jincheng/anaconda3/lib/python3.7/site-packages/ipykernel_launcher.py:671: UserWarning: Found conflict of victim entries. Found victim_id '2' at index '8' in triage_df, whereas victim_id 'None' in the crosshair field at index '223' in proc_df \n",
      "\tvictim\n",
      "/home/jincheng/anaconda3/lib/python3.7/site-packages/ipykernel_launcher.py:671: UserWarning: Found conflict of victim entries. Found victim_id '1' at index '9' in triage_df, whereas victim_id 'None' in the crosshair field at index '228' in proc_df \n",
      "\tvictim\n",
      "/home/jincheng/anaconda3/lib/python3.7/site-packages/ipykernel_launcher.py:671: UserWarning: Found conflict of victim entries. Found victim_id '1' at index '10' in triage_df, whereas victim_id 'None' in the crosshair field at index '229' in proc_df \n",
      "\tvictim\n",
      "/home/jincheng/anaconda3/lib/python3.7/site-packages/ipykernel_launcher.py:671: UserWarning: Found conflict of victim entries. Found victim_id '1' at index '11' in triage_df, whereas victim_id 'None' in the crosshair field at index '235' in proc_df \n",
      "\tvictim\n",
      "/home/jincheng/anaconda3/lib/python3.7/site-packages/ipykernel_launcher.py:671: UserWarning: Found conflict of victim entries. Found victim_id '22' at index '15' in triage_df, whereas victim_id 'None' in the crosshair field at index '562' in proc_df \n",
      "\tvictim\n",
      "/home/jincheng/anaconda3/lib/python3.7/site-packages/ipykernel_launcher.py:671: UserWarning: Found conflict of victim entries. Found victim_id '21' at index '19' in triage_df, whereas victim_id 'None' in the crosshair field at index '623' in proc_df \n",
      "\tvictim\n"
     ]
    },
    {
     "name": "stdout",
     "output_type": "stream",
     "text": [
      "Step 10: portal_in_FOV() completed. 25.07085\n"
     ]
    },
    {
     "name": "stderr",
     "output_type": "stream",
     "text": [
      "/home/jincheng/anaconda3/lib/python3.7/site-packages/ipykernel_launcher.py:671: UserWarning: Found conflict of victim entries. Found victim_id '18' at index '23' in triage_df, whereas victim_id '20' in the crosshair field at index '698' in proc_df \n",
      "\tvictim\n"
     ]
    },
    {
     "name": "stdout",
     "output_type": "stream",
     "text": [
      "Step 11: identify_triage_id() completed. 3.76101\n"
     ]
    },
    {
     "name": "stderr",
     "output_type": "stream",
     "text": [
      "/home/jincheng/anaconda3/lib/python3.7/site-packages/ipykernel_launcher.py:671: UserWarning: Found conflict of victim entries. Found victim_id '20' at index '27' in triage_df, whereas victim_id 'None' in the crosshair field at index '715' in proc_df \n",
      "\tvictim\n"
     ]
    },
    {
     "name": "stdout",
     "output_type": "stream",
     "text": [
      "Step 10: portal_in_FOV() completed. 25.21227\n"
     ]
    },
    {
     "name": "stderr",
     "output_type": "stream",
     "text": [
      "/home/jincheng/anaconda3/lib/python3.7/site-packages/ipykernel_launcher.py:671: UserWarning: Found conflict of victim entries. Found victim_id '16' at index '31' in triage_df, whereas victim_id '15' in the crosshair field at index '842' in proc_df \n",
      "\tvictim\n",
      "/home/jincheng/anaconda3/lib/python3.7/site-packages/ipykernel_launcher.py:671: UserWarning: Found conflict of victim entries. Found victim_id '15' at index '35' in triage_df, whereas victim_id '14' in the crosshair field at index '885' in proc_df \n",
      "\tvictim\n",
      "/home/jincheng/anaconda3/lib/python3.7/site-packages/ipykernel_launcher.py:671: UserWarning: Found conflict of victim entries. Found victim_id '8' at index '39' in triage_df, whereas victim_id 'None' in the crosshair field at index '970' in proc_df \n",
      "\tvictim\n",
      "/home/jincheng/anaconda3/lib/python3.7/site-packages/ipykernel_launcher.py:671: UserWarning: Found conflict of victim entries. Found victim_id '12' at index '43' in triage_df, whereas victim_id 'None' in the crosshair field at index '1132' in proc_df \n",
      "\tvictim\n"
     ]
    },
    {
     "name": "stdout",
     "output_type": "stream",
     "text": [
      "\n",
      "Conflict entries saved to /mnt/sda2/projects/ASIST/ASIST-Sigma/data2/conflict_victims/conflct_08-18T17-12-05.csv\n",
      "\n"
     ]
    },
    {
     "name": "stderr",
     "output_type": "stream",
     "text": [
      "/home/jincheng/anaconda3/lib/python3.7/site-packages/ipykernel_launcher.py:671: UserWarning: Found conflict of victim entries. Found victim_id '4' at index '0' in triage_df, whereas victim_id 'None' in the crosshair field at index '411' in proc_df \n",
      "\tvictim\n",
      "/home/jincheng/anaconda3/lib/python3.7/site-packages/ipykernel_launcher.py:671: UserWarning: Found conflict of victim entries. Found victim_id '4' at index '1' in triage_df, whereas victim_id 'None' in the crosshair field at index '419' in proc_df \n",
      "\tvictim\n",
      "/home/jincheng/anaconda3/lib/python3.7/site-packages/ipykernel_launcher.py:671: UserWarning: Found conflict of victim entries. Found victim_id '4' at index '2' in triage_df, whereas victim_id 'None' in the crosshair field at index '422' in proc_df \n",
      "\tvictim\n",
      "/home/jincheng/anaconda3/lib/python3.7/site-packages/ipykernel_launcher.py:671: UserWarning: Found conflict of victim entries. Found victim_id '4' at index '3' in triage_df, whereas victim_id 'None' in the crosshair field at index '426' in proc_df \n",
      "\tvictim\n",
      "/home/jincheng/anaconda3/lib/python3.7/site-packages/ipykernel_launcher.py:671: UserWarning: Found conflict of victim entries. Found victim_id '3' at index '4' in triage_df, whereas victim_id 'None' in the crosshair field at index '457' in proc_df \n",
      "\tvictim\n",
      "/home/jincheng/anaconda3/lib/python3.7/site-packages/ipykernel_launcher.py:671: UserWarning: Found conflict of victim entries. Found victim_id '1' at index '3' in triage_df, whereas victim_id 'None' in the crosshair field at index '91' in proc_df \n",
      "\tvictim\n",
      "/home/jincheng/anaconda3/lib/python3.7/site-packages/ipykernel_launcher.py:671: UserWarning: Found conflict of victim entries. Found victim_id '3' at index '5' in triage_df, whereas victim_id 'None' in the crosshair field at index '472' in proc_df \n",
      "\tvictim\n",
      "/home/jincheng/anaconda3/lib/python3.7/site-packages/ipykernel_launcher.py:671: UserWarning: Found conflict of victim entries. Found victim_id '2' at index '4' in triage_df, whereas victim_id 'None' in the crosshair field at index '98' in proc_df \n",
      "\tvictim\n",
      "/home/jincheng/anaconda3/lib/python3.7/site-packages/ipykernel_launcher.py:671: UserWarning: Found conflict of victim entries. Found victim_id '3' at index '6' in triage_df, whereas victim_id 'None' in the crosshair field at index '473' in proc_df \n",
      "\tvictim\n",
      "/home/jincheng/anaconda3/lib/python3.7/site-packages/ipykernel_launcher.py:671: UserWarning: Found conflict of victim entries. Found victim_id '1' at index '5' in triage_df, whereas victim_id 'None' in the crosshair field at index '99' in proc_df \n",
      "\tvictim\n",
      "/home/jincheng/anaconda3/lib/python3.7/site-packages/ipykernel_launcher.py:671: UserWarning: Found conflict of victim entries. Found victim_id '3' at index '7' in triage_df, whereas victim_id 'None' in the crosshair field at index '476' in proc_df \n",
      "\tvictim\n",
      "/home/jincheng/anaconda3/lib/python3.7/site-packages/ipykernel_launcher.py:671: UserWarning: Found conflict of victim entries. Found victim_id '1' at index '6' in triage_df, whereas victim_id 'None' in the crosshair field at index '99' in proc_df \n",
      "\tvictim\n",
      "/home/jincheng/anaconda3/lib/python3.7/site-packages/ipykernel_launcher.py:671: UserWarning: Found conflict of victim entries. Found victim_id '3' at index '8' in triage_df, whereas victim_id 'None' in the crosshair field at index '486' in proc_df \n",
      "\tvictim\n",
      "/home/jincheng/anaconda3/lib/python3.7/site-packages/ipykernel_launcher.py:671: UserWarning: Found conflict of victim entries. Found victim_id '23' at index '10' in triage_df, whereas victim_id '24' in the crosshair field at index '203' in proc_df \n",
      "\tvictim\n",
      "/home/jincheng/anaconda3/lib/python3.7/site-packages/ipykernel_launcher.py:671: UserWarning: Found conflict of victim entries. Found victim_id '1' at index '16' in triage_df, whereas victim_id 'None' in the crosshair field at index '628' in proc_df \n",
      "\tvictim\n",
      "/home/jincheng/anaconda3/lib/python3.7/site-packages/ipykernel_launcher.py:671: UserWarning: Found conflict of victim entries. Found victim_id '25' at index '11' in triage_df, whereas victim_id '23' in the crosshair field at index '204' in proc_df \n",
      "\tvictim\n",
      "/home/jincheng/anaconda3/lib/python3.7/site-packages/ipykernel_launcher.py:671: UserWarning: Found conflict of victim entries. Found victim_id '5' at index '3' in triage_df, whereas victim_id 'None' in the crosshair field at index '121' in proc_df \n",
      "\tvictim\n",
      "/home/jincheng/anaconda3/lib/python3.7/site-packages/ipykernel_launcher.py:671: UserWarning: Found conflict of victim entries. Found victim_id '3' at index '8' in triage_df, whereas victim_id '4' in the crosshair field at index '163' in proc_df \n",
      "\tvictim\n",
      "/home/jincheng/anaconda3/lib/python3.7/site-packages/ipykernel_launcher.py:671: UserWarning: Found conflict of victim entries. Found victim_id '1' at index '17' in triage_df, whereas victim_id 'None' in the crosshair field at index '636' in proc_df \n",
      "\tvictim\n",
      "/home/jincheng/anaconda3/lib/python3.7/site-packages/ipykernel_launcher.py:671: UserWarning: Found conflict of victim entries. Found victim_id '23' at index '12' in triage_df, whereas victim_id 'None' in the crosshair field at index '219' in proc_df \n",
      "\tvictim\n",
      "/home/jincheng/anaconda3/lib/python3.7/site-packages/ipykernel_launcher.py:671: UserWarning: Found conflict of victim entries. Found victim_id '4' at index '11' in triage_df, whereas victim_id 'None' in the crosshair field at index '178' in proc_df \n",
      "\tvictim\n",
      "/home/jincheng/anaconda3/lib/python3.7/site-packages/ipykernel_launcher.py:671: UserWarning: Found conflict of victim entries. Found victim_id '1' at index '18' in triage_df, whereas victim_id 'None' in the crosshair field at index '643' in proc_df \n",
      "\tvictim\n",
      "/home/jincheng/anaconda3/lib/python3.7/site-packages/ipykernel_launcher.py:671: UserWarning: Found conflict of victim entries. Found victim_id '23' at index '13' in triage_df, whereas victim_id 'None' in the crosshair field at index '219' in proc_df \n",
      "\tvictim\n",
      "/home/jincheng/anaconda3/lib/python3.7/site-packages/ipykernel_launcher.py:671: UserWarning: Found conflict of victim entries. Found victim_id '27' at index '17' in triage_df, whereas victim_id '26' in the crosshair field at index '250' in proc_df \n",
      "\tvictim\n",
      "/home/jincheng/anaconda3/lib/python3.7/site-packages/ipykernel_launcher.py:671: UserWarning: Found conflict of victim entries. Found victim_id '6' at index '19' in triage_df, whereas victim_id 'None' in the crosshair field at index '808' in proc_df \n",
      "\tvictim\n",
      "/home/jincheng/anaconda3/lib/python3.7/site-packages/ipykernel_launcher.py:671: UserWarning: Found conflict of victim entries. Found victim_id '6' at index '20' in triage_df, whereas victim_id 'None' in the crosshair field at index '816' in proc_df \n",
      "\tvictim\n",
      "/home/jincheng/anaconda3/lib/python3.7/site-packages/ipykernel_launcher.py:671: UserWarning: Found conflict of victim entries. Found victim_id '24' at index '14' in triage_df, whereas victim_id 'None' in the crosshair field at index '223' in proc_df \n",
      "\tvictim\n",
      "/home/jincheng/anaconda3/lib/python3.7/site-packages/ipykernel_launcher.py:671: UserWarning: Found conflict of victim entries. Found victim_id '26' at index '23' in triage_df, whereas victim_id 'None' in the crosshair field at index '271' in proc_df \n",
      "\tvictim\n",
      "/home/jincheng/anaconda3/lib/python3.7/site-packages/ipykernel_launcher.py:671: UserWarning: Found conflict of victim entries. Found victim_id '24' at index '15' in triage_df, whereas victim_id 'None' in the crosshair field at index '231' in proc_df \n",
      "\tvictim\n",
      "/home/jincheng/anaconda3/lib/python3.7/site-packages/ipykernel_launcher.py:671: UserWarning: Found conflict of victim entries. Found victim_id '6' at index '21' in triage_df, whereas victim_id 'None' in the crosshair field at index '819' in proc_df \n",
      "\tvictim\n",
      "/home/jincheng/anaconda3/lib/python3.7/site-packages/pandas/core/indexing.py:190: SettingWithCopyWarning: \n",
      "A value is trying to be set on a copy of a slice from a DataFrame\n",
      "\n",
      "See the caveats in the documentation: http://pandas.pydata.org/pandas-docs/stable/indexing.html#indexing-view-versus-copy\n",
      "  self._setitem_with_indexer(indexer, value)\n",
      "/home/jincheng/anaconda3/lib/python3.7/site-packages/ipykernel_launcher.py:671: UserWarning: Found conflict of victim entries. Found victim_id '0' at index '27' in triage_df, whereas victim_id 'None' in the crosshair field at index '330' in proc_df \n",
      "\tvictim\n",
      "/home/jincheng/anaconda3/lib/python3.7/site-packages/ipykernel_launcher.py:671: UserWarning: Found conflict of victim entries. Found victim_id '24' at index '16' in triage_df, whereas victim_id 'None' in the crosshair field at index '231' in proc_df \n",
      "\tvictim\n",
      "/home/jincheng/anaconda3/lib/python3.7/site-packages/ipykernel_launcher.py:671: UserWarning: Found conflict of victim entries. Found victim_id '6' at index '22' in triage_df, whereas victim_id 'None' in the crosshair field at index '819' in proc_df \n",
      "\tvictim\n",
      "/home/jincheng/anaconda3/lib/python3.7/site-packages/ipykernel_launcher.py:671: UserWarning: Found conflict of victim entries. Found victim_id '23' at index '17' in triage_df, whereas victim_id 'None' in the crosshair field at index '233' in proc_df \n",
      "\tvictim\n",
      "/home/jincheng/anaconda3/lib/python3.7/site-packages/ipykernel_launcher.py:671: UserWarning: Found conflict of victim entries. Found victim_id '2' at index '32' in triage_df, whereas victim_id '1' in the crosshair field at index '389' in proc_df \n",
      "\tvictim\n",
      "/home/jincheng/anaconda3/lib/python3.7/site-packages/ipykernel_launcher.py:671: UserWarning: Found conflict of victim entries. Found victim_id '22' at index '21' in triage_df, whereas victim_id 'None' in the crosshair field at index '284' in proc_df \n",
      "\tvictim\n"
     ]
    },
    {
     "name": "stdout",
     "output_type": "stream",
     "text": [
      "Step 10: portal_in_FOV() completed. 26.19180\n"
     ]
    },
    {
     "name": "stderr",
     "output_type": "stream",
     "text": [
      "/home/jincheng/anaconda3/lib/python3.7/site-packages/ipykernel_launcher.py:671: UserWarning: Found conflict of victim entries. Found victim_id '6' at index '23' in triage_df, whereas victim_id 'None' in the crosshair field at index '823' in proc_df \n",
      "\tvictim\n",
      "/home/jincheng/anaconda3/lib/python3.7/site-packages/ipykernel_launcher.py:671: UserWarning: Found conflict of victim entries. Found victim_id '1' at index '35' in triage_df, whereas victim_id 'None' in the crosshair field at index '396' in proc_df \n",
      "\tvictim\n",
      "/home/jincheng/anaconda3/lib/python3.7/site-packages/ipykernel_launcher.py:671: UserWarning: Found conflict of victim entries. Found victim_id '7' at index '24' in triage_df, whereas victim_id 'None' in the crosshair field at index '912' in proc_df \n",
      "\tvictim\n",
      "/home/jincheng/anaconda3/lib/python3.7/site-packages/ipykernel_launcher.py:671: UserWarning: Found conflict of victim entries. Found victim_id '6' at index '39' in triage_df, whereas victim_id '7' in the crosshair field at index '455' in proc_df \n",
      "\tvictim\n",
      "/home/jincheng/anaconda3/lib/python3.7/site-packages/ipykernel_launcher.py:671: UserWarning: Found conflict of victim entries. Found victim_id '17' at index '28' in triage_df, whereas victim_id 'None' in the crosshair field at index '327' in proc_df \n",
      "\tvictim\n"
     ]
    },
    {
     "name": "stdout",
     "output_type": "stream",
     "text": [
      "Step 10: portal_in_FOV() completed. 25.26139\n"
     ]
    },
    {
     "name": "stderr",
     "output_type": "stream",
     "text": [
      "/home/jincheng/anaconda3/lib/python3.7/site-packages/ipykernel_launcher.py:671: UserWarning: Found conflict of victim entries. Found victim_id '7' at index '25' in triage_df, whereas victim_id 'None' in the crosshair field at index '921' in proc_df \n",
      "\tvictim\n",
      "/home/jincheng/anaconda3/lib/python3.7/site-packages/ipykernel_launcher.py:671: UserWarning: Found conflict of victim entries. Found victim_id '15' at index '33' in triage_df, whereas victim_id '14' in the crosshair field at index '344' in proc_df \n",
      "\tvictim\n",
      "/home/jincheng/anaconda3/lib/python3.7/site-packages/ipykernel_launcher.py:671: UserWarning: Found conflict of victim entries. Found victim_id '7' at index '43' in triage_df, whereas victim_id 'None' in the crosshair field at index '476' in proc_df \n",
      "\tvictim\n",
      "/home/jincheng/anaconda3/lib/python3.7/site-packages/ipykernel_launcher.py:671: UserWarning: Found conflict of victim entries. Found victim_id '14' at index '35' in triage_df, whereas victim_id 'None' in the crosshair field at index '356' in proc_df \n",
      "\tvictim\n",
      "/home/jincheng/anaconda3/lib/python3.7/site-packages/ipykernel_launcher.py:671: UserWarning: Found conflict of victim entries. Found victim_id '25' at index '48' in triage_df, whereas victim_id '24' in the crosshair field at index '517' in proc_df \n",
      "\tvictim\n",
      "/home/jincheng/anaconda3/lib/python3.7/site-packages/ipykernel_launcher.py:671: UserWarning: Found conflict of victim entries. Found victim_id '7' at index '26' in triage_df, whereas victim_id 'None' in the crosshair field at index '927' in proc_df \n",
      "\tvictim\n",
      "/home/jincheng/anaconda3/lib/python3.7/site-packages/ipykernel_launcher.py:671: UserWarning: Found conflict of victim entries. Found victim_id '14' at index '36' in triage_df, whereas victim_id 'None' in the crosshair field at index '370' in proc_df \n",
      "\tvictim\n",
      "/home/jincheng/anaconda3/lib/python3.7/site-packages/ipykernel_launcher.py:671: UserWarning: Found conflict of victim entries. Found victim_id '24' at index '52' in triage_df, whereas victim_id '23' in the crosshair field at index '528' in proc_df \n",
      "\tvictim\n"
     ]
    },
    {
     "name": "stdout",
     "output_type": "stream",
     "text": [
      "\n",
      "Conflict entries saved to /mnt/sda2/projects/ASIST/ASIST-Sigma/data2/conflict_victims/conflct_08-18T17-12-06.csv\n",
      "\n"
     ]
    },
    {
     "name": "stderr",
     "output_type": "stream",
     "text": [
      "/home/jincheng/anaconda3/lib/python3.7/site-packages/ipykernel_launcher.py:671: UserWarning: Found conflict of victim entries. Found victim_id '23' at index '55' in triage_df, whereas victim_id 'None' in the crosshair field at index '556' in proc_df \n",
      "\tvictim\n",
      "/home/jincheng/anaconda3/lib/python3.7/site-packages/ipykernel_launcher.py:671: UserWarning: Found conflict of victim entries. Found victim_id '12' at index '40' in triage_df, whereas victim_id 'None' in the crosshair field at index '402' in proc_df \n",
      "\tvictim\n",
      "/home/jincheng/anaconda3/lib/python3.7/site-packages/ipykernel_launcher.py:671: UserWarning: Found conflict of victim entries. Found victim_id '22' at index '61' in triage_df, whereas victim_id 'None' in the crosshair field at index '600' in proc_df \n",
      "\tvictim\n",
      "/home/jincheng/anaconda3/lib/python3.7/site-packages/ipykernel_launcher.py:671: UserWarning: Found conflict of victim entries. Found victim_id '11' at index '45' in triage_df, whereas victim_id '9' in the crosshair field at index '443' in proc_df \n",
      "\tvictim\n",
      "/home/jincheng/anaconda3/lib/python3.7/site-packages/ipykernel_launcher.py:671: UserWarning: Found conflict of victim entries. Found victim_id '16' at index '65' in triage_df, whereas victim_id '15' in the crosshair field at index '647' in proc_df \n",
      "\tvictim\n",
      "/home/jincheng/anaconda3/lib/python3.7/site-packages/ipykernel_launcher.py:671: UserWarning: Found conflict of victim entries. Found victim_id '10' at index '51' in triage_df, whereas victim_id '9' in the crosshair field at index '462' in proc_df \n",
      "\tvictim\n",
      "/home/jincheng/anaconda3/lib/python3.7/site-packages/ipykernel_launcher.py:671: UserWarning: Found conflict of victim entries. Found victim_id '15' at index '69' in triage_df, whereas victim_id '14' in the crosshair field at index '669' in proc_df \n",
      "\tvictim\n",
      "/home/jincheng/anaconda3/lib/python3.7/site-packages/ipykernel_launcher.py:671: UserWarning: Found conflict of victim entries. Found victim_id '9' at index '55' in triage_df, whereas victim_id 'None' in the crosshair field at index '477' in proc_df \n",
      "\tvictim\n",
      "/home/jincheng/anaconda3/lib/python3.7/site-packages/ipykernel_launcher.py:671: UserWarning: Found conflict of victim entries. Found victim_id '8' at index '73' in triage_df, whereas victim_id 'None' in the crosshair field at index '776' in proc_df \n",
      "\tvictim\n",
      "/home/jincheng/anaconda3/lib/python3.7/site-packages/ipykernel_launcher.py:671: UserWarning: Found conflict of victim entries. Found victim_id '21' at index '79' in triage_df, whereas victim_id 'None' in the crosshair field at index '1019' in proc_df \n",
      "\tvictim\n",
      "/home/jincheng/anaconda3/lib/python3.7/site-packages/ipykernel_launcher.py:671: UserWarning: Found conflict of victim entries. Found victim_id '8' at index '59' in triage_df, whereas victim_id 'None' in the crosshair field at index '505' in proc_df \n",
      "\tvictim\n"
     ]
    },
    {
     "name": "stdout",
     "output_type": "stream",
     "text": [
      "Step 10: portal_in_FOV() completed. 24.10235\n"
     ]
    },
    {
     "name": "stderr",
     "output_type": "stream",
     "text": [
      "/home/jincheng/anaconda3/lib/python3.7/site-packages/ipykernel_launcher.py:671: UserWarning: Found conflict of victim entries. Found victim_id '13' at index '63' in triage_df, whereas victim_id 'None' in the crosshair field at index '546' in proc_df \n",
      "\tvictim\n",
      "/home/jincheng/anaconda3/lib/python3.7/site-packages/ipykernel_launcher.py:671: UserWarning: Found conflict of victim entries. Found victim_id '20' at index '84' in triage_df, whereas victim_id '18' in the crosshair field at index '1076' in proc_df \n",
      "\tvictim\n",
      "/home/jincheng/anaconda3/lib/python3.7/site-packages/ipykernel_launcher.py:671: UserWarning: Found conflict of victim entries. Found victim_id '24' at index '5' in triage_df, whereas victim_id 'None' in the crosshair field at index '252' in proc_df \n",
      "\tvictim\n",
      "/home/jincheng/anaconda3/lib/python3.7/site-packages/ipykernel_launcher.py:671: UserWarning: Found conflict of victim entries. Found victim_id '21' at index '66' in triage_df, whereas victim_id 'None' in the crosshair field at index '606' in proc_df \n",
      "\tvictim\n",
      "/home/jincheng/anaconda3/lib/python3.7/site-packages/ipykernel_launcher.py:671: UserWarning: Found conflict of victim entries. Found victim_id '18' at index '87' in triage_df, whereas victim_id 'None' in the crosshair field at index '1091' in proc_df \n",
      "\tvictim\n",
      "/home/jincheng/anaconda3/lib/python3.7/site-packages/ipykernel_launcher.py:671: UserWarning: Found conflict of victim entries. Found victim_id '18' at index '71' in triage_df, whereas victim_id '20' in the crosshair field at index '644' in proc_df \n",
      "\tvictim\n",
      "/home/jincheng/anaconda3/lib/python3.7/site-packages/ipykernel_launcher.py:671: UserWarning: Found conflict of victim entries. Found victim_id '24' at index '6' in triage_df, whereas victim_id 'None' in the crosshair field at index '259' in proc_df \n",
      "\tvictim\n"
     ]
    },
    {
     "name": "stdout",
     "output_type": "stream",
     "text": [
      "\n",
      "Conflict entries saved to /mnt/sda2/projects/ASIST/ASIST-Sigma/data2/conflict_victims/conflct_08-18T17-12-06.csv\n"
     ]
    },
    {
     "name": "stderr",
     "output_type": "stream",
     "text": [
      "/home/jincheng/anaconda3/lib/python3.7/site-packages/ipykernel_launcher.py:671: UserWarning: Found conflict of victim entries. Found victim_id '20' at index '74' in triage_df, whereas victim_id 'None' in the crosshair field at index '657' in proc_df \n",
      "\tvictim\n",
      "/home/jincheng/anaconda3/lib/python3.7/site-packages/ipykernel_launcher.py:671: UserWarning: Found conflict of victim entries. Found victim_id '1' at index '12' in triage_df, whereas victim_id 'None' in the crosshair field at index '376' in proc_df \n",
      "\tvictim\n"
     ]
    },
    {
     "name": "stdout",
     "output_type": "stream",
     "text": [
      "\n"
     ]
    },
    {
     "name": "stderr",
     "output_type": "stream",
     "text": [
      "/home/jincheng/anaconda3/lib/python3.7/site-packages/ipykernel_launcher.py:671: UserWarning: Found conflict of victim entries. Found victim_id '24' at index '78' in triage_df, whereas victim_id 'None' in the crosshair field at index '820' in proc_df \n",
      "\tvictim\n",
      "/home/jincheng/anaconda3/lib/python3.7/site-packages/ipykernel_launcher.py:671: UserWarning: Found conflict of victim entries. Found victim_id '1' at index '13' in triage_df, whereas victim_id 'None' in the crosshair field at index '385' in proc_df \n",
      "\tvictim\n",
      "/home/jincheng/anaconda3/lib/python3.7/site-packages/pandas/core/indexing.py:190: SettingWithCopyWarning: \n",
      "A value is trying to be set on a copy of a slice from a DataFrame\n",
      "\n",
      "See the caveats in the documentation: http://pandas.pydata.org/pandas-docs/stable/indexing.html#indexing-view-versus-copy\n",
      "  self._setitem_with_indexer(indexer, value)\n",
      "/home/jincheng/anaconda3/lib/python3.7/site-packages/ipykernel_launcher.py:671: UserWarning: Found conflict of victim entries. Found victim_id '1' at index '82' in triage_df, whereas victim_id 'None' in the crosshair field at index '933' in proc_df \n",
      "\tvictim\n",
      "/home/jincheng/anaconda3/lib/python3.7/site-packages/ipykernel_launcher.py:671: UserWarning: Found conflict of victim entries. Found victim_id '0' at index '3' in triage_df, whereas victim_id 'None' in the crosshair field at index '132' in proc_df \n",
      "\tvictim\n",
      "/home/jincheng/anaconda3/lib/python3.7/site-packages/ipykernel_launcher.py:671: UserWarning: Found conflict of victim entries. Found victim_id '1' at index '14' in triage_df, whereas victim_id 'None' in the crosshair field at index '390' in proc_df \n",
      "\tvictim\n",
      "/home/jincheng/anaconda3/lib/python3.7/site-packages/ipykernel_launcher.py:671: UserWarning: Found conflict of victim entries. Found victim_id '1' at index '15' in triage_df, whereas victim_id 'None' in the crosshair field at index '393' in proc_df \n",
      "\tvictim\n",
      "/home/jincheng/anaconda3/lib/python3.7/site-packages/ipykernel_launcher.py:671: UserWarning: Found conflict of victim entries. Found victim_id '4' at index '86' in triage_df, whereas victim_id 'None' in the crosshair field at index '1029' in proc_df \n",
      "\tvictim\n",
      "/home/jincheng/anaconda3/lib/python3.7/site-packages/ipykernel_launcher.py:671: UserWarning: Found conflict of victim entries. Found victim_id '1' at index '16' in triage_df, whereas victim_id 'None' in the crosshair field at index '396' in proc_df \n",
      "\tvictim\n",
      "/home/jincheng/anaconda3/lib/python3.7/site-packages/ipykernel_launcher.py:671: UserWarning: Found conflict of victim entries. Found victim_id '29' at index '90' in triage_df, whereas victim_id 'None' in the crosshair field at index '1083' in proc_df \n",
      "\tvictim\n",
      "/home/jincheng/anaconda3/lib/python3.7/site-packages/ipykernel_launcher.py:671: UserWarning: Found conflict of victim entries. Found victim_id '5' at index '7' in triage_df, whereas victim_id 'None' in the crosshair field at index '246' in proc_df \n",
      "\tvictim\n",
      "/home/jincheng/anaconda3/lib/python3.7/site-packages/ipykernel_launcher.py:671: UserWarning: Found conflict of victim entries. Found victim_id '27' at index '95' in triage_df, whereas victim_id '26' in the crosshair field at index '1124' in proc_df \n",
      "\tvictim\n",
      "/home/jincheng/anaconda3/lib/python3.7/site-packages/ipykernel_launcher.py:671: UserWarning: Found conflict of victim entries. Found victim_id '1' at index '17' in triage_df, whereas victim_id 'None' in the crosshair field at index '401' in proc_df \n",
      "\tvictim\n",
      "/home/jincheng/anaconda3/lib/python3.7/site-packages/ipykernel_launcher.py:671: UserWarning: Found conflict of victim entries. Found victim_id '4' at index '11' in triage_df, whereas victim_id 'None' in the crosshair field at index '272' in proc_df \n",
      "\tvictim\n",
      "/home/jincheng/anaconda3/lib/python3.7/site-packages/ipykernel_launcher.py:671: UserWarning: Found conflict of victim entries. Found victim_id '3' at index '17' in triage_df, whereas victim_id 'None' in the crosshair field at index '326' in proc_df \n",
      "\tvictim\n",
      "/home/jincheng/anaconda3/lib/python3.7/site-packages/ipykernel_launcher.py:671: UserWarning: Found conflict of victim entries. Found victim_id '1' at index '18' in triage_df, whereas victim_id 'None' in the crosshair field at index '405' in proc_df \n",
      "\tvictim\n",
      "/home/jincheng/anaconda3/lib/python3.7/site-packages/ipykernel_launcher.py:671: UserWarning: Found conflict of victim entries. Found victim_id '26' at index '98' in triage_df, whereas victim_id 'None' in the crosshair field at index '1137' in proc_df \n",
      "\tvictim\n",
      "/home/jincheng/anaconda3/lib/python3.7/site-packages/ipykernel_launcher.py:671: UserWarning: Found conflict of victim entries. Found victim_id '1' at index '19' in triage_df, whereas victim_id 'None' in the crosshair field at index '407' in proc_df \n",
      "\tvictim\n",
      "/home/jincheng/anaconda3/lib/python3.7/site-packages/ipykernel_launcher.py:671: UserWarning: Found conflict of victim entries. Found victim_id '2' at index '22' in triage_df, whereas victim_id '1' in the crosshair field at index '373' in proc_df \n",
      "\tvictim\n",
      "/home/jincheng/anaconda3/lib/python3.7/site-packages/ipykernel_launcher.py:671: UserWarning: Found conflict of victim entries. Found victim_id '1' at index '25' in triage_df, whereas victim_id 'None' in the crosshair field at index '382' in proc_df \n",
      "\tvictim\n"
     ]
    },
    {
     "name": "stdout",
     "output_type": "stream",
     "text": [
      "\n",
      "Conflict entries saved to /mnt/sda2/projects/ASIST/ASIST-Sigma/data2/conflict_victims/conflct_08-18T17-12-06.csv\n"
     ]
    },
    {
     "name": "stderr",
     "output_type": "stream",
     "text": [
      "/home/jincheng/anaconda3/lib/python3.7/site-packages/ipykernel_launcher.py:671: UserWarning: Found conflict of victim entries. Found victim_id '1' at index '20' in triage_df, whereas victim_id 'None' in the crosshair field at index '408' in proc_df \n",
      "\tvictim\n"
     ]
    },
    {
     "name": "stdout",
     "output_type": "stream",
     "text": [
      "\n"
     ]
    },
    {
     "name": "stderr",
     "output_type": "stream",
     "text": [
      "/home/jincheng/anaconda3/lib/python3.7/site-packages/ipykernel_launcher.py:671: UserWarning: Found conflict of victim entries. Found victim_id '6' at index '29' in triage_df, whereas victim_id 'None' in the crosshair field at index '479' in proc_df \n",
      "\tvictim\n",
      "/home/jincheng/anaconda3/lib/python3.7/site-packages/ipykernel_launcher.py:671: UserWarning: Found conflict of victim entries. Found victim_id '1' at index '21' in triage_df, whereas victim_id 'None' in the crosshair field at index '413' in proc_df \n",
      "\tvictim\n",
      "/home/jincheng/anaconda3/lib/python3.7/site-packages/ipykernel_launcher.py:671: UserWarning: Found conflict of victim entries. Found victim_id '7' at index '33' in triage_df, whereas victim_id 'None' in the crosshair field at index '524' in proc_df \n",
      "\tvictim\n",
      "/home/jincheng/anaconda3/lib/python3.7/site-packages/ipykernel_launcher.py:671: UserWarning: Found conflict of victim entries. Found victim_id '1' at index '22' in triage_df, whereas victim_id 'None' in the crosshair field at index '416' in proc_df \n",
      "\tvictim\n",
      "/home/jincheng/anaconda3/lib/python3.7/site-packages/ipykernel_launcher.py:671: UserWarning: Found conflict of victim entries. Found victim_id '1' at index '23' in triage_df, whereas victim_id 'None' in the crosshair field at index '417' in proc_df \n",
      "\tvictim\n",
      "/home/jincheng/anaconda3/lib/python3.7/site-packages/ipykernel_launcher.py:671: UserWarning: Found conflict of victim entries. Found victim_id '12' at index '37' in triage_df, whereas victim_id 'None' in the crosshair field at index '648' in proc_df \n",
      "\tvictim\n",
      "/home/jincheng/anaconda3/lib/python3.7/site-packages/ipykernel_launcher.py:671: UserWarning: Found conflict of victim entries. Found victim_id '1' at index '24' in triage_df, whereas victim_id 'None' in the crosshair field at index '423' in proc_df \n",
      "\tvictim\n",
      "/home/jincheng/anaconda3/lib/python3.7/site-packages/ipykernel_launcher.py:671: UserWarning: Found conflict of victim entries. Found victim_id '16' at index '41' in triage_df, whereas victim_id '15' in the crosshair field at index '718' in proc_df \n",
      "\tvictim\n",
      "/home/jincheng/anaconda3/lib/python3.7/site-packages/ipykernel_launcher.py:671: UserWarning: Found conflict of victim entries. Found victim_id '1' at index '25' in triage_df, whereas victim_id 'None' in the crosshair field at index '427' in proc_df \n",
      "\tvictim\n",
      "/home/jincheng/anaconda3/lib/python3.7/site-packages/ipykernel_launcher.py:671: UserWarning: Found conflict of victim entries. Found victim_id '15' at index '45' in triage_df, whereas victim_id '14' in the crosshair field at index '739' in proc_df \n",
      "\tvictim\n",
      "/home/jincheng/anaconda3/lib/python3.7/site-packages/ipykernel_launcher.py:671: UserWarning: Found conflict of victim entries. Found victim_id '1' at index '26' in triage_df, whereas victim_id 'None' in the crosshair field at index '430' in proc_df \n",
      "\tvictim\n",
      "/home/jincheng/anaconda3/lib/python3.7/site-packages/ipykernel_launcher.py:671: UserWarning: Found conflict of victim entries. Found victim_id '13' at index '49' in triage_df, whereas victim_id 'None' in the crosshair field at index '823' in proc_df \n",
      "\tvictim\n",
      "/home/jincheng/anaconda3/lib/python3.7/site-packages/ipykernel_launcher.py:671: UserWarning: Found conflict of victim entries. Found victim_id '1' at index '27' in triage_df, whereas victim_id 'None' in the crosshair field at index '432' in proc_df \n",
      "\tvictim\n",
      "/home/jincheng/anaconda3/lib/python3.7/site-packages/ipykernel_launcher.py:671: UserWarning: Found conflict of victim entries. Found victim_id '9' at index '57' in triage_df, whereas victim_id '10' in the crosshair field at index '971' in proc_df \n",
      "\tvictim\n",
      "/home/jincheng/anaconda3/lib/python3.7/site-packages/pandas/core/indexing.py:190: SettingWithCopyWarning: \n",
      "A value is trying to be set on a copy of a slice from a DataFrame\n",
      "\n",
      "See the caveats in the documentation: http://pandas.pydata.org/pandas-docs/stable/indexing.html#indexing-view-versus-copy\n",
      "  self._setitem_with_indexer(indexer, value)\n",
      "/home/jincheng/anaconda3/lib/python3.7/site-packages/ipykernel_launcher.py:671: UserWarning: Found conflict of victim entries. Found victim_id '22' at index '65' in triage_df, whereas victim_id 'None' in the crosshair field at index '1056' in proc_df \n",
      "\tvictim\n",
      "/home/jincheng/anaconda3/lib/python3.7/site-packages/ipykernel_launcher.py:671: UserWarning: Found conflict of victim entries. Found victim_id '1' at index '28' in triage_df, whereas victim_id 'None' in the crosshair field at index '433' in proc_df \n",
      "\tvictim\n",
      "/home/jincheng/anaconda3/lib/python3.7/site-packages/ipykernel_launcher.py:671: UserWarning: Found conflict of victim entries. Found victim_id '1' at index '0' in triage_df, whereas victim_id 'None' in the crosshair field at index '407' in proc_df \n",
      "\tvictim\n",
      "/home/jincheng/anaconda3/lib/python3.7/site-packages/ipykernel_launcher.py:671: UserWarning: Found conflict of victim entries. Found victim_id '25' at index '69' in triage_df, whereas victim_id '24' in the crosshair field at index '1179' in proc_df \n",
      "\tvictim\n",
      "/home/jincheng/anaconda3/lib/python3.7/site-packages/ipykernel_launcher.py:671: UserWarning: Found conflict of victim entries. Found victim_id '1' at index '29' in triage_df, whereas victim_id 'None' in the crosshair field at index '440' in proc_df \n",
      "\tvictim\n",
      "/home/jincheng/anaconda3/lib/python3.7/site-packages/ipykernel_launcher.py:671: UserWarning: Found conflict of victim entries. Found victim_id '24' at index '73' in triage_df, whereas victim_id 'None' in the crosshair field at index '1195' in proc_df \n",
      "\tvictim\n",
      "/home/jincheng/anaconda3/lib/python3.7/site-packages/ipykernel_launcher.py:671: UserWarning: Found conflict of victim entries. Found victim_id '1' at index '1' in triage_df, whereas victim_id 'None' in the crosshair field at index '408' in proc_df \n",
      "\tvictim\n",
      "/home/jincheng/anaconda3/lib/python3.7/site-packages/ipykernel_launcher.py:671: UserWarning: Found conflict of victim entries. Found victim_id '1' at index '30' in triage_df, whereas victim_id 'None' in the crosshair field at index '448' in proc_df \n",
      "\tvictim\n",
      "/home/jincheng/anaconda3/lib/python3.7/site-packages/ipykernel_launcher.py:671: UserWarning: Found conflict of victim entries. Found victim_id '1' at index '2' in triage_df, whereas victim_id 'None' in the crosshair field at index '409' in proc_df \n",
      "\tvictim\n"
     ]
    },
    {
     "name": "stdout",
     "output_type": "stream",
     "text": [
      "\n",
      "Conflict entries saved to /mnt/sda2/projects/ASIST/ASIST-Sigma/data2/conflict_victims/conflct_08-18T17-12-07.csv\n",
      "\n"
     ]
    },
    {
     "name": "stderr",
     "output_type": "stream",
     "text": [
      "/home/jincheng/anaconda3/lib/python3.7/site-packages/ipykernel_launcher.py:671: UserWarning: Found conflict of victim entries. Found victim_id '1' at index '3' in triage_df, whereas victim_id 'None' in the crosshair field at index '417' in proc_df \n",
      "\tvictim\n",
      "/home/jincheng/anaconda3/lib/python3.7/site-packages/ipykernel_launcher.py:671: UserWarning: Found conflict of victim entries. Found victim_id '1' at index '4' in triage_df, whereas victim_id 'None' in the crosshair field at index '417' in proc_df \n",
      "\tvictim\n",
      "/home/jincheng/anaconda3/lib/python3.7/site-packages/ipykernel_launcher.py:671: UserWarning: Found conflict of victim entries. Found victim_id '1' at index '31' in triage_df, whereas victim_id 'None' in the crosshair field at index '475' in proc_df \n",
      "\tvictim\n",
      "/home/jincheng/anaconda3/lib/python3.7/site-packages/pandas/core/indexing.py:190: SettingWithCopyWarning: \n",
      "A value is trying to be set on a copy of a slice from a DataFrame\n",
      "\n",
      "See the caveats in the documentation: http://pandas.pydata.org/pandas-docs/stable/indexing.html#indexing-view-versus-copy\n",
      "  self._setitem_with_indexer(indexer, value)\n",
      "/home/jincheng/anaconda3/lib/python3.7/site-packages/ipykernel_launcher.py:671: UserWarning: Found conflict of victim entries. Found victim_id '1' at index '5' in triage_df, whereas victim_id 'None' in the crosshair field at index '418' in proc_df \n",
      "\tvictim\n",
      "/home/jincheng/anaconda3/lib/python3.7/site-packages/ipykernel_launcher.py:671: UserWarning: Found conflict of victim entries. Found victim_id '1' at index '32' in triage_df, whereas victim_id 'None' in the crosshair field at index '483' in proc_df \n",
      "\tvictim\n",
      "/home/jincheng/anaconda3/lib/python3.7/site-packages/ipykernel_launcher.py:671: UserWarning: Found conflict of victim entries. Found victim_id '1' at index '6' in triage_df, whereas victim_id 'None' in the crosshair field at index '424' in proc_df \n",
      "\tvictim\n",
      "/home/jincheng/anaconda3/lib/python3.7/site-packages/ipykernel_launcher.py:671: UserWarning: Found conflict of victim entries. Found victim_id '1' at index '33' in triage_df, whereas victim_id 'None' in the crosshair field at index '490' in proc_df \n",
      "\tvictim\n",
      "/home/jincheng/anaconda3/lib/python3.7/site-packages/ipykernel_launcher.py:671: UserWarning: Found conflict of victim entries. Found victim_id '6' at index '13' in triage_df, whereas victim_id 'None' in the crosshair field at index '508' in proc_df \n",
      "\tvictim\n"
     ]
    },
    {
     "name": "stdout",
     "output_type": "stream",
     "text": [
      "\n",
      "Conflict entries saved to /mnt/sda2/projects/ASIST/ASIST-Sigma/data2/conflict_victims/conflct_08-18T17-12-07.csv\n"
     ]
    },
    {
     "name": "stderr",
     "output_type": "stream",
     "text": [
      "/home/jincheng/anaconda3/lib/python3.7/site-packages/ipykernel_launcher.py:671: UserWarning: Found conflict of victim entries. Found victim_id '6' at index '14' in triage_df, whereas victim_id 'None' in the crosshair field at index '516' in proc_df \n",
      "\tvictim\n"
     ]
    },
    {
     "name": "stdout",
     "output_type": "stream",
     "text": [
      "\n"
     ]
    },
    {
     "name": "stderr",
     "output_type": "stream",
     "text": [
      "/home/jincheng/anaconda3/lib/python3.7/site-packages/ipykernel_launcher.py:671: UserWarning: Found conflict of victim entries. Found victim_id '6' at index '15' in triage_df, whereas victim_id 'None' in the crosshair field at index '516' in proc_df \n",
      "\tvictim\n",
      "/home/jincheng/anaconda3/lib/python3.7/site-packages/ipykernel_launcher.py:671: UserWarning: Found conflict of victim entries. Found victim_id '6' at index '16' in triage_df, whereas victim_id 'None' in the crosshair field at index '520' in proc_df \n",
      "\tvictim\n",
      "/home/jincheng/anaconda3/lib/python3.7/site-packages/ipykernel_launcher.py:671: UserWarning: Found conflict of victim entries. Found victim_id '6' at index '17' in triage_df, whereas victim_id 'None' in the crosshair field at index '523' in proc_df \n",
      "\tvictim\n",
      "/home/jincheng/anaconda3/lib/python3.7/site-packages/ipykernel_launcher.py:671: UserWarning: Found conflict of victim entries. Found victim_id '7' at index '18' in triage_df, whereas victim_id 'None' in the crosshair field at index '530' in proc_df \n",
      "\tvictim\n",
      "/home/jincheng/anaconda3/lib/python3.7/site-packages/ipykernel_launcher.py:671: UserWarning: Found conflict of victim entries. Found victim_id '7' at index '19' in triage_df, whereas victim_id 'None' in the crosshair field at index '538' in proc_df \n",
      "\tvictim\n",
      "/home/jincheng/anaconda3/lib/python3.7/site-packages/pandas/core/indexing.py:190: SettingWithCopyWarning: \n",
      "A value is trying to be set on a copy of a slice from a DataFrame\n",
      "\n",
      "See the caveats in the documentation: http://pandas.pydata.org/pandas-docs/stable/indexing.html#indexing-view-versus-copy\n",
      "  self._setitem_with_indexer(indexer, value)\n",
      "/home/jincheng/anaconda3/lib/python3.7/site-packages/ipykernel_launcher.py:671: UserWarning: Found conflict of victim entries. Found victim_id '7' at index '20' in triage_df, whereas victim_id 'None' in the crosshair field at index '539' in proc_df \n",
      "\tvictim\n",
      "/home/jincheng/anaconda3/lib/python3.7/site-packages/ipykernel_launcher.py:671: UserWarning: Found conflict of victim entries. Found victim_id '7' at index '21' in triage_df, whereas victim_id 'None' in the crosshair field at index '541' in proc_df \n",
      "\tvictim\n",
      "/home/jincheng/anaconda3/lib/python3.7/site-packages/ipykernel_launcher.py:728: UserWarning: \n",
      "Expect 'SUCCESSFUL' or 'UNSUCCESSFUL' triage state in the next row entry of triage dataframe, but found IN_PROGRESS at row index 23\n",
      "/home/jincheng/anaconda3/lib/python3.7/site-packages/ipykernel_launcher.py:671: UserWarning: Found conflict of victim entries. Found victim_id '7' at index '22' in triage_df, whereas victim_id 'None' in the crosshair field at index '545' in proc_df \n",
      "\tvictim\n",
      "/home/jincheng/anaconda3/lib/python3.7/site-packages/ipykernel_launcher.py:671: UserWarning: Found conflict of victim entries. Found victim_id '24' at index '26' in triage_df, whereas victim_id '25' in the crosshair field at index '601' in proc_df \n",
      "\tvictim\n",
      "/home/jincheng/anaconda3/lib/python3.7/site-packages/pandas/core/indexing.py:190: SettingWithCopyWarning: \n",
      "A value is trying to be set on a copy of a slice from a DataFrame\n",
      "\n",
      "See the caveats in the documentation: http://pandas.pydata.org/pandas-docs/stable/indexing.html#indexing-view-versus-copy\n",
      "  self._setitem_with_indexer(indexer, value)\n",
      "/home/jincheng/anaconda3/lib/python3.7/site-packages/ipykernel_launcher.py:671: UserWarning: Found conflict of victim entries. Found victim_id '24' at index '28' in triage_df, whereas victim_id '25' in the crosshair field at index '609' in proc_df \n",
      "\tvictim\n",
      "/home/jincheng/anaconda3/lib/python3.7/site-packages/ipykernel_launcher.py:671: UserWarning: Found conflict of victim entries. Found victim_id '24' at index '29' in triage_df, whereas victim_id '25' in the crosshair field at index '616' in proc_df \n",
      "\tvictim\n",
      "/home/jincheng/anaconda3/lib/python3.7/site-packages/ipykernel_launcher.py:671: UserWarning: Found conflict of victim entries. Found victim_id '22' at index '33' in triage_df, whereas victim_id 'None' in the crosshair field at index '674' in proc_df \n",
      "\tvictim\n",
      "/home/jincheng/anaconda3/lib/python3.7/site-packages/ipykernel_launcher.py:671: UserWarning: Found conflict of victim entries. Found victim_id '16' at index '38' in triage_df, whereas victim_id '15' in the crosshair field at index '699' in proc_df \n",
      "\tvictim\n",
      "/home/jincheng/anaconda3/lib/python3.7/site-packages/ipykernel_launcher.py:671: UserWarning: Found conflict of victim entries. Found victim_id '15' at index '41' in triage_df, whereas victim_id 'None' in the crosshair field at index '710' in proc_df \n",
      "\tvictim\n",
      "/home/jincheng/anaconda3/lib/python3.7/site-packages/ipykernel_launcher.py:671: UserWarning: Found conflict of victim entries. Found victim_id '4' at index '45' in triage_df, whereas victim_id 'None' in the crosshair field at index '839' in proc_df \n",
      "\tvictim\n",
      "/home/jincheng/anaconda3/lib/python3.7/site-packages/ipykernel_launcher.py:671: UserWarning: Found conflict of victim entries. Found victim_id '29' at index '49' in triage_df, whereas victim_id 'None' in the crosshair field at index '892' in proc_df \n",
      "\tvictim\n",
      "/home/jincheng/anaconda3/lib/python3.7/site-packages/ipykernel_launcher.py:671: UserWarning: Found conflict of victim entries. Found victim_id '12' at index '50' in triage_df, whereas victim_id 'None' in the crosshair field at index '952' in proc_df \n",
      "\tvictim\n",
      "/home/jincheng/anaconda3/lib/python3.7/site-packages/ipykernel_launcher.py:671: UserWarning: Found conflict of victim entries. Found victim_id '12' at index '51' in triage_df, whereas victim_id 'None' in the crosshair field at index '961' in proc_df \n",
      "\tvictim\n",
      "/home/jincheng/anaconda3/lib/python3.7/site-packages/ipykernel_launcher.py:671: UserWarning: Found conflict of victim entries. Found victim_id '12' at index '52' in triage_df, whereas victim_id 'None' in the crosshair field at index '961' in proc_df \n",
      "\tvictim\n",
      "/home/jincheng/anaconda3/lib/python3.7/site-packages/ipykernel_launcher.py:671: UserWarning: Found conflict of victim entries. Found victim_id '12' at index '53' in triage_df, whereas victim_id 'None' in the crosshair field at index '967' in proc_df \n",
      "\tvictim\n",
      "/home/jincheng/anaconda3/lib/python3.7/site-packages/ipykernel_launcher.py:671: UserWarning: Found conflict of victim entries. Found victim_id '10' at index '57' in triage_df, whereas victim_id 'None' in the crosshair field at index '1002' in proc_df \n",
      "\tvictim\n",
      "/home/jincheng/anaconda3/lib/python3.7/site-packages/ipykernel_launcher.py:728: UserWarning: \n",
      "Expect 'SUCCESSFUL' or 'UNSUCCESSFUL' triage state in the next row entry of triage dataframe, but found IN_PROGRESS at row index 23\n",
      "/home/jincheng/anaconda3/lib/python3.7/site-packages/ipykernel_launcher.py:671: UserWarning: Found conflict of victim entries. Found victim_id '9' at index '58' in triage_df, whereas victim_id 'None' in the crosshair field at index '1007' in proc_df \n",
      "\tvictim\n",
      "/home/jincheng/anaconda3/lib/python3.7/site-packages/ipykernel_launcher.py:671: UserWarning: Found conflict of victim entries. Found victim_id '10' at index '59' in triage_df, whereas victim_id 'None' in the crosshair field at index '1010' in proc_df \n",
      "\tvictim\n",
      "/home/jincheng/anaconda3/lib/python3.7/site-packages/ipykernel_launcher.py:671: UserWarning: Found conflict of victim entries. Found victim_id '10' at index '60' in triage_df, whereas victim_id 'None' in the crosshair field at index '1010' in proc_df \n",
      "\tvictim\n",
      "/home/jincheng/anaconda3/lib/python3.7/site-packages/ipykernel_launcher.py:671: UserWarning: Found conflict of victim entries. Found victim_id '10' at index '61' in triage_df, whereas victim_id 'None' in the crosshair field at index '1017' in proc_df \n",
      "\tvictim\n",
      "/home/jincheng/anaconda3/lib/python3.7/site-packages/ipykernel_launcher.py:671: UserWarning: Found conflict of victim entries. Found victim_id '8' at index '65' in triage_df, whereas victim_id 'None' in the crosshair field at index '1041' in proc_df \n",
      "\tvictim\n",
      "/home/jincheng/anaconda3/lib/python3.7/site-packages/ipykernel_launcher.py:671: UserWarning: Found conflict of victim entries. Found victim_id '13' at index '69' in triage_df, whereas victim_id 'None' in the crosshair field at index '1076' in proc_df \n",
      "\tvictim\n"
     ]
    },
    {
     "name": "stdout",
     "output_type": "stream",
     "text": [
      "\n",
      "Conflict entries saved to /mnt/sda2/projects/ASIST/ASIST-Sigma/data2/conflict_victims/conflct_08-18T17-12-08.csv\n",
      "\n"
     ]
    },
    {
     "name": "stderr",
     "output_type": "stream",
     "text": [
      "/home/jincheng/anaconda3/lib/python3.7/site-packages/pandas/core/indexing.py:190: SettingWithCopyWarning: \n",
      "A value is trying to be set on a copy of a slice from a DataFrame\n",
      "\n",
      "See the caveats in the documentation: http://pandas.pydata.org/pandas-docs/stable/indexing.html#indexing-view-versus-copy\n",
      "  self._setitem_with_indexer(indexer, value)\n"
     ]
    },
    {
     "name": "stdout",
     "output_type": "stream",
     "text": [
      "Step 10: portal_in_FOV() completed. 27.67704\n"
     ]
    },
    {
     "name": "stderr",
     "output_type": "stream",
     "text": [
      "/home/jincheng/anaconda3/lib/python3.7/site-packages/ipykernel_launcher.py:671: UserWarning: Found conflict of victim entries. Found victim_id '0' at index '4' in triage_df, whereas victim_id '2' in the crosshair field at index '37' in proc_df \n",
      "\tvictim\n",
      "/home/jincheng/anaconda3/lib/python3.7/site-packages/ipykernel_launcher.py:671: UserWarning: Found conflict of victim entries. Found victim_id '1' at index '7' in triage_df, whereas victim_id 'None' in the crosshair field at index '54' in proc_df \n",
      "\tvictim\n",
      "/home/jincheng/anaconda3/lib/python3.7/site-packages/ipykernel_launcher.py:671: UserWarning: Found conflict of victim entries. Found victim_id '1' at index '8' in triage_df, whereas victim_id 'None' in the crosshair field at index '63' in proc_df \n",
      "\tvictim\n",
      "/home/jincheng/anaconda3/lib/python3.7/site-packages/ipykernel_launcher.py:671: UserWarning: Found conflict of victim entries. Found victim_id '1' at index '9' in triage_df, whereas victim_id 'None' in the crosshair field at index '63' in proc_df \n",
      "\tvictim\n",
      "/home/jincheng/anaconda3/lib/python3.7/site-packages/ipykernel_launcher.py:671: UserWarning: Found conflict of victim entries. Found victim_id '2' at index '10' in triage_df, whereas victim_id 'None' in the crosshair field at index '66' in proc_df \n",
      "\tvictim\n",
      "/home/jincheng/anaconda3/lib/python3.7/site-packages/ipykernel_launcher.py:671: UserWarning: Found conflict of victim entries. Found victim_id '3' at index '15' in triage_df, whereas victim_id '4' in the crosshair field at index '105' in proc_df \n",
      "\tvictim\n",
      "/home/jincheng/anaconda3/lib/python3.7/site-packages/ipykernel_launcher.py:671: UserWarning: Found conflict of victim entries. Found victim_id '5' at index '21' in triage_df, whereas victim_id 'None' in the crosshair field at index '155' in proc_df \n",
      "\tvictim\n",
      "/home/jincheng/anaconda3/lib/python3.7/site-packages/ipykernel_launcher.py:671: UserWarning: Found conflict of victim entries. Found victim_id '29' at index '26' in triage_df, whereas victim_id '28' in the crosshair field at index '212' in proc_df \n",
      "\tvictim\n",
      "/home/jincheng/anaconda3/lib/python3.7/site-packages/ipykernel_launcher.py:671: UserWarning: Found conflict of victim entries. Found victim_id '28' at index '29' in triage_df, whereas victim_id 'None' in the crosshair field at index '240' in proc_df \n",
      "\tvictim\n",
      "/home/jincheng/anaconda3/lib/python3.7/site-packages/ipykernel_launcher.py:671: UserWarning: Found conflict of victim entries. Found victim_id '27' at index '30' in triage_df, whereas victim_id 'None' in the crosshair field at index '252' in proc_df \n",
      "\tvictim\n",
      "/home/jincheng/anaconda3/lib/python3.7/site-packages/ipykernel_launcher.py:671: UserWarning: Found conflict of victim entries. Found victim_id '27' at index '34' in triage_df, whereas victim_id '26' in the crosshair field at index '267' in proc_df \n",
      "\tvictim\n",
      "/home/jincheng/anaconda3/lib/python3.7/site-packages/ipykernel_launcher.py:671: UserWarning: Found conflict of victim entries. Found victim_id '26' at index '37' in triage_df, whereas victim_id 'None' in the crosshair field at index '278' in proc_df \n",
      "\tvictim\n",
      "/home/jincheng/anaconda3/lib/python3.7/site-packages/ipykernel_launcher.py:671: UserWarning: Found conflict of victim entries. Found victim_id '6' at index '42' in triage_df, whereas victim_id '7' in the crosshair field at index '357' in proc_df \n",
      "\tvictim\n",
      "/home/jincheng/anaconda3/lib/python3.7/site-packages/ipykernel_launcher.py:671: UserWarning: Found conflict of victim entries. Found victim_id '7' at index '45' in triage_df, whereas victim_id 'None' in the crosshair field at index '371' in proc_df \n",
      "\tvictim\n",
      "/home/jincheng/anaconda3/lib/python3.7/site-packages/ipykernel_launcher.py:671: UserWarning: Found conflict of victim entries. Found victim_id '25' at index '47' in triage_df, whereas victim_id '24' in the crosshair field at index '440' in proc_df \n",
      "\tvictim\n",
      "/home/jincheng/anaconda3/lib/python3.7/site-packages/ipykernel_launcher.py:671: UserWarning: Found conflict of victim entries. Found victim_id '25' at index '49' in triage_df, whereas victim_id '24' in the crosshair field at index '447' in proc_df \n",
      "\tvictim\n",
      "/home/jincheng/anaconda3/lib/python3.7/site-packages/ipykernel_launcher.py:671: UserWarning: Found conflict of victim entries. Found victim_id '24' at index '52' in triage_df, whereas victim_id 'None' in the crosshair field at index '456' in proc_df \n",
      "\tvictim\n",
      "/home/jincheng/anaconda3/lib/python3.7/site-packages/ipykernel_launcher.py:671: UserWarning: Found conflict of victim entries. Found victim_id '23' at index '54' in triage_df, whereas victim_id '24' in the crosshair field at index '467' in proc_df \n",
      "\tvictim\n",
      "/home/jincheng/anaconda3/lib/python3.7/site-packages/ipykernel_launcher.py:671: UserWarning: Found conflict of victim entries. Found victim_id '23' at index '55' in triage_df, whereas victim_id 'None' in the crosshair field at index '481' in proc_df \n",
      "\tvictim\n",
      "/home/jincheng/anaconda3/lib/python3.7/site-packages/ipykernel_launcher.py:671: UserWarning: Found conflict of victim entries. Found victim_id '22' at index '58' in triage_df, whereas victim_id 'None' in the crosshair field at index '509' in proc_df \n",
      "\tvictim\n",
      "/home/jincheng/anaconda3/lib/python3.7/site-packages/ipykernel_launcher.py:671: UserWarning: Found conflict of victim entries. Found victim_id '22' at index '59' in triage_df, whereas victim_id 'None' in the crosshair field at index '515' in proc_df \n",
      "\tvictim\n",
      "/home/jincheng/anaconda3/lib/python3.7/site-packages/ipykernel_launcher.py:671: UserWarning: Found conflict of victim entries. Found victim_id '17' at index '64' in triage_df, whereas victim_id '14' in the crosshair field at index '551' in proc_df \n",
      "\tvictim\n",
      "/home/jincheng/anaconda3/lib/python3.7/site-packages/ipykernel_launcher.py:671: UserWarning: Found conflict of victim entries. Found victim_id '14' at index '67' in triage_df, whereas victim_id 'None' in the crosshair field at index '575' in proc_df \n",
      "\tvictim\n",
      "/home/jincheng/anaconda3/lib/python3.7/site-packages/ipykernel_launcher.py:671: UserWarning: Found conflict of victim entries. Found victim_id '9' at index '72' in triage_df, whereas victim_id '10' in the crosshair field at index '632' in proc_df \n",
      "\tvictim\n",
      "/home/jincheng/anaconda3/lib/python3.7/site-packages/ipykernel_launcher.py:671: UserWarning: Found conflict of victim entries. Found victim_id '10' at index '75' in triage_df, whereas victim_id '11' in the crosshair field at index '644' in proc_df \n",
      "\tvictim\n",
      "/home/jincheng/anaconda3/lib/python3.7/site-packages/ipykernel_launcher.py:671: UserWarning: Found conflict of victim entries. Found victim_id '15' at index '80' in triage_df, whereas victim_id '16' in the crosshair field at index '677' in proc_df \n",
      "\tvictim\n",
      "/home/jincheng/anaconda3/lib/python3.7/site-packages/ipykernel_launcher.py:671: UserWarning: Found conflict of victim entries. Found victim_id '16' at index '83' in triage_df, whereas victim_id 'None' in the crosshair field at index '688' in proc_df \n",
      "\tvictim\n",
      "/home/jincheng/anaconda3/lib/python3.7/site-packages/ipykernel_launcher.py:671: UserWarning: Found conflict of victim entries. Found victim_id '8' at index '87' in triage_df, whereas victim_id 'None' in the crosshair field at index '722' in proc_df \n",
      "\tvictim\n",
      "/home/jincheng/anaconda3/lib/python3.7/site-packages/ipykernel_launcher.py:671: UserWarning: Found conflict of victim entries. Found victim_id '12' at index '91' in triage_df, whereas victim_id 'None' in the crosshair field at index '779' in proc_df \n",
      "\tvictim\n"
     ]
    },
    {
     "name": "stdout",
     "output_type": "stream",
     "text": [
      "Step 12: set_triage_in_progress() completed. 6.36771\n",
      "Step 13: update_victim_color() completed. 0.00134\n"
     ]
    },
    {
     "name": "stderr",
     "output_type": "stream",
     "text": [
      "/home/jincheng/anaconda3/lib/python3.7/site-packages/ipykernel_launcher.py:671: UserWarning: Found conflict of victim entries. Found victim_id '1' at index '95' in triage_df, whereas victim_id 'None' in the crosshair field at index '908' in proc_df \n",
      "\tvictim\n",
      "/home/jincheng/anaconda3/lib/python3.7/site-packages/ipykernel_launcher.py:671: UserWarning: Found conflict of victim entries. Found victim_id '4' at index '99' in triage_df, whereas victim_id 'None' in the crosshair field at index '1045' in proc_df \n",
      "\tvictim\n",
      "/home/jincheng/anaconda3/lib/python3.7/site-packages/ipykernel_launcher.py:671: UserWarning: Found conflict of victim entries. Found victim_id '21' at index '103' in triage_df, whereas victim_id 'None' in the crosshair field at index '1132' in proc_df \n",
      "\tvictim\n",
      "/home/jincheng/anaconda3/lib/python3.7/site-packages/ipykernel_launcher.py:671: UserWarning: Found conflict of victim entries. Found victim_id '20' at index '107' in triage_df, whereas victim_id '18' in the crosshair field at index '1156' in proc_df \n",
      "\tvictim\n",
      "/home/jincheng/anaconda3/lib/python3.7/site-packages/ipykernel_launcher.py:671: UserWarning: Found conflict of victim entries. Found victim_id '18' at index '108' in triage_df, whereas victim_id '20' in the crosshair field at index '1161' in proc_df \n",
      "\tvictim\n",
      "/home/jincheng/anaconda3/lib/python3.7/site-packages/ipykernel_launcher.py:671: UserWarning: Found conflict of victim entries. Found victim_id '20' at index '111' in triage_df, whereas victim_id 'None' in the crosshair field at index '1171' in proc_df \n",
      "\tvictim\n"
     ]
    },
    {
     "name": "stdout",
     "output_type": "stream",
     "text": [
      "\n",
      "Conflict entries saved to /mnt/sda2/projects/ASIST/ASIST-Sigma/data2/conflict_victims/conflct_08-18T17-12-12.csv\n",
      "\n"
     ]
    },
    {
     "name": "stderr",
     "output_type": "stream",
     "text": [
      "/home/jincheng/anaconda3/lib/python3.7/site-packages/pandas/core/indexing.py:190: SettingWithCopyWarning: \n",
      "A value is trying to be set on a copy of a slice from a DataFrame\n",
      "\n",
      "See the caveats in the documentation: http://pandas.pydata.org/pandas-docs/stable/indexing.html#indexing-view-versus-copy\n",
      "  self._setitem_with_indexer(indexer, value)\n",
      "/home/jincheng/anaconda3/lib/python3.7/site-packages/ipykernel_launcher.py:728: UserWarning: \n",
      "Expect 'SUCCESSFUL' or 'UNSUCCESSFUL' triage state in the next row entry of triage dataframe, but found IN_PROGRESS at row index 33\n"
     ]
    },
    {
     "name": "stdout",
     "output_type": "stream",
     "text": [
      "Step 10: portal_in_FOV() completed. 29.45678\n"
     ]
    },
    {
     "name": "stderr",
     "output_type": "stream",
     "text": [
      "/home/jincheng/anaconda3/lib/python3.7/site-packages/ipykernel_launcher.py:671: UserWarning: Found conflict of victim entries. Found victim_id '3' at index '10' in triage_df, whereas victim_id '4' in the crosshair field at index '329' in proc_df \n",
      "\tvictim\n",
      "/home/jincheng/anaconda3/lib/python3.7/site-packages/ipykernel_launcher.py:671: UserWarning: Found conflict of victim entries. Found victim_id '4' at index '13' in triage_df, whereas victim_id 'None' in the crosshair field at index '343' in proc_df \n",
      "\tvictim\n",
      "/home/jincheng/anaconda3/lib/python3.7/site-packages/ipykernel_launcher.py:671: UserWarning: Found conflict of victim entries. Found victim_id '5' at index '17' in triage_df, whereas victim_id 'None' in the crosshair field at index '428' in proc_df \n",
      "\tvictim\n",
      "/home/jincheng/anaconda3/lib/python3.7/site-packages/ipykernel_launcher.py:671: UserWarning: Found conflict of victim entries. Found victim_id '0' at index '18' in triage_df, whereas victim_id 'None' in the crosshair field at index '475' in proc_df \n",
      "\tvictim\n",
      "/home/jincheng/anaconda3/lib/python3.7/site-packages/ipykernel_launcher.py:671: UserWarning: Found conflict of victim entries. Found victim_id '0' at index '19' in triage_df, whereas victim_id 'None' in the crosshair field at index '476' in proc_df \n",
      "\tvictim\n",
      "/home/jincheng/anaconda3/lib/python3.7/site-packages/ipykernel_launcher.py:671: UserWarning: Found conflict of victim entries. Found victim_id '0' at index '20' in triage_df, whereas victim_id 'None' in the crosshair field at index '476' in proc_df \n",
      "\tvictim\n",
      "/home/jincheng/anaconda3/lib/python3.7/site-packages/ipykernel_launcher.py:671: UserWarning: Found conflict of victim entries. Found victim_id '0' at index '21' in triage_df, whereas victim_id 'None' in the crosshair field at index '492' in proc_df \n",
      "\tvictim\n",
      "/home/jincheng/anaconda3/lib/python3.7/site-packages/ipykernel_launcher.py:671: UserWarning: Found conflict of victim entries. Found victim_id '0' at index '22' in triage_df, whereas victim_id 'None' in the crosshair field at index '492' in proc_df \n",
      "\tvictim\n",
      "/home/jincheng/anaconda3/lib/python3.7/site-packages/ipykernel_launcher.py:671: UserWarning: Found conflict of victim entries. Found victim_id '0' at index '23' in triage_df, whereas victim_id 'None' in the crosshair field at index '505' in proc_df \n",
      "\tvictim\n",
      "/home/jincheng/anaconda3/lib/python3.7/site-packages/ipykernel_launcher.py:671: UserWarning: Found conflict of victim entries. Found victim_id '1' at index '24' in triage_df, whereas victim_id 'None' in the crosshair field at index '518' in proc_df \n",
      "\tvictim\n",
      "/home/jincheng/anaconda3/lib/python3.7/site-packages/ipykernel_launcher.py:671: UserWarning: Found conflict of victim entries. Found victim_id '1' at index '25' in triage_df, whereas victim_id 'None' in the crosshair field at index '518' in proc_df \n",
      "\tvictim\n",
      "/home/jincheng/anaconda3/lib/python3.7/site-packages/ipykernel_launcher.py:671: UserWarning: Found conflict of victim entries. Found victim_id '1' at index '26' in triage_df, whereas victim_id 'None' in the crosshair field at index '519' in proc_df \n",
      "\tvictim\n",
      "/home/jincheng/anaconda3/lib/python3.7/site-packages/ipykernel_launcher.py:671: UserWarning: Found conflict of victim entries. Found victim_id '1' at index '27' in triage_df, whereas victim_id 'None' in the crosshair field at index '527' in proc_df \n",
      "\tvictim\n",
      "/home/jincheng/anaconda3/lib/python3.7/site-packages/ipykernel_launcher.py:671: UserWarning: Found conflict of victim entries. Found victim_id '1' at index '28' in triage_df, whereas victim_id 'None' in the crosshair field at index '527' in proc_df \n",
      "\tvictim\n",
      "/home/jincheng/anaconda3/lib/python3.7/site-packages/ipykernel_launcher.py:671: UserWarning: Found conflict of victim entries. Found victim_id '1' at index '29' in triage_df, whereas victim_id 'None' in the crosshair field at index '534' in proc_df \n",
      "\tvictim\n",
      "/home/jincheng/anaconda3/lib/python3.7/site-packages/ipykernel_launcher.py:671: UserWarning: Found conflict of victim entries. Found victim_id '23' at index '34' in triage_df, whereas victim_id '25' in the crosshair field at index '624' in proc_df \n",
      "\tvictim\n",
      "/home/jincheng/anaconda3/lib/python3.7/site-packages/ipykernel_launcher.py:671: UserWarning: Found conflict of victim entries. Found victim_id '24' at index '37' in triage_df, whereas victim_id '25' in the crosshair field at index '634' in proc_df \n",
      "\tvictim\n",
      "/home/jincheng/anaconda3/lib/python3.7/site-packages/ipykernel_launcher.py:671: UserWarning: Found conflict of victim entries. Found victim_id '25' at index '38' in triage_df, whereas victim_id '24' in the crosshair field at index '640' in proc_df \n",
      "\tvictim\n",
      "/home/jincheng/anaconda3/lib/python3.7/site-packages/ipykernel_launcher.py:671: UserWarning: Found conflict of victim entries. Found victim_id '24' at index '41' in triage_df, whereas victim_id 'None' in the crosshair field at index '649' in proc_df \n",
      "\tvictim\n",
      "/home/jincheng/anaconda3/lib/python3.7/site-packages/ipykernel_launcher.py:671: UserWarning: Found conflict of victim entries. Found victim_id '22' at index '45' in triage_df, whereas victim_id 'None' in the crosshair field at index '705' in proc_df \n",
      "\tvictim\n",
      "/home/jincheng/anaconda3/lib/python3.7/site-packages/ipykernel_launcher.py:671: UserWarning: Found conflict of victim entries. Found victim_id '16' at index '52' in triage_df, whereas victim_id '15' in the crosshair field at index '776' in proc_df \n",
      "\tvictim\n",
      "/home/jincheng/anaconda3/lib/python3.7/site-packages/ipykernel_launcher.py:671: UserWarning: Found conflict of victim entries. Found victim_id '15' at index '55' in triage_df, whereas victim_id 'None' in the crosshair field at index '790' in proc_df \n",
      "\tvictim\n",
      "/home/jincheng/anaconda3/lib/python3.7/site-packages/ipykernel_launcher.py:728: UserWarning: \n",
      "Expect 'SUCCESSFUL' or 'UNSUCCESSFUL' triage state in the next row entry of triage dataframe, but found IN_PROGRESS at row index 33\n",
      "/home/jincheng/anaconda3/lib/python3.7/site-packages/ipykernel_launcher.py:671: UserWarning: Found conflict of victim entries. Found victim_id '8' at index '63' in triage_df, whereas victim_id 'None' in the crosshair field at index '938' in proc_df \n",
      "\tvictim\n",
      "/home/jincheng/anaconda3/lib/python3.7/site-packages/ipykernel_launcher.py:671: UserWarning: Found conflict of victim entries. Found victim_id '9' at index '64' in triage_df, whereas victim_id 'None' in the crosshair field at index '973' in proc_df \n",
      "\tvictim\n",
      "/home/jincheng/anaconda3/lib/python3.7/site-packages/ipykernel_launcher.py:671: UserWarning: Found conflict of victim entries. Found victim_id '9' at index '71' in triage_df, whereas victim_id 'None' in the crosshair field at index '1005' in proc_df \n",
      "\tvictim\n",
      "/home/jincheng/anaconda3/lib/python3.7/site-packages/ipykernel_launcher.py:671: UserWarning: Found conflict of victim entries. Found victim_id '12' at index '75' in triage_df, whereas victim_id 'None' in the crosshair field at index '1051' in proc_df \n",
      "\tvictim\n",
      "/home/jincheng/anaconda3/lib/python3.7/site-packages/ipykernel_launcher.py:671: UserWarning: Found conflict of victim entries. Found victim_id '6' at index '79' in triage_df, whereas victim_id 'None' in the crosshair field at index '1204' in proc_df \n",
      "\tvictim\n"
     ]
    },
    {
     "name": "stdout",
     "output_type": "stream",
     "text": [
      "\n",
      "Conflict entries saved to /mnt/sda2/projects/ASIST/ASIST-Sigma/data2/conflict_victims/conflct_08-18T17-12-15.csv\n",
      "\n",
      "Step 14: set_sensor_state() completed. 4.22855\n",
      "\n",
      "---------------- File saved: processed_20200810_Participant9_Cond1_2of2.csv ----------------\n",
      "\n",
      "\n",
      "\n",
      "\n",
      "---------------- Processing file 20200717_Participant0_MinecraftExperiment.csv ----------------\n",
      "\n"
     ]
    },
    {
     "name": "stderr",
     "output_type": "stream",
     "text": [
      "/home/jincheng/anaconda3/lib/python3.7/site-packages/pandas/core/indexing.py:190: SettingWithCopyWarning: \n",
      "A value is trying to be set on a copy of a slice from a DataFrame\n",
      "\n",
      "See the caveats in the documentation: http://pandas.pydata.org/pandas-docs/stable/indexing.html#indexing-view-versus-copy\n",
      "  self._setitem_with_indexer(indexer, value)\n",
      "/home/jincheng/anaconda3/lib/python3.7/site-packages/ipykernel_launcher.py:91: SettingWithCopyWarning: \n",
      "A value is trying to be set on a copy of a slice from a DataFrame.\n",
      "Try using .loc[row_indexer,col_indexer] = value instead\n",
      "\n",
      "See the caveats in the documentation: http://pandas.pydata.org/pandas-docs/stable/indexing.html#indexing-view-versus-copy\n",
      "/home/jincheng/anaconda3/lib/python3.7/site-packages/ipykernel_launcher.py:111: UserWarning: \n",
      "No 'mission_state == STOP' event found. Entries late in time will not be chopped off\n",
      "\n"
     ]
    },
    {
     "name": "stdout",
     "output_type": "stream",
     "text": [
      "Step 11: identify_triage_id() completed. 11.91959\n"
     ]
    },
    {
     "name": "stderr",
     "output_type": "stream",
     "text": [
      "/home/jincheng/anaconda3/lib/python3.7/site-packages/ipykernel_launcher.py:728: UserWarning: \n",
      "Expect 'SUCCESSFUL' or 'UNSUCCESSFUL' triage state in the next row entry of triage dataframe, but found IN_PROGRESS at row index 1\n",
      "/home/jincheng/anaconda3/lib/python3.7/site-packages/pandas/core/frame.py:3391: SettingWithCopyWarning: \n",
      "A value is trying to be set on a copy of a slice from a DataFrame.\n",
      "Try using .loc[row_indexer,col_indexer] = value instead\n",
      "\n",
      "See the caveats in the documentation: http://pandas.pydata.org/pandas-docs/stable/indexing.html#indexing-view-versus-copy\n",
      "  self[k1] = value[k2]\n"
     ]
    },
    {
     "name": "stdout",
     "output_type": "stream",
     "text": [
      "Step 10: portal_in_FOV() completed. 31.95946\n"
     ]
    },
    {
     "name": "stderr",
     "output_type": "stream",
     "text": [
      "/home/jincheng/anaconda3/lib/python3.7/site-packages/ipykernel_launcher.py:671: UserWarning: Found conflict of victim entries. Found victim_id '22' at index '22' in triage_df, whereas victim_id 'None' in the crosshair field at index '331' in proc_df \n",
      "\tvictim\n",
      "/home/jincheng/anaconda3/lib/python3.7/site-packages/ipykernel_launcher.py:728: UserWarning: \n",
      "Expect 'SUCCESSFUL' or 'UNSUCCESSFUL' triage state in the next row entry of triage dataframe, but found IN_PROGRESS at row index 41\n",
      "/home/jincheng/anaconda3/lib/python3.7/site-packages/ipykernel_launcher.py:671: UserWarning: Found conflict of victim entries. Found victim_id '25' at index '27' in triage_df, whereas victim_id '24' in the crosshair field at index '401' in proc_df \n",
      "\tvictim\n",
      "/home/jincheng/anaconda3/lib/python3.7/site-packages/ipykernel_launcher.py:671: UserWarning: Found conflict of victim entries. Found victim_id '24' at index '30' in triage_df, whereas victim_id '25' in the crosshair field at index '414' in proc_df \n",
      "\tvictim\n",
      "/home/jincheng/anaconda3/lib/python3.7/site-packages/ipykernel_launcher.py:671: UserWarning: Found conflict of victim entries. Found victim_id '23' at index '34' in triage_df, whereas victim_id 'None' in the crosshair field at index '450' in proc_df \n",
      "\tvictim\n",
      "/home/jincheng/anaconda3/lib/python3.7/site-packages/ipykernel_launcher.py:671: UserWarning: Found conflict of victim entries. Found victim_id '0' at index '38' in triage_df, whereas victim_id 'None' in the crosshair field at index '588' in proc_df \n",
      "\tvictim\n",
      "/home/jincheng/anaconda3/lib/python3.7/site-packages/ipykernel_launcher.py:671: UserWarning: Found conflict of victim entries. Found victim_id '7' at index '42' in triage_df, whereas victim_id 'None' in the crosshair field at index '873' in proc_df \n",
      "\tvictim\n",
      "/home/jincheng/anaconda3/lib/python3.7/site-packages/ipykernel_launcher.py:671: UserWarning: Found conflict of victim entries. Found victim_id '6' at index '46' in triage_df, whereas victim_id 'None' in the crosshair field at index '906' in proc_df \n",
      "\tvictim\n",
      "/home/jincheng/anaconda3/lib/python3.7/site-packages/ipykernel_launcher.py:671: UserWarning: Found conflict of victim entries. Found victim_id '16' at index '51' in triage_df, whereas victim_id '15' in the crosshair field at index '996' in proc_df \n",
      "\tvictim\n"
     ]
    },
    {
     "name": "stdout",
     "output_type": "stream",
     "text": [
      "\n",
      "Conflict entries saved to /mnt/sda2/projects/ASIST/ASIST-Sigma/data2/conflict_victims/conflct_08-18T17-12-19.csv\n",
      "\n"
     ]
    },
    {
     "name": "stderr",
     "output_type": "stream",
     "text": [
      "/home/jincheng/anaconda3/lib/python3.7/site-packages/pandas/core/indexing.py:190: SettingWithCopyWarning: \n",
      "A value is trying to be set on a copy of a slice from a DataFrame\n",
      "\n",
      "See the caveats in the documentation: http://pandas.pydata.org/pandas-docs/stable/indexing.html#indexing-view-versus-copy\n",
      "  self._setitem_with_indexer(indexer, value)\n",
      "/home/jincheng/anaconda3/lib/python3.7/site-packages/ipykernel_launcher.py:728: UserWarning: \n",
      "Expect 'SUCCESSFUL' or 'UNSUCCESSFUL' triage state in the next row entry of triage dataframe, but found IN_PROGRESS at row index 5\n"
     ]
    },
    {
     "name": "stdout",
     "output_type": "stream",
     "text": [
      "Step 1: df_by_sec() completed. Elapsed time: 0.02028\n"
     ]
    },
    {
     "name": "stderr",
     "output_type": "stream",
     "text": [
      "/home/jincheng/anaconda3/lib/python3.7/site-packages/ipykernel_launcher.py:728: UserWarning: \n",
      "Expect 'SUCCESSFUL' or 'UNSUCCESSFUL' triage state in the next row entry of triage dataframe, but found IN_PROGRESS at row index 41\n"
     ]
    },
    {
     "name": "stdout",
     "output_type": "stream",
     "text": [
      "Step 2: adjust_loc() completed. Elapsed time: 0.03207\n",
      "Step 3: check_victim_in_room() completed. Elapsed time: 0.06971\n",
      "Step 11: identify_triage_id() completed. 21.10518\n",
      "Step 11: identify_triage_id() completed. 19.42311\n"
     ]
    },
    {
     "name": "stderr",
     "output_type": "stream",
     "text": [
      "/home/jincheng/anaconda3/lib/python3.7/site-packages/ipykernel_launcher.py:728: UserWarning: \n",
      "Expect 'SUCCESSFUL' or 'UNSUCCESSFUL' triage state in the next row entry of triage dataframe, but found IN_PROGRESS at row index 1\n",
      "/home/jincheng/anaconda3/lib/python3.7/site-packages/ipykernel_launcher.py:728: UserWarning: \n",
      "Expect 'SUCCESSFUL' or 'UNSUCCESSFUL' triage state in the next row entry of triage dataframe, but found IN_PROGRESS at row index 12\n"
     ]
    },
    {
     "name": "stdout",
     "output_type": "stream",
     "text": [
      "Step 11: identify_triage_id() completed. 19.91012\n",
      "Step 11: identify_triage_id() completed. 24.42511\n"
     ]
    },
    {
     "name": "stderr",
     "output_type": "stream",
     "text": [
      "/home/jincheng/anaconda3/lib/python3.7/site-packages/ipykernel_launcher.py:728: UserWarning: \n",
      "Expect 'SUCCESSFUL' or 'UNSUCCESSFUL' triage state in the next row entry of triage dataframe, but found IN_PROGRESS at row index 1\n",
      "/home/jincheng/anaconda3/lib/python3.7/site-packages/ipykernel_launcher.py:728: UserWarning: \n",
      "Expect 'SUCCESSFUL' or 'UNSUCCESSFUL' triage state in the next row entry of triage dataframe, but found IN_PROGRESS at row index 5\n",
      "/home/jincheng/anaconda3/lib/python3.7/site-packages/ipykernel_launcher.py:728: UserWarning: \n",
      "Expect 'SUCCESSFUL' or 'UNSUCCESSFUL' triage state in the next row entry of triage dataframe, but found IN_PROGRESS at row index 5\n",
      "/home/jincheng/anaconda3/lib/python3.7/site-packages/ipykernel_launcher.py:728: UserWarning: \n",
      "Expect 'SUCCESSFUL' or 'UNSUCCESSFUL' triage state in the next row entry of triage dataframe, but found IN_PROGRESS at row index 53\n",
      "/home/jincheng/anaconda3/lib/python3.7/site-packages/ipykernel_launcher.py:728: UserWarning: \n",
      "Expect 'SUCCESSFUL' or 'UNSUCCESSFUL' triage state in the next row entry of triage dataframe, but found IN_PROGRESS at row index 17\n",
      "/home/jincheng/anaconda3/lib/python3.7/site-packages/ipykernel_launcher.py:728: UserWarning: \n",
      "Expect 'SUCCESSFUL' or 'UNSUCCESSFUL' triage state in the next row entry of triage dataframe, but found IN_PROGRESS at row index 8\n"
     ]
    },
    {
     "name": "stdout",
     "output_type": "stream",
     "text": [
      "Step 10: portal_in_FOV() completed. 26.47309\n"
     ]
    },
    {
     "name": "stderr",
     "output_type": "stream",
     "text": [
      "/home/jincheng/anaconda3/lib/python3.7/site-packages/ipykernel_launcher.py:728: UserWarning: \n",
      "Expect 'SUCCESSFUL' or 'UNSUCCESSFUL' triage state in the next row entry of triage dataframe, but found IN_PROGRESS at row index 53\n",
      "/home/jincheng/anaconda3/lib/python3.7/site-packages/ipykernel_launcher.py:728: UserWarning: \n",
      "Expect 'SUCCESSFUL' or 'UNSUCCESSFUL' triage state in the next row entry of triage dataframe, but found IN_PROGRESS at row index 56\n",
      "/home/jincheng/anaconda3/lib/python3.7/site-packages/ipykernel_launcher.py:728: UserWarning: \n",
      "Expect 'SUCCESSFUL' or 'UNSUCCESSFUL' triage state in the next row entry of triage dataframe, but found IN_PROGRESS at row index 7\n",
      "/home/jincheng/anaconda3/lib/python3.7/site-packages/ipykernel_launcher.py:671: UserWarning: Found conflict of victim entries. Found victim_id '24' at index '68' in triage_df, whereas victim_id '25' in the crosshair field at index '639' in proc_df \n",
      "\tvictim\n",
      "/home/jincheng/anaconda3/lib/python3.7/site-packages/ipykernel_launcher.py:671: UserWarning: Found conflict of victim entries. Found victim_id '20' at index '81' in triage_df, whereas victim_id '19' in the crosshair field at index '865' in proc_df \n",
      "\tvictim\n"
     ]
    },
    {
     "name": "stdout",
     "output_type": "stream",
     "text": [
      "\n",
      "Conflict entries saved to /mnt/sda2/projects/ASIST/ASIST-Sigma/data2/conflict_victims/conflct_08-18T17-12-30.csv\n",
      "\n"
     ]
    },
    {
     "name": "stderr",
     "output_type": "stream",
     "text": [
      "/home/jincheng/anaconda3/lib/python3.7/site-packages/ipykernel_launcher.py:728: UserWarning: \n",
      "Expect 'SUCCESSFUL' or 'UNSUCCESSFUL' triage state in the next row entry of triage dataframe, but found IN_PROGRESS at row index 8\n",
      "/home/jincheng/anaconda3/lib/python3.7/site-packages/pandas/core/indexing.py:190: SettingWithCopyWarning: \n",
      "A value is trying to be set on a copy of a slice from a DataFrame\n",
      "\n",
      "See the caveats in the documentation: http://pandas.pydata.org/pandas-docs/stable/indexing.html#indexing-view-versus-copy\n",
      "  self._setitem_with_indexer(indexer, value)\n",
      "/home/jincheng/anaconda3/lib/python3.7/site-packages/ipykernel_launcher.py:728: UserWarning: \n",
      "Expect 'SUCCESSFUL' or 'UNSUCCESSFUL' triage state in the next row entry of triage dataframe, but found IN_PROGRESS at row index 20\n"
     ]
    },
    {
     "name": "stdout",
     "output_type": "stream",
     "text": [
      "Step 4: find_room_in() completed. Elapsed time: 10.48518\n"
     ]
    },
    {
     "name": "stderr",
     "output_type": "stream",
     "text": [
      "/home/jincheng/anaconda3/lib/python3.7/site-packages/ipykernel_launcher.py:728: UserWarning: \n",
      "Expect 'SUCCESSFUL' or 'UNSUCCESSFUL' triage state in the next row entry of triage dataframe, but found IN_PROGRESS at row index 56\n",
      "/home/jincheng/anaconda3/lib/python3.7/site-packages/ipykernel_launcher.py:728: UserWarning: \n",
      "Expect 'SUCCESSFUL' or 'UNSUCCESSFUL' triage state in the next row entry of triage dataframe, but found IN_PROGRESS at row index 60\n",
      "/home/jincheng/anaconda3/lib/python3.7/site-packages/ipykernel_launcher.py:728: UserWarning: \n",
      "Expect 'SUCCESSFUL' or 'UNSUCCESSFUL' triage state in the next row entry of triage dataframe, but found IN_PROGRESS at row index 13\n",
      "/home/jincheng/anaconda3/lib/python3.7/site-packages/ipykernel_launcher.py:728: UserWarning: \n",
      "Expect 'SUCCESSFUL' or 'UNSUCCESSFUL' triage state in the next row entry of triage dataframe, but found IN_PROGRESS at row index 11\n",
      "/home/jincheng/anaconda3/lib/python3.7/site-packages/ipykernel_launcher.py:728: UserWarning: \n",
      "Expect 'SUCCESSFUL' or 'UNSUCCESSFUL' triage state in the next row entry of triage dataframe, but found IN_PROGRESS at row index 14\n",
      "/home/jincheng/anaconda3/lib/python3.7/site-packages/ipykernel_launcher.py:728: UserWarning: \n",
      "Expect 'SUCCESSFUL' or 'UNSUCCESSFUL' triage state in the next row entry of triage dataframe, but found IN_PROGRESS at row index 60\n",
      "/home/jincheng/anaconda3/lib/python3.7/site-packages/ipykernel_launcher.py:728: UserWarning: \n",
      "Expect 'SUCCESSFUL' or 'UNSUCCESSFUL' triage state in the next row entry of triage dataframe, but found IN_PROGRESS at row index 17\n",
      "/home/jincheng/anaconda3/lib/python3.7/site-packages/ipykernel_launcher.py:728: UserWarning: \n",
      "Expect 'SUCCESSFUL' or 'UNSUCCESSFUL' triage state in the next row entry of triage dataframe, but found IN_PROGRESS at row index 15\n",
      "/home/jincheng/anaconda3/lib/python3.7/site-packages/ipykernel_launcher.py:728: UserWarning: \n",
      "Expect 'SUCCESSFUL' or 'UNSUCCESSFUL' triage state in the next row entry of triage dataframe, but found IN_PROGRESS at row index 25\n",
      "/home/jincheng/anaconda3/lib/python3.7/site-packages/ipykernel_launcher.py:728: UserWarning: \n",
      "Expect 'SUCCESSFUL' or 'UNSUCCESSFUL' triage state in the next row entry of triage dataframe, but found IN_PROGRESS at row index 32\n",
      "/home/jincheng/anaconda3/lib/python3.7/site-packages/ipykernel_launcher.py:728: UserWarning: \n",
      "Expect 'SUCCESSFUL' or 'UNSUCCESSFUL' triage state in the next row entry of triage dataframe, but found IN_PROGRESS at row index 18\n"
     ]
    },
    {
     "name": "stdout",
     "output_type": "stream",
     "text": [
      "Step 12: set_triage_in_progress() completed. 39.31994\n",
      "Step 13: update_victim_color() completed. 0.34990\n"
     ]
    },
    {
     "name": "stderr",
     "output_type": "stream",
     "text": [
      "/home/jincheng/anaconda3/lib/python3.7/site-packages/pandas/core/indexing.py:190: SettingWithCopyWarning: \n",
      "A value is trying to be set on a copy of a slice from a DataFrame\n",
      "\n",
      "See the caveats in the documentation: http://pandas.pydata.org/pandas-docs/stable/indexing.html#indexing-view-versus-copy\n",
      "  self._setitem_with_indexer(indexer, value)\n",
      "/home/jincheng/anaconda3/lib/python3.7/site-packages/ipykernel_launcher.py:728: UserWarning: \n",
      "Expect 'SUCCESSFUL' or 'UNSUCCESSFUL' triage state in the next row entry of triage dataframe, but found IN_PROGRESS at row index 21\n",
      "/home/jincheng/anaconda3/lib/python3.7/site-packages/ipykernel_launcher.py:728: UserWarning: \n",
      "Expect 'SUCCESSFUL' or 'UNSUCCESSFUL' triage state in the next row entry of triage dataframe, but found IN_PROGRESS at row index 19\n",
      "/home/jincheng/anaconda3/lib/python3.7/site-packages/ipykernel_launcher.py:728: UserWarning: \n",
      "Expect 'SUCCESSFUL' or 'UNSUCCESSFUL' triage state in the next row entry of triage dataframe, but found IN_PROGRESS at row index 35\n"
     ]
    },
    {
     "name": "stdout",
     "output_type": "stream",
     "text": [
      "Step 12: set_triage_in_progress() completed. 21.66047\n",
      "Step 12: set_triage_in_progress() completed. 40.61902\n",
      "Step 13: update_victim_color() completed. 0.16261\n",
      "Step 13: update_victim_color() completed. 0.31527\n"
     ]
    },
    {
     "name": "stderr",
     "output_type": "stream",
     "text": [
      "/home/jincheng/anaconda3/lib/python3.7/site-packages/ipykernel_launcher.py:728: UserWarning: \n",
      "Expect 'SUCCESSFUL' or 'UNSUCCESSFUL' triage state in the next row entry of triage dataframe, but found IN_PROGRESS at row index 21\n",
      "/home/jincheng/anaconda3/lib/python3.7/site-packages/pandas/core/indexing.py:190: SettingWithCopyWarning: \n",
      "A value is trying to be set on a copy of a slice from a DataFrame\n",
      "\n",
      "See the caveats in the documentation: http://pandas.pydata.org/pandas-docs/stable/indexing.html#indexing-view-versus-copy\n",
      "  self._setitem_with_indexer(indexer, value)\n",
      "/home/jincheng/anaconda3/lib/python3.7/site-packages/pandas/core/indexing.py:190: SettingWithCopyWarning: \n",
      "A value is trying to be set on a copy of a slice from a DataFrame\n",
      "\n",
      "See the caveats in the documentation: http://pandas.pydata.org/pandas-docs/stable/indexing.html#indexing-view-versus-copy\n",
      "  self._setitem_with_indexer(indexer, value)\n"
     ]
    },
    {
     "name": "stdout",
     "output_type": "stream",
     "text": [
      "Step 11: identify_triage_id() completed. 34.00040\n"
     ]
    },
    {
     "name": "stderr",
     "output_type": "stream",
     "text": [
      "/home/jincheng/anaconda3/lib/python3.7/site-packages/ipykernel_launcher.py:728: UserWarning: \n",
      "Expect 'SUCCESSFUL' or 'UNSUCCESSFUL' triage state in the next row entry of triage dataframe, but found IN_PROGRESS at row index 1\n",
      "/home/jincheng/anaconda3/lib/python3.7/site-packages/ipykernel_launcher.py:728: UserWarning: \n",
      "Expect 'SUCCESSFUL' or 'UNSUCCESSFUL' triage state in the next row entry of triage dataframe, but found IN_PROGRESS at row index 25\n",
      "/home/jincheng/anaconda3/lib/python3.7/site-packages/ipykernel_launcher.py:728: UserWarning: \n",
      "Expect 'SUCCESSFUL' or 'UNSUCCESSFUL' triage state in the next row entry of triage dataframe, but found IN_PROGRESS at row index 38\n"
     ]
    },
    {
     "name": "stdout",
     "output_type": "stream",
     "text": [
      "Step 11: identify_triage_id() completed. 34.99380\n",
      "Step 14: set_sensor_state() completed. 2.34857\n",
      "\n",
      "---------------- File saved: processed_20200813_Participant12_Cond1.csv ----------------\n",
      "\n",
      "\n"
     ]
    },
    {
     "name": "stderr",
     "output_type": "stream",
     "text": [
      "/home/jincheng/anaconda3/lib/python3.7/site-packages/ipykernel_launcher.py:728: UserWarning: \n",
      "Expect 'SUCCESSFUL' or 'UNSUCCESSFUL' triage state in the next row entry of triage dataframe, but found IN_PROGRESS at row index 23\n"
     ]
    },
    {
     "name": "stdout",
     "output_type": "stream",
     "text": [
      "\n",
      "\n",
      "---------------- Processing file 20200724_Participant1_Cond1.csv ----------------\n",
      "\n"
     ]
    },
    {
     "name": "stderr",
     "output_type": "stream",
     "text": [
      "/home/jincheng/anaconda3/lib/python3.7/site-packages/ipykernel_launcher.py:91: SettingWithCopyWarning: \n",
      "A value is trying to be set on a copy of a slice from a DataFrame.\n",
      "Try using .loc[row_indexer,col_indexer] = value instead\n",
      "\n",
      "See the caveats in the documentation: http://pandas.pydata.org/pandas-docs/stable/indexing.html#indexing-view-versus-copy\n",
      "/home/jincheng/anaconda3/lib/python3.7/site-packages/ipykernel_launcher.py:111: UserWarning: \n",
      "No 'mission_state == STOP' event found. Entries late in time will not be chopped off\n",
      "\n",
      "/home/jincheng/anaconda3/lib/python3.7/site-packages/ipykernel_launcher.py:728: UserWarning: \n",
      "Expect 'SUCCESSFUL' or 'UNSUCCESSFUL' triage state in the next row entry of triage dataframe, but found IN_PROGRESS at row index 24\n"
     ]
    },
    {
     "name": "stdout",
     "output_type": "stream",
     "text": [
      "Step 4.5: find_portal_in() completed. Elapsed time: 10.76501\n"
     ]
    },
    {
     "name": "stderr",
     "output_type": "stream",
     "text": [
      "/home/jincheng/anaconda3/lib/python3.7/site-packages/ipykernel_launcher.py:728: UserWarning: \n",
      "Expect 'SUCCESSFUL' or 'UNSUCCESSFUL' triage state in the next row entry of triage dataframe, but found IN_PROGRESS at row index 3\n",
      "/home/jincheng/anaconda3/lib/python3.7/site-packages/pandas/core/frame.py:3391: SettingWithCopyWarning: \n",
      "A value is trying to be set on a copy of a slice from a DataFrame.\n",
      "Try using .loc[row_indexer,col_indexer] = value instead\n",
      "\n",
      "See the caveats in the documentation: http://pandas.pydata.org/pandas-docs/stable/indexing.html#indexing-view-versus-copy\n",
      "  self[k1] = value[k2]\n",
      "/home/jincheng/anaconda3/lib/python3.7/site-packages/ipykernel_launcher.py:728: UserWarning: \n",
      "Expect 'SUCCESSFUL' or 'UNSUCCESSFUL' triage state in the next row entry of triage dataframe, but found IN_PROGRESS at row index 5\n",
      "/home/jincheng/anaconda3/lib/python3.7/site-packages/ipykernel_launcher.py:728: UserWarning: \n",
      "Expect 'SUCCESSFUL' or 'UNSUCCESSFUL' triage state in the next row entry of triage dataframe, but found IN_PROGRESS at row index 29\n"
     ]
    },
    {
     "name": "stdout",
     "output_type": "stream",
     "text": [
      "Step 12: set_triage_in_progress() completed. 17.91687\n",
      "Step 13: update_victim_color() completed. 0.12810\n"
     ]
    },
    {
     "name": "stderr",
     "output_type": "stream",
     "text": [
      "/home/jincheng/anaconda3/lib/python3.7/site-packages/pandas/core/indexing.py:190: SettingWithCopyWarning: \n",
      "A value is trying to be set on a copy of a slice from a DataFrame\n",
      "\n",
      "See the caveats in the documentation: http://pandas.pydata.org/pandas-docs/stable/indexing.html#indexing-view-versus-copy\n",
      "  self._setitem_with_indexer(indexer, value)\n"
     ]
    },
    {
     "name": "stdout",
     "output_type": "stream",
     "text": [
      "Step 5: find_victims_in_room() completed. Elapsed time: 2.57894\n",
      "Step 6: set_role() completed. Elapsed time: 0.00166\n",
      "Step 11: identify_triage_id() completed. 40.05272\n"
     ]
    },
    {
     "name": "stderr",
     "output_type": "stream",
     "text": [
      "/home/jincheng/anaconda3/lib/python3.7/site-packages/ipykernel_launcher.py:728: UserWarning: \n",
      "Expect 'SUCCESSFUL' or 'UNSUCCESSFUL' triage state in the next row entry of triage dataframe, but found IN_PROGRESS at row index 28\n",
      "/home/jincheng/anaconda3/lib/python3.7/site-packages/ipykernel_launcher.py:728: UserWarning: \n",
      "Expect 'SUCCESSFUL' or 'UNSUCCESSFUL' triage state in the next row entry of triage dataframe, but found IN_PROGRESS at row index 1\n"
     ]
    },
    {
     "name": "stdout",
     "output_type": "stream",
     "text": [
      "Step 11: identify_triage_id() completed. 27.13824\n",
      "Step 7: victim_in_FOV() completed. Elapsed time: 0.43408\n"
     ]
    },
    {
     "name": "stderr",
     "output_type": "stream",
     "text": [
      "/home/jincheng/anaconda3/lib/python3.7/site-packages/ipykernel_launcher.py:728: UserWarning: \n",
      "Expect 'SUCCESSFUL' or 'UNSUCCESSFUL' triage state in the next row entry of triage dataframe, but found IN_PROGRESS at row index 9\n"
     ]
    },
    {
     "name": "stdout",
     "output_type": "stream",
     "text": [
      "Step 8: victim_in_triage_position() completed. Elapsed time: 0.29270\n",
      "Step 9: victim_in_cross_hair() completed. Elapsed time: 0.36682\n"
     ]
    },
    {
     "name": "stderr",
     "output_type": "stream",
     "text": [
      "/home/jincheng/anaconda3/lib/python3.7/site-packages/ipykernel_launcher.py:728: UserWarning: \n",
      "Expect 'SUCCESSFUL' or 'UNSUCCESSFUL' triage state in the next row entry of triage dataframe, but found IN_PROGRESS at row index 3\n",
      "/home/jincheng/anaconda3/lib/python3.7/site-packages/ipykernel_launcher.py:728: UserWarning: \n",
      "Expect 'SUCCESSFUL' or 'UNSUCCESSFUL' triage state in the next row entry of triage dataframe, but found IN_PROGRESS at row index 31\n",
      "/home/jincheng/anaconda3/lib/python3.7/site-packages/ipykernel_launcher.py:728: UserWarning: \n",
      "Expect 'SUCCESSFUL' or 'UNSUCCESSFUL' triage state in the next row entry of triage dataframe, but found IN_PROGRESS at row index 8\n",
      "/home/jincheng/anaconda3/lib/python3.7/site-packages/ipykernel_launcher.py:728: UserWarning: \n",
      "Expect 'SUCCESSFUL' or 'UNSUCCESSFUL' triage state in the next row entry of triage dataframe, but found IN_PROGRESS at row index 33\n"
     ]
    },
    {
     "name": "stdout",
     "output_type": "stream",
     "text": [
      "Step 1: df_by_sec() completed. Elapsed time: 0.02279\n",
      "Step 2: adjust_loc() completed. Elapsed time: 0.03131\n",
      "Step 3: check_victim_in_room() completed. Elapsed time: 0.07103\n"
     ]
    },
    {
     "name": "stderr",
     "output_type": "stream",
     "text": [
      "/home/jincheng/anaconda3/lib/python3.7/site-packages/ipykernel_launcher.py:728: UserWarning: \n",
      "Expect 'SUCCESSFUL' or 'UNSUCCESSFUL' triage state in the next row entry of triage dataframe, but found IN_PROGRESS at row index 5\n",
      "/home/jincheng/anaconda3/lib/python3.7/site-packages/ipykernel_launcher.py:728: UserWarning: \n",
      "Expect 'SUCCESSFUL' or 'UNSUCCESSFUL' triage state in the next row entry of triage dataframe, but found IN_PROGRESS at row index 13\n",
      "/home/jincheng/anaconda3/lib/python3.7/site-packages/ipykernel_launcher.py:728: UserWarning: \n",
      "Expect 'SUCCESSFUL' or 'UNSUCCESSFUL' triage state in the next row entry of triage dataframe, but found IN_PROGRESS at row index 34\n",
      "/home/jincheng/anaconda3/lib/python3.7/site-packages/ipykernel_launcher.py:728: UserWarning: \n",
      "Expect 'SUCCESSFUL' or 'UNSUCCESSFUL' triage state in the next row entry of triage dataframe, but found IN_PROGRESS at row index 35\n",
      "/home/jincheng/anaconda3/lib/python3.7/site-packages/ipykernel_launcher.py:728: UserWarning: \n",
      "Expect 'SUCCESSFUL' or 'UNSUCCESSFUL' triage state in the next row entry of triage dataframe, but found IN_PROGRESS at row index 37\n"
     ]
    },
    {
     "name": "stdout",
     "output_type": "stream",
     "text": [
      "Step 14: set_sensor_state() completed. 6.19504\n",
      "\n",
      "---------------- File saved: processed_20200817_Participant15_Cond1.csv ----------------\n",
      "\n",
      "\n",
      "\n",
      "\n",
      "---------------- Processing file 20200810_Participant9_Cond1_1of2.csv ----------------\n",
      "\n",
      "Step 11: identify_triage_id() completed. 45.96079\n"
     ]
    },
    {
     "name": "stderr",
     "output_type": "stream",
     "text": [
      "/home/jincheng/anaconda3/lib/python3.7/site-packages/ipykernel_launcher.py:728: UserWarning: \n",
      "Expect 'SUCCESSFUL' or 'UNSUCCESSFUL' triage state in the next row entry of triage dataframe, but found IN_PROGRESS at row index 1\n",
      "/home/jincheng/anaconda3/lib/python3.7/site-packages/ipykernel_launcher.py:728: UserWarning: \n",
      "Expect 'SUCCESSFUL' or 'UNSUCCESSFUL' triage state in the next row entry of triage dataframe, but found IN_PROGRESS at row index 14\n",
      "/home/jincheng/anaconda3/lib/python3.7/site-packages/ipykernel_launcher.py:91: SettingWithCopyWarning: \n",
      "A value is trying to be set on a copy of a slice from a DataFrame.\n",
      "Try using .loc[row_indexer,col_indexer] = value instead\n",
      "\n",
      "See the caveats in the documentation: http://pandas.pydata.org/pandas-docs/stable/indexing.html#indexing-view-versus-copy\n",
      "/home/jincheng/anaconda3/lib/python3.7/site-packages/ipykernel_launcher.py:111: UserWarning: \n",
      "No 'mission_state == STOP' event found. Entries late in time will not be chopped off\n",
      "\n",
      "/home/jincheng/anaconda3/lib/python3.7/site-packages/ipykernel_launcher.py:31: UserWarning: CANNOT PROCESS JSON FILE: 20200810_Participant9_Cond1_1of2.csv. Encountered the following exception: \n",
      "\n",
      "Columns must be same length as key\n"
     ]
    },
    {
     "name": "stdout",
     "output_type": "stream",
     "text": [
      "\n",
      "\n",
      "---------------- Processing file 20200803_Participant6_Cond1.csv ----------------\n",
      "\n",
      "Step 14: set_sensor_state() completed. 14.47159\n",
      "\n",
      "---------------- File saved: processed_20200728_Participant3_Cond1.csv ----------------\n",
      "\n",
      "\n"
     ]
    },
    {
     "name": "stderr",
     "output_type": "stream",
     "text": [
      "/home/jincheng/anaconda3/lib/python3.7/site-packages/ipykernel_launcher.py:31: UserWarning: CANNOT PROCESS JSON FILE: 20200803_Participant6_Cond1.csv. Encountered the following exception: \n",
      "\n",
      "Columns must be same length as key\n",
      "/home/jincheng/anaconda3/lib/python3.7/site-packages/ipykernel_launcher.py:728: UserWarning: \n",
      "Expect 'SUCCESSFUL' or 'UNSUCCESSFUL' triage state in the next row entry of triage dataframe, but found IN_PROGRESS at row index 39\n",
      "/home/jincheng/anaconda3/lib/python3.7/site-packages/ipykernel_launcher.py:728: UserWarning: \n",
      "Expect 'SUCCESSFUL' or 'UNSUCCESSFUL' triage state in the next row entry of triage dataframe, but found IN_PROGRESS at row index 19\n",
      "/home/jincheng/anaconda3/lib/python3.7/site-packages/ipykernel_launcher.py:728: UserWarning: \n",
      "Expect 'SUCCESSFUL' or 'UNSUCCESSFUL' triage state in the next row entry of triage dataframe, but found IN_PROGRESS at row index 41\n"
     ]
    },
    {
     "name": "stdout",
     "output_type": "stream",
     "text": [
      "Step 11: identify_triage_id() completed. 38.92892\n"
     ]
    },
    {
     "name": "stderr",
     "output_type": "stream",
     "text": [
      "/home/jincheng/anaconda3/lib/python3.7/site-packages/ipykernel_launcher.py:728: UserWarning: \n",
      "Expect 'SUCCESSFUL' or 'UNSUCCESSFUL' triage state in the next row entry of triage dataframe, but found IN_PROGRESS at row index 1\n",
      "/home/jincheng/anaconda3/lib/python3.7/site-packages/ipykernel_launcher.py:728: UserWarning: \n",
      "Expect 'SUCCESSFUL' or 'UNSUCCESSFUL' triage state in the next row entry of triage dataframe, but found IN_PROGRESS at row index 12\n",
      "/home/jincheng/anaconda3/lib/python3.7/site-packages/ipykernel_launcher.py:728: UserWarning: \n",
      "Expect 'SUCCESSFUL' or 'UNSUCCESSFUL' triage state in the next row entry of triage dataframe, but found IN_PROGRESS at row index 40\n"
     ]
    },
    {
     "name": "stdout",
     "output_type": "stream",
     "text": [
      "Step 14: set_sensor_state() completed. 14.25947\n",
      "\n",
      "---------------- File saved: processed_20200728_Participant3_Cond1_timestamp.csv ----------------\n",
      "\n",
      "\n"
     ]
    },
    {
     "name": "stderr",
     "output_type": "stream",
     "text": [
      "/home/jincheng/anaconda3/lib/python3.7/site-packages/ipykernel_launcher.py:728: UserWarning: \n",
      "Expect 'SUCCESSFUL' or 'UNSUCCESSFUL' triage state in the next row entry of triage dataframe, but found IN_PROGRESS at row index 15\n",
      "/home/jincheng/anaconda3/lib/python3.7/site-packages/ipykernel_launcher.py:728: UserWarning: \n",
      "Expect 'SUCCESSFUL' or 'UNSUCCESSFUL' triage state in the next row entry of triage dataframe, but found IN_PROGRESS at row index 19\n",
      "/home/jincheng/anaconda3/lib/python3.7/site-packages/ipykernel_launcher.py:728: UserWarning: \n",
      "Expect 'SUCCESSFUL' or 'UNSUCCESSFUL' triage state in the next row entry of triage dataframe, but found IN_PROGRESS at row index 43\n"
     ]
    },
    {
     "name": "stdout",
     "output_type": "stream",
     "text": [
      "Step 12: set_triage_in_progress() completed. 30.85906\n",
      "Step 13: update_victim_color() completed. 0.27139\n"
     ]
    },
    {
     "name": "stderr",
     "output_type": "stream",
     "text": [
      "/home/jincheng/anaconda3/lib/python3.7/site-packages/ipykernel_launcher.py:728: UserWarning: \n",
      "Expect 'SUCCESSFUL' or 'UNSUCCESSFUL' triage state in the next row entry of triage dataframe, but found IN_PROGRESS at row index 16\n",
      "/home/jincheng/anaconda3/lib/python3.7/site-packages/ipykernel_launcher.py:728: UserWarning: \n",
      "Expect 'SUCCESSFUL' or 'UNSUCCESSFUL' triage state in the next row entry of triage dataframe, but found IN_PROGRESS at row index 44\n",
      "/home/jincheng/anaconda3/lib/python3.7/site-packages/pandas/core/indexing.py:190: SettingWithCopyWarning: \n",
      "A value is trying to be set on a copy of a slice from a DataFrame\n",
      "\n",
      "See the caveats in the documentation: http://pandas.pydata.org/pandas-docs/stable/indexing.html#indexing-view-versus-copy\n",
      "  self._setitem_with_indexer(indexer, value)\n",
      "/home/jincheng/anaconda3/lib/python3.7/site-packages/ipykernel_launcher.py:728: UserWarning: \n",
      "Expect 'SUCCESSFUL' or 'UNSUCCESSFUL' triage state in the next row entry of triage dataframe, but found IN_PROGRESS at row index 8\n",
      "/home/jincheng/anaconda3/lib/python3.7/site-packages/ipykernel_launcher.py:728: UserWarning: \n",
      "Expect 'SUCCESSFUL' or 'UNSUCCESSFUL' triage state in the next row entry of triage dataframe, but found IN_PROGRESS at row index 7\n",
      "/home/jincheng/anaconda3/lib/python3.7/site-packages/ipykernel_launcher.py:728: UserWarning: \n",
      "Expect 'SUCCESSFUL' or 'UNSUCCESSFUL' triage state in the next row entry of triage dataframe, but found IN_PROGRESS at row index 47\n",
      "/home/jincheng/anaconda3/lib/python3.7/site-packages/ipykernel_launcher.py:728: UserWarning: \n",
      "Expect 'SUCCESSFUL' or 'UNSUCCESSFUL' triage state in the next row entry of triage dataframe, but found IN_PROGRESS at row index 27\n",
      "/home/jincheng/anaconda3/lib/python3.7/site-packages/ipykernel_launcher.py:728: UserWarning: \n",
      "Expect 'SUCCESSFUL' or 'UNSUCCESSFUL' triage state in the next row entry of triage dataframe, but found IN_PROGRESS at row index 21\n",
      "/home/jincheng/anaconda3/lib/python3.7/site-packages/ipykernel_launcher.py:728: UserWarning: \n",
      "Expect 'SUCCESSFUL' or 'UNSUCCESSFUL' triage state in the next row entry of triage dataframe, but found IN_PROGRESS at row index 20\n"
     ]
    },
    {
     "name": "stdout",
     "output_type": "stream",
     "text": [
      "Step 12: set_triage_in_progress() completed. 34.22648\n",
      "Step 13: update_victim_color() completed. 0.18777\n"
     ]
    },
    {
     "name": "stderr",
     "output_type": "stream",
     "text": [
      "/home/jincheng/anaconda3/lib/python3.7/site-packages/ipykernel_launcher.py:728: UserWarning: \n",
      "Expect 'SUCCESSFUL' or 'UNSUCCESSFUL' triage state in the next row entry of triage dataframe, but found IN_PROGRESS at row index 24\n",
      "/home/jincheng/anaconda3/lib/python3.7/site-packages/pandas/core/indexing.py:190: SettingWithCopyWarning: \n",
      "A value is trying to be set on a copy of a slice from a DataFrame\n",
      "\n",
      "See the caveats in the documentation: http://pandas.pydata.org/pandas-docs/stable/indexing.html#indexing-view-versus-copy\n",
      "  self._setitem_with_indexer(indexer, value)\n",
      "/home/jincheng/anaconda3/lib/python3.7/site-packages/ipykernel_launcher.py:728: UserWarning: \n",
      "Expect 'SUCCESSFUL' or 'UNSUCCESSFUL' triage state in the next row entry of triage dataframe, but found IN_PROGRESS at row index 51\n",
      "/home/jincheng/anaconda3/lib/python3.7/site-packages/ipykernel_launcher.py:728: UserWarning: \n",
      "Expect 'SUCCESSFUL' or 'UNSUCCESSFUL' triage state in the next row entry of triage dataframe, but found IN_PROGRESS at row index 31\n",
      "/home/jincheng/anaconda3/lib/python3.7/site-packages/ipykernel_launcher.py:728: UserWarning: \n",
      "Expect 'SUCCESSFUL' or 'UNSUCCESSFUL' triage state in the next row entry of triage dataframe, but found IN_PROGRESS at row index 25\n",
      "/home/jincheng/anaconda3/lib/python3.7/site-packages/ipykernel_launcher.py:728: UserWarning: \n",
      "Expect 'SUCCESSFUL' or 'UNSUCCESSFUL' triage state in the next row entry of triage dataframe, but found IN_PROGRESS at row index 24\n"
     ]
    },
    {
     "name": "stdout",
     "output_type": "stream",
     "text": [
      "Step 4: find_room_in() completed. Elapsed time: 12.96980\n",
      "Step 14: set_sensor_state() completed. 5.71330\n",
      "\n",
      "---------------- File saved: processed_20200811_Participant10_Cond1.csv ----------------\n",
      "\n",
      "\n",
      "Step 12: set_triage_in_progress() completed. 35.06014\n"
     ]
    },
    {
     "name": "stderr",
     "output_type": "stream",
     "text": [
      "/home/jincheng/anaconda3/lib/python3.7/site-packages/ipykernel_launcher.py:728: UserWarning: \n",
      "Expect 'SUCCESSFUL' or 'UNSUCCESSFUL' triage state in the next row entry of triage dataframe, but found IN_PROGRESS at row index 15\n"
     ]
    },
    {
     "name": "stdout",
     "output_type": "stream",
     "text": [
      "Step 13: update_victim_color() completed. 0.32674\n"
     ]
    },
    {
     "name": "stderr",
     "output_type": "stream",
     "text": [
      "/home/jincheng/anaconda3/lib/python3.7/site-packages/ipykernel_launcher.py:728: UserWarning: \n",
      "Expect 'SUCCESSFUL' or 'UNSUCCESSFUL' triage state in the next row entry of triage dataframe, but found IN_PROGRESS at row index 35\n",
      "/home/jincheng/anaconda3/lib/python3.7/site-packages/pandas/core/indexing.py:190: SettingWithCopyWarning: \n",
      "A value is trying to be set on a copy of a slice from a DataFrame\n",
      "\n",
      "See the caveats in the documentation: http://pandas.pydata.org/pandas-docs/stable/indexing.html#indexing-view-versus-copy\n",
      "  self._setitem_with_indexer(indexer, value)\n"
     ]
    },
    {
     "name": "stdout",
     "output_type": "stream",
     "text": [
      "Step 11: identify_triage_id() completed. 52.39465\n"
     ]
    },
    {
     "name": "stderr",
     "output_type": "stream",
     "text": [
      "/home/jincheng/anaconda3/lib/python3.7/site-packages/ipykernel_launcher.py:728: UserWarning: \n",
      "Expect 'SUCCESSFUL' or 'UNSUCCESSFUL' triage state in the next row entry of triage dataframe, but found IN_PROGRESS at row index 1\n",
      "/home/jincheng/anaconda3/lib/python3.7/site-packages/ipykernel_launcher.py:728: UserWarning: \n",
      "Expect 'SUCCESSFUL' or 'UNSUCCESSFUL' triage state in the next row entry of triage dataframe, but found IN_PROGRESS at row index 29\n",
      "/home/jincheng/anaconda3/lib/python3.7/site-packages/ipykernel_launcher.py:728: UserWarning: \n",
      "Expect 'SUCCESSFUL' or 'UNSUCCESSFUL' triage state in the next row entry of triage dataframe, but found IN_PROGRESS at row index 31\n",
      "/home/jincheng/anaconda3/lib/python3.7/site-packages/ipykernel_launcher.py:728: UserWarning: \n",
      "Expect 'SUCCESSFUL' or 'UNSUCCESSFUL' triage state in the next row entry of triage dataframe, but found IN_PROGRESS at row index 19\n",
      "/home/jincheng/anaconda3/lib/python3.7/site-packages/ipykernel_launcher.py:728: UserWarning: \n",
      "Expect 'SUCCESSFUL' or 'UNSUCCESSFUL' triage state in the next row entry of triage dataframe, but found IN_PROGRESS at row index 39\n",
      "/home/jincheng/anaconda3/lib/python3.7/site-packages/ipykernel_launcher.py:728: UserWarning: \n",
      "Expect 'SUCCESSFUL' or 'UNSUCCESSFUL' triage state in the next row entry of triage dataframe, but found IN_PROGRESS at row index 32\n"
     ]
    },
    {
     "name": "stdout",
     "output_type": "stream",
     "text": [
      "Step 14: set_sensor_state() completed. 6.20681\n",
      "\n",
      "---------------- File saved: processed_20200818_Participant17_Cond1.csv ----------------\n",
      "\n",
      "\n"
     ]
    },
    {
     "name": "stderr",
     "output_type": "stream",
     "text": [
      "/home/jincheng/anaconda3/lib/python3.7/site-packages/ipykernel_launcher.py:728: UserWarning: \n",
      "Expect 'SUCCESSFUL' or 'UNSUCCESSFUL' triage state in the next row entry of triage dataframe, but found IN_PROGRESS at row index 21\n",
      "/home/jincheng/anaconda3/lib/python3.7/site-packages/ipykernel_launcher.py:728: UserWarning: \n",
      "Expect 'SUCCESSFUL' or 'UNSUCCESSFUL' triage state in the next row entry of triage dataframe, but found IN_PROGRESS at row index 35\n",
      "/home/jincheng/anaconda3/lib/python3.7/site-packages/ipykernel_launcher.py:728: UserWarning: \n",
      "Expect 'SUCCESSFUL' or 'UNSUCCESSFUL' triage state in the next row entry of triage dataframe, but found IN_PROGRESS at row index 23\n",
      "/home/jincheng/anaconda3/lib/python3.7/site-packages/ipykernel_launcher.py:728: UserWarning: \n",
      "Expect 'SUCCESSFUL' or 'UNSUCCESSFUL' triage state in the next row entry of triage dataframe, but found IN_PROGRESS at row index 37\n",
      "/home/jincheng/anaconda3/lib/python3.7/site-packages/ipykernel_launcher.py:728: UserWarning: \n",
      "Expect 'SUCCESSFUL' or 'UNSUCCESSFUL' triage state in the next row entry of triage dataframe, but found IN_PROGRESS at row index 43\n",
      "/home/jincheng/anaconda3/lib/python3.7/site-packages/ipykernel_launcher.py:728: UserWarning: \n",
      "Expect 'SUCCESSFUL' or 'UNSUCCESSFUL' triage state in the next row entry of triage dataframe, but found IN_PROGRESS at row index 8\n",
      "/home/jincheng/anaconda3/lib/python3.7/site-packages/ipykernel_launcher.py:728: UserWarning: \n",
      "Expect 'SUCCESSFUL' or 'UNSUCCESSFUL' triage state in the next row entry of triage dataframe, but found IN_PROGRESS at row index 36\n",
      "/home/jincheng/anaconda3/lib/python3.7/site-packages/ipykernel_launcher.py:728: UserWarning: \n",
      "Expect 'SUCCESSFUL' or 'UNSUCCESSFUL' triage state in the next row entry of triage dataframe, but found IN_PROGRESS at row index 26\n",
      "/home/jincheng/anaconda3/lib/python3.7/site-packages/ipykernel_launcher.py:728: UserWarning: \n",
      "Expect 'SUCCESSFUL' or 'UNSUCCESSFUL' triage state in the next row entry of triage dataframe, but found IN_PROGRESS at row index 41\n",
      "/home/jincheng/anaconda3/lib/python3.7/site-packages/ipykernel_launcher.py:728: UserWarning: \n",
      "Expect 'SUCCESSFUL' or 'UNSUCCESSFUL' triage state in the next row entry of triage dataframe, but found IN_PROGRESS at row index 47\n",
      "/home/jincheng/anaconda3/lib/python3.7/site-packages/ipykernel_launcher.py:728: UserWarning: \n",
      "Expect 'SUCCESSFUL' or 'UNSUCCESSFUL' triage state in the next row entry of triage dataframe, but found IN_PROGRESS at row index 12\n",
      "/home/jincheng/anaconda3/lib/python3.7/site-packages/ipykernel_launcher.py:728: UserWarning: \n",
      "Expect 'SUCCESSFUL' or 'UNSUCCESSFUL' triage state in the next row entry of triage dataframe, but found IN_PROGRESS at row index 27\n",
      "/home/jincheng/anaconda3/lib/python3.7/site-packages/ipykernel_launcher.py:728: UserWarning: \n",
      "Expect 'SUCCESSFUL' or 'UNSUCCESSFUL' triage state in the next row entry of triage dataframe, but found IN_PROGRESS at row index 40\n",
      "/home/jincheng/anaconda3/lib/python3.7/site-packages/ipykernel_launcher.py:728: UserWarning: \n",
      "Expect 'SUCCESSFUL' or 'UNSUCCESSFUL' triage state in the next row entry of triage dataframe, but found IN_PROGRESS at row index 43\n"
     ]
    },
    {
     "name": "stdout",
     "output_type": "stream",
     "text": [
      "Step 11: identify_triage_id() completed. 39.28886\n"
     ]
    },
    {
     "name": "stderr",
     "output_type": "stream",
     "text": [
      "/home/jincheng/anaconda3/lib/python3.7/site-packages/ipykernel_launcher.py:728: UserWarning: \n",
      "Expect 'SUCCESSFUL' or 'UNSUCCESSFUL' triage state in the next row entry of triage dataframe, but found IN_PROGRESS at row index 45\n",
      "/home/jincheng/anaconda3/lib/python3.7/site-packages/ipykernel_launcher.py:728: UserWarning: \n",
      "Expect 'SUCCESSFUL' or 'UNSUCCESSFUL' triage state in the next row entry of triage dataframe, but found IN_PROGRESS at row index 51\n"
     ]
    },
    {
     "name": "stdout",
     "output_type": "stream",
     "text": [
      "Step 14: set_sensor_state() completed. 7.61337\n",
      "\n",
      "---------------- File saved: processed_20200814_Participant13_Cond1.csv ----------------\n",
      "\n",
      "\n"
     ]
    },
    {
     "name": "stderr",
     "output_type": "stream",
     "text": [
      "/home/jincheng/anaconda3/lib/python3.7/site-packages/ipykernel_launcher.py:728: UserWarning: \n",
      "Expect 'SUCCESSFUL' or 'UNSUCCESSFUL' triage state in the next row entry of triage dataframe, but found IN_PROGRESS at row index 30\n",
      "/home/jincheng/anaconda3/lib/python3.7/site-packages/ipykernel_launcher.py:728: UserWarning: \n",
      "Expect 'SUCCESSFUL' or 'UNSUCCESSFUL' triage state in the next row entry of triage dataframe, but found IN_PROGRESS at row index 3\n",
      "/home/jincheng/anaconda3/lib/python3.7/site-packages/ipykernel_launcher.py:728: UserWarning: \n",
      "Expect 'SUCCESSFUL' or 'UNSUCCESSFUL' triage state in the next row entry of triage dataframe, but found IN_PROGRESS at row index 44\n"
     ]
    },
    {
     "name": "stdout",
     "output_type": "stream",
     "text": [
      "Step 10: portal_in_FOV() completed. 23.92467\n"
     ]
    },
    {
     "name": "stderr",
     "output_type": "stream",
     "text": [
      "/home/jincheng/anaconda3/lib/python3.7/site-packages/ipykernel_launcher.py:671: UserWarning: Found conflict of victim entries. Found victim_id '27' at index '18' in triage_df, whereas victim_id '26' in the crosshair field at index '184' in proc_df \n",
      "\tvictim\n",
      "/home/jincheng/anaconda3/lib/python3.7/site-packages/ipykernel_launcher.py:671: UserWarning: Found conflict of victim entries. Found victim_id '26' at index '22' in triage_df, whereas victim_id 'None' in the crosshair field at index '203' in proc_df \n",
      "\tvictim\n",
      "/home/jincheng/anaconda3/lib/python3.7/site-packages/ipykernel_launcher.py:671: UserWarning: Found conflict of victim entries. Found victim_id '29' at index '25' in triage_df, whereas victim_id 'None' in the crosshair field at index '254' in proc_df \n",
      "\tvictim\n",
      "/home/jincheng/anaconda3/lib/python3.7/site-packages/ipykernel_launcher.py:671: UserWarning: Found conflict of victim entries. Found victim_id '6' at index '29' in triage_df, whereas victim_id 'None' in the crosshair field at index '354' in proc_df \n",
      "\tvictim\n",
      "/home/jincheng/anaconda3/lib/python3.7/site-packages/ipykernel_launcher.py:671: UserWarning: Found conflict of victim entries. Found victim_id '7' at index '33' in triage_df, whereas victim_id '6' in the crosshair field at index '370' in proc_df \n",
      "\tvictim\n",
      "/home/jincheng/anaconda3/lib/python3.7/site-packages/ipykernel_launcher.py:671: UserWarning: Found conflict of victim entries. Found victim_id '16' at index '34' in triage_df, whereas victim_id 'None' in the crosshair field at index '464' in proc_df \n",
      "\tvictim\n",
      "/home/jincheng/anaconda3/lib/python3.7/site-packages/ipykernel_launcher.py:671: UserWarning: Found conflict of victim entries. Found victim_id '15' at index '37' in triage_df, whereas victim_id 'None' in the crosshair field at index '475' in proc_df \n",
      "\tvictim\n",
      "/home/jincheng/anaconda3/lib/python3.7/site-packages/ipykernel_launcher.py:671: UserWarning: Found conflict of victim entries. Found victim_id '16' at index '38' in triage_df, whereas victim_id 'None' in the crosshair field at index '479' in proc_df \n",
      "\tvictim\n",
      "/home/jincheng/anaconda3/lib/python3.7/site-packages/ipykernel_launcher.py:671: UserWarning: Found conflict of victim entries. Found victim_id '15' at index '39' in triage_df, whereas victim_id 'None' in the crosshair field at index '483' in proc_df \n",
      "\tvictim\n",
      "/home/jincheng/anaconda3/lib/python3.7/site-packages/ipykernel_launcher.py:671: UserWarning: Found conflict of victim entries. Found victim_id '15' at index '40' in triage_df, whereas victim_id 'None' in the crosshair field at index '483' in proc_df \n",
      "\tvictim\n",
      "/home/jincheng/anaconda3/lib/python3.7/site-packages/ipykernel_launcher.py:728: UserWarning: \n",
      "Expect 'SUCCESSFUL' or 'UNSUCCESSFUL' triage state in the next row entry of triage dataframe, but found IN_PROGRESS at row index 47\n",
      "/home/jincheng/anaconda3/lib/python3.7/site-packages/ipykernel_launcher.py:671: UserWarning: Found conflict of victim entries. Found victim_id '15' at index '41' in triage_df, whereas victim_id 'None' in the crosshair field at index '490' in proc_df \n",
      "\tvictim\n",
      "/home/jincheng/anaconda3/lib/python3.7/site-packages/ipykernel_launcher.py:671: UserWarning: Found conflict of victim entries. Found victim_id '8' at index '44' in triage_df, whereas victim_id 'None' in the crosshair field at index '535' in proc_df \n",
      "\tvictim\n",
      "/home/jincheng/anaconda3/lib/python3.7/site-packages/ipykernel_launcher.py:671: UserWarning: Found conflict of victim entries. Found victim_id '13' at index '46' in triage_df, whereas victim_id 'None' in the crosshair field at index '945' in proc_df \n",
      "\tvictim\n"
     ]
    },
    {
     "name": "stdout",
     "output_type": "stream",
     "text": [
      "Step 4.5: find_portal_in() completed. Elapsed time: 10.49729\n"
     ]
    },
    {
     "name": "stderr",
     "output_type": "stream",
     "text": [
      "/home/jincheng/anaconda3/lib/python3.7/site-packages/ipykernel_launcher.py:671: UserWarning: Found conflict of victim entries. Found victim_id '13' at index '47' in triage_df, whereas victim_id 'None' in the crosshair field at index '945' in proc_df \n",
      "\tvictim\n",
      "/home/jincheng/anaconda3/lib/python3.7/site-packages/ipykernel_launcher.py:671: UserWarning: Found conflict of victim entries. Found victim_id '13' at index '48' in triage_df, whereas victim_id 'None' in the crosshair field at index '951' in proc_df \n",
      "\tvictim\n",
      "/home/jincheng/anaconda3/lib/python3.7/site-packages/ipykernel_launcher.py:728: UserWarning: \n",
      "Expect 'SUCCESSFUL' or 'UNSUCCESSFUL' triage state in the next row entry of triage dataframe, but found IN_PROGRESS at row index 55\n"
     ]
    },
    {
     "name": "stdout",
     "output_type": "stream",
     "text": [
      "\n",
      "Conflict entries saved to /mnt/sda2/projects/ASIST/ASIST-Sigma/data2/conflict_victims/conflct_08-18T17-13-11.csv\n",
      "\n"
     ]
    },
    {
     "name": "stderr",
     "output_type": "stream",
     "text": [
      "/home/jincheng/anaconda3/lib/python3.7/site-packages/ipykernel_launcher.py:728: UserWarning: \n",
      "Expect 'SUCCESSFUL' or 'UNSUCCESSFUL' triage state in the next row entry of triage dataframe, but found IN_PROGRESS at row index 19\n",
      "/home/jincheng/anaconda3/lib/python3.7/site-packages/pandas/core/indexing.py:190: SettingWithCopyWarning: \n",
      "A value is trying to be set on a copy of a slice from a DataFrame\n",
      "\n",
      "See the caveats in the documentation: http://pandas.pydata.org/pandas-docs/stable/indexing.html#indexing-view-versus-copy\n",
      "  self._setitem_with_indexer(indexer, value)\n",
      "/home/jincheng/anaconda3/lib/python3.7/site-packages/ipykernel_launcher.py:728: UserWarning: \n",
      "Expect 'SUCCESSFUL' or 'UNSUCCESSFUL' triage state in the next row entry of triage dataframe, but found IN_PROGRESS at row index 36\n",
      "/home/jincheng/anaconda3/lib/python3.7/site-packages/ipykernel_launcher.py:728: UserWarning: \n",
      "Expect 'SUCCESSFUL' or 'UNSUCCESSFUL' triage state in the next row entry of triage dataframe, but found IN_PROGRESS at row index 48\n",
      "/home/jincheng/anaconda3/lib/python3.7/site-packages/ipykernel_launcher.py:728: UserWarning: \n",
      "Expect 'SUCCESSFUL' or 'UNSUCCESSFUL' triage state in the next row entry of triage dataframe, but found IN_PROGRESS at row index 37\n",
      "/home/jincheng/anaconda3/lib/python3.7/site-packages/ipykernel_launcher.py:728: UserWarning: \n",
      "Expect 'SUCCESSFUL' or 'UNSUCCESSFUL' triage state in the next row entry of triage dataframe, but found IN_PROGRESS at row index 8\n",
      "/home/jincheng/anaconda3/lib/python3.7/site-packages/ipykernel_launcher.py:728: UserWarning: \n",
      "Expect 'SUCCESSFUL' or 'UNSUCCESSFUL' triage state in the next row entry of triage dataframe, but found IN_PROGRESS at row index 59\n",
      "/home/jincheng/anaconda3/lib/python3.7/site-packages/ipykernel_launcher.py:728: UserWarning: \n",
      "Expect 'SUCCESSFUL' or 'UNSUCCESSFUL' triage state in the next row entry of triage dataframe, but found IN_PROGRESS at row index 23\n",
      "/home/jincheng/anaconda3/lib/python3.7/site-packages/ipykernel_launcher.py:728: UserWarning: \n",
      "Expect 'SUCCESSFUL' or 'UNSUCCESSFUL' triage state in the next row entry of triage dataframe, but found IN_PROGRESS at row index 51\n",
      "/home/jincheng/anaconda3/lib/python3.7/site-packages/ipykernel_launcher.py:728: UserWarning: \n",
      "Expect 'SUCCESSFUL' or 'UNSUCCESSFUL' triage state in the next row entry of triage dataframe, but found IN_PROGRESS at row index 38\n"
     ]
    },
    {
     "name": "stdout",
     "output_type": "stream",
     "text": [
      "Step 5: find_victims_in_room() completed. Elapsed time: 3.13815\n",
      "Step 6: set_role() completed. Elapsed time: 0.00151\n",
      "Step 7: victim_in_FOV() completed. Elapsed time: 0.46565\n"
     ]
    },
    {
     "name": "stderr",
     "output_type": "stream",
     "text": [
      "/home/jincheng/anaconda3/lib/python3.7/site-packages/ipykernel_launcher.py:728: UserWarning: \n",
      "Expect 'SUCCESSFUL' or 'UNSUCCESSFUL' triage state in the next row entry of triage dataframe, but found IN_PROGRESS at row index 63\n"
     ]
    },
    {
     "name": "stdout",
     "output_type": "stream",
     "text": [
      "Step 8: victim_in_triage_position() completed. Elapsed time: 0.28246\n"
     ]
    },
    {
     "name": "stderr",
     "output_type": "stream",
     "text": [
      "/home/jincheng/anaconda3/lib/python3.7/site-packages/ipykernel_launcher.py:728: UserWarning: \n",
      "Expect 'SUCCESSFUL' or 'UNSUCCESSFUL' triage state in the next row entry of triage dataframe, but found IN_PROGRESS at row index 55\n",
      "/home/jincheng/anaconda3/lib/python3.7/site-packages/ipykernel_launcher.py:728: UserWarning: \n",
      "Expect 'SUCCESSFUL' or 'UNSUCCESSFUL' triage state in the next row entry of triage dataframe, but found IN_PROGRESS at row index 43\n",
      "/home/jincheng/anaconda3/lib/python3.7/site-packages/ipykernel_launcher.py:728: UserWarning: \n",
      "Expect 'SUCCESSFUL' or 'UNSUCCESSFUL' triage state in the next row entry of triage dataframe, but found IN_PROGRESS at row index 13\n"
     ]
    },
    {
     "name": "stdout",
     "output_type": "stream",
     "text": [
      "Step 9: victim_in_cross_hair() completed. Elapsed time: 0.43943\n"
     ]
    },
    {
     "name": "stderr",
     "output_type": "stream",
     "text": [
      "/home/jincheng/anaconda3/lib/python3.7/site-packages/ipykernel_launcher.py:728: UserWarning: \n",
      "Expect 'SUCCESSFUL' or 'UNSUCCESSFUL' triage state in the next row entry of triage dataframe, but found IN_PROGRESS at row index 42\n",
      "/home/jincheng/anaconda3/lib/python3.7/site-packages/ipykernel_launcher.py:728: UserWarning: \n",
      "Expect 'SUCCESSFUL' or 'UNSUCCESSFUL' triage state in the next row entry of triage dataframe, but found IN_PROGRESS at row index 59\n"
     ]
    },
    {
     "name": "stdout",
     "output_type": "stream",
     "text": [
      "Step 12: set_triage_in_progress() completed. 30.04845\n",
      "Step 13: update_victim_color() completed. 0.29907\n"
     ]
    },
    {
     "name": "stderr",
     "output_type": "stream",
     "text": [
      "/home/jincheng/anaconda3/lib/python3.7/site-packages/ipykernel_launcher.py:728: UserWarning: \n",
      "Expect 'SUCCESSFUL' or 'UNSUCCESSFUL' triage state in the next row entry of triage dataframe, but found IN_PROGRESS at row index 31\n",
      "/home/jincheng/anaconda3/lib/python3.7/site-packages/pandas/core/indexing.py:190: SettingWithCopyWarning: \n",
      "A value is trying to be set on a copy of a slice from a DataFrame\n",
      "\n",
      "See the caveats in the documentation: http://pandas.pydata.org/pandas-docs/stable/indexing.html#indexing-view-versus-copy\n",
      "  self._setitem_with_indexer(indexer, value)\n",
      "/home/jincheng/anaconda3/lib/python3.7/site-packages/ipykernel_launcher.py:728: UserWarning: \n",
      "Expect 'SUCCESSFUL' or 'UNSUCCESSFUL' triage state in the next row entry of triage dataframe, but found IN_PROGRESS at row index 67\n",
      "/home/jincheng/anaconda3/lib/python3.7/site-packages/ipykernel_launcher.py:728: UserWarning: \n",
      "Expect 'SUCCESSFUL' or 'UNSUCCESSFUL' triage state in the next row entry of triage dataframe, but found IN_PROGRESS at row index 63\n",
      "/home/jincheng/anaconda3/lib/python3.7/site-packages/ipykernel_launcher.py:728: UserWarning: \n",
      "Expect 'SUCCESSFUL' or 'UNSUCCESSFUL' triage state in the next row entry of triage dataframe, but found IN_PROGRESS at row index 47\n",
      "/home/jincheng/anaconda3/lib/python3.7/site-packages/ipykernel_launcher.py:728: UserWarning: \n",
      "Expect 'SUCCESSFUL' or 'UNSUCCESSFUL' triage state in the next row entry of triage dataframe, but found IN_PROGRESS at row index 18\n",
      "/home/jincheng/anaconda3/lib/python3.7/site-packages/ipykernel_launcher.py:728: UserWarning: \n",
      "Expect 'SUCCESSFUL' or 'UNSUCCESSFUL' triage state in the next row entry of triage dataframe, but found IN_PROGRESS at row index 63\n",
      "/home/jincheng/anaconda3/lib/python3.7/site-packages/ipykernel_launcher.py:728: UserWarning: \n",
      "Expect 'SUCCESSFUL' or 'UNSUCCESSFUL' triage state in the next row entry of triage dataframe, but found IN_PROGRESS at row index 71\n",
      "/home/jincheng/anaconda3/lib/python3.7/site-packages/ipykernel_launcher.py:728: UserWarning: \n",
      "Expect 'SUCCESSFUL' or 'UNSUCCESSFUL' triage state in the next row entry of triage dataframe, but found IN_PROGRESS at row index 49\n",
      "/home/jincheng/anaconda3/lib/python3.7/site-packages/ipykernel_launcher.py:728: UserWarning: \n",
      "Expect 'SUCCESSFUL' or 'UNSUCCESSFUL' triage state in the next row entry of triage dataframe, but found IN_PROGRESS at row index 67\n",
      "/home/jincheng/anaconda3/lib/python3.7/site-packages/ipykernel_launcher.py:728: UserWarning: \n",
      "Expect 'SUCCESSFUL' or 'UNSUCCESSFUL' triage state in the next row entry of triage dataframe, but found IN_PROGRESS at row index 39\n",
      "/home/jincheng/anaconda3/lib/python3.7/site-packages/ipykernel_launcher.py:728: UserWarning: \n",
      "Expect 'SUCCESSFUL' or 'UNSUCCESSFUL' triage state in the next row entry of triage dataframe, but found IN_PROGRESS at row index 67\n"
     ]
    },
    {
     "name": "stdout",
     "output_type": "stream",
     "text": [
      "Step 12: set_triage_in_progress() completed. 39.96954\n",
      "Step 13: update_victim_color() completed. 0.32090\n"
     ]
    },
    {
     "name": "stderr",
     "output_type": "stream",
     "text": [
      "/home/jincheng/anaconda3/lib/python3.7/site-packages/pandas/core/indexing.py:190: SettingWithCopyWarning: \n",
      "A value is trying to be set on a copy of a slice from a DataFrame\n",
      "\n",
      "See the caveats in the documentation: http://pandas.pydata.org/pandas-docs/stable/indexing.html#indexing-view-versus-copy\n",
      "  self._setitem_with_indexer(indexer, value)\n",
      "/home/jincheng/anaconda3/lib/python3.7/site-packages/ipykernel_launcher.py:728: UserWarning: \n",
      "Expect 'SUCCESSFUL' or 'UNSUCCESSFUL' triage state in the next row entry of triage dataframe, but found IN_PROGRESS at row index 53\n",
      "/home/jincheng/anaconda3/lib/python3.7/site-packages/ipykernel_launcher.py:728: UserWarning: \n",
      "Expect 'SUCCESSFUL' or 'UNSUCCESSFUL' triage state in the next row entry of triage dataframe, but found IN_PROGRESS at row index 71\n",
      "/home/jincheng/anaconda3/lib/python3.7/site-packages/ipykernel_launcher.py:728: UserWarning: \n",
      "Expect 'SUCCESSFUL' or 'UNSUCCESSFUL' triage state in the next row entry of triage dataframe, but found IN_PROGRESS at row index 57\n"
     ]
    },
    {
     "name": "stdout",
     "output_type": "stream",
     "text": [
      "Step 12: set_triage_in_progress() completed. 40.10414\n"
     ]
    },
    {
     "name": "stderr",
     "output_type": "stream",
     "text": [
      "/home/jincheng/anaconda3/lib/python3.7/site-packages/ipykernel_launcher.py:728: UserWarning: \n",
      "Expect 'SUCCESSFUL' or 'UNSUCCESSFUL' triage state in the next row entry of triage dataframe, but found IN_PROGRESS at row index 27\n"
     ]
    },
    {
     "name": "stdout",
     "output_type": "stream",
     "text": [
      "Step 13: update_victim_color() completed. 0.24492\n"
     ]
    },
    {
     "name": "stderr",
     "output_type": "stream",
     "text": [
      "/home/jincheng/anaconda3/lib/python3.7/site-packages/pandas/core/indexing.py:190: SettingWithCopyWarning: \n",
      "A value is trying to be set on a copy of a slice from a DataFrame\n",
      "\n",
      "See the caveats in the documentation: http://pandas.pydata.org/pandas-docs/stable/indexing.html#indexing-view-versus-copy\n",
      "  self._setitem_with_indexer(indexer, value)\n"
     ]
    },
    {
     "name": "stdout",
     "output_type": "stream",
     "text": [
      "Step 14: set_sensor_state() completed. 6.93933\n"
     ]
    },
    {
     "name": "stderr",
     "output_type": "stream",
     "text": [
      "/home/jincheng/anaconda3/lib/python3.7/site-packages/ipykernel_launcher.py:728: UserWarning: \n",
      "Expect 'SUCCESSFUL' or 'UNSUCCESSFUL' triage state in the next row entry of triage dataframe, but found IN_PROGRESS at row index 47\n",
      "/home/jincheng/anaconda3/lib/python3.7/site-packages/ipykernel_launcher.py:728: UserWarning: \n",
      "Expect 'SUCCESSFUL' or 'UNSUCCESSFUL' triage state in the next row entry of triage dataframe, but found IN_PROGRESS at row index 57\n"
     ]
    },
    {
     "name": "stdout",
     "output_type": "stream",
     "text": [
      "\n",
      "---------------- File saved: processed_20200729_Participant4_Cond1.csv ----------------\n",
      "\n",
      "\n"
     ]
    },
    {
     "name": "stderr",
     "output_type": "stream",
     "text": [
      "/home/jincheng/anaconda3/lib/python3.7/site-packages/ipykernel_launcher.py:728: UserWarning: \n",
      "Expect 'SUCCESSFUL' or 'UNSUCCESSFUL' triage state in the next row entry of triage dataframe, but found IN_PROGRESS at row index 61\n",
      "/home/jincheng/anaconda3/lib/python3.7/site-packages/ipykernel_launcher.py:728: UserWarning: \n",
      "Expect 'SUCCESSFUL' or 'UNSUCCESSFUL' triage state in the next row entry of triage dataframe, but found IN_PROGRESS at row index 48\n",
      "/home/jincheng/anaconda3/lib/python3.7/site-packages/ipykernel_launcher.py:728: UserWarning: \n",
      "Expect 'SUCCESSFUL' or 'UNSUCCESSFUL' triage state in the next row entry of triage dataframe, but found IN_PROGRESS at row index 77\n",
      "/home/jincheng/anaconda3/lib/python3.7/site-packages/ipykernel_launcher.py:728: UserWarning: \n",
      "Expect 'SUCCESSFUL' or 'UNSUCCESSFUL' triage state in the next row entry of triage dataframe, but found IN_PROGRESS at row index 61\n",
      "/home/jincheng/anaconda3/lib/python3.7/site-packages/ipykernel_launcher.py:728: UserWarning: \n",
      "Expect 'SUCCESSFUL' or 'UNSUCCESSFUL' triage state in the next row entry of triage dataframe, but found IN_PROGRESS at row index 34\n",
      "/home/jincheng/anaconda3/lib/python3.7/site-packages/ipykernel_launcher.py:728: UserWarning: \n",
      "Expect 'SUCCESSFUL' or 'UNSUCCESSFUL' triage state in the next row entry of triage dataframe, but found IN_PROGRESS at row index 51\n",
      "/home/jincheng/anaconda3/lib/python3.7/site-packages/ipykernel_launcher.py:728: UserWarning: \n",
      "Expect 'SUCCESSFUL' or 'UNSUCCESSFUL' triage state in the next row entry of triage dataframe, but found IN_PROGRESS at row index 81\n"
     ]
    },
    {
     "name": "stdout",
     "output_type": "stream",
     "text": [
      "Step 11: identify_triage_id() completed. 15.54568\n",
      "Step 14: set_sensor_state() completed. 5.87477\n",
      "\n",
      "---------------- File saved: processed_20200818_Participant16_Cond1.csv ----------------\n",
      "\n",
      "\n"
     ]
    },
    {
     "name": "stderr",
     "output_type": "stream",
     "text": [
      "/home/jincheng/anaconda3/lib/python3.7/site-packages/ipykernel_launcher.py:728: UserWarning: \n",
      "Expect 'SUCCESSFUL' or 'UNSUCCESSFUL' triage state in the next row entry of triage dataframe, but found IN_PROGRESS at row index 69\n",
      "/home/jincheng/anaconda3/lib/python3.7/site-packages/ipykernel_launcher.py:728: UserWarning: \n",
      "Expect 'SUCCESSFUL' or 'UNSUCCESSFUL' triage state in the next row entry of triage dataframe, but found IN_PROGRESS at row index 68\n",
      "/home/jincheng/anaconda3/lib/python3.7/site-packages/ipykernel_launcher.py:728: UserWarning: \n",
      "Expect 'SUCCESSFUL' or 'UNSUCCESSFUL' triage state in the next row entry of triage dataframe, but found IN_PROGRESS at row index 39\n",
      "/home/jincheng/anaconda3/lib/python3.7/site-packages/ipykernel_launcher.py:728: UserWarning: \n",
      "Expect 'SUCCESSFUL' or 'UNSUCCESSFUL' triage state in the next row entry of triage dataframe, but found IN_PROGRESS at row index 9\n",
      "/home/jincheng/anaconda3/lib/python3.7/site-packages/ipykernel_launcher.py:728: UserWarning: \n",
      "Expect 'SUCCESSFUL' or 'UNSUCCESSFUL' triage state in the next row entry of triage dataframe, but found IN_PROGRESS at row index 73\n",
      "/home/jincheng/anaconda3/lib/python3.7/site-packages/ipykernel_launcher.py:728: UserWarning: \n",
      "Expect 'SUCCESSFUL' or 'UNSUCCESSFUL' triage state in the next row entry of triage dataframe, but found IN_PROGRESS at row index 57\n"
     ]
    },
    {
     "name": "stdout",
     "output_type": "stream",
     "text": [
      "Step 12: set_triage_in_progress() completed. 43.61255\n",
      "Step 13: update_victim_color() completed. 0.31104\n"
     ]
    },
    {
     "name": "stderr",
     "output_type": "stream",
     "text": [
      "/home/jincheng/anaconda3/lib/python3.7/site-packages/ipykernel_launcher.py:728: UserWarning: \n",
      "Expect 'SUCCESSFUL' or 'UNSUCCESSFUL' triage state in the next row entry of triage dataframe, but found IN_PROGRESS at row index 77\n",
      "/home/jincheng/anaconda3/lib/python3.7/site-packages/pandas/core/indexing.py:190: SettingWithCopyWarning: \n",
      "A value is trying to be set on a copy of a slice from a DataFrame\n",
      "\n",
      "See the caveats in the documentation: http://pandas.pydata.org/pandas-docs/stable/indexing.html#indexing-view-versus-copy\n",
      "  self._setitem_with_indexer(indexer, value)\n",
      "/home/jincheng/anaconda3/lib/python3.7/site-packages/ipykernel_launcher.py:728: UserWarning: \n",
      "Expect 'SUCCESSFUL' or 'UNSUCCESSFUL' triage state in the next row entry of triage dataframe, but found IN_PROGRESS at row index 44\n",
      "/home/jincheng/anaconda3/lib/python3.7/site-packages/ipykernel_launcher.py:728: UserWarning: \n",
      "Expect 'SUCCESSFUL' or 'UNSUCCESSFUL' triage state in the next row entry of triage dataframe, but found IN_PROGRESS at row index 61\n",
      "/home/jincheng/anaconda3/lib/python3.7/site-packages/ipykernel_launcher.py:728: UserWarning: \n",
      "Expect 'SUCCESSFUL' or 'UNSUCCESSFUL' triage state in the next row entry of triage dataframe, but found IN_PROGRESS at row index 15\n"
     ]
    },
    {
     "name": "stdout",
     "output_type": "stream",
     "text": [
      "Step 14: set_sensor_state() completed. 8.28496\n",
      "\n",
      "---------------- File saved: processed_20200724_Participant1_Cond1_X.csv ----------------\n",
      "\n",
      "\n"
     ]
    },
    {
     "name": "stderr",
     "output_type": "stream",
     "text": [
      "/home/jincheng/anaconda3/lib/python3.7/site-packages/ipykernel_launcher.py:728: UserWarning: \n",
      "Expect 'SUCCESSFUL' or 'UNSUCCESSFUL' triage state in the next row entry of triage dataframe, but found IN_PROGRESS at row index 76\n"
     ]
    },
    {
     "name": "stdout",
     "output_type": "stream",
     "text": [
      "Step 12: set_triage_in_progress() completed. 37.90746\n"
     ]
    },
    {
     "name": "stderr",
     "output_type": "stream",
     "text": [
      "/home/jincheng/anaconda3/lib/python3.7/site-packages/ipykernel_launcher.py:728: UserWarning: \n",
      "Expect 'SUCCESSFUL' or 'UNSUCCESSFUL' triage state in the next row entry of triage dataframe, but found IN_PROGRESS at row index 47\n"
     ]
    },
    {
     "name": "stdout",
     "output_type": "stream",
     "text": [
      "Step 13: update_victim_color() completed. 0.23641\n"
     ]
    },
    {
     "name": "stderr",
     "output_type": "stream",
     "text": [
      "/home/jincheng/anaconda3/lib/python3.7/site-packages/pandas/core/indexing.py:190: SettingWithCopyWarning: \n",
      "A value is trying to be set on a copy of a slice from a DataFrame\n",
      "\n",
      "See the caveats in the documentation: http://pandas.pydata.org/pandas-docs/stable/indexing.html#indexing-view-versus-copy\n",
      "  self._setitem_with_indexer(indexer, value)\n",
      "/home/jincheng/anaconda3/lib/python3.7/site-packages/ipykernel_launcher.py:728: UserWarning: \n",
      "Expect 'SUCCESSFUL' or 'UNSUCCESSFUL' triage state in the next row entry of triage dataframe, but found IN_PROGRESS at row index 80\n",
      "/home/jincheng/anaconda3/lib/python3.7/site-packages/ipykernel_launcher.py:728: UserWarning: \n",
      "Expect 'SUCCESSFUL' or 'UNSUCCESSFUL' triage state in the next row entry of triage dataframe, but found IN_PROGRESS at row index 20\n",
      "/home/jincheng/anaconda3/lib/python3.7/site-packages/ipykernel_launcher.py:728: UserWarning: \n",
      "Expect 'SUCCESSFUL' or 'UNSUCCESSFUL' triage state in the next row entry of triage dataframe, but found IN_PROGRESS at row index 50\n",
      "/home/jincheng/anaconda3/lib/python3.7/site-packages/ipykernel_launcher.py:728: UserWarning: \n",
      "Expect 'SUCCESSFUL' or 'UNSUCCESSFUL' triage state in the next row entry of triage dataframe, but found IN_PROGRESS at row index 69\n",
      "/home/jincheng/anaconda3/lib/python3.7/site-packages/ipykernel_launcher.py:728: UserWarning: \n",
      "Expect 'SUCCESSFUL' or 'UNSUCCESSFUL' triage state in the next row entry of triage dataframe, but found IN_PROGRESS at row index 84\n",
      "/home/jincheng/anaconda3/lib/python3.7/site-packages/ipykernel_launcher.py:728: UserWarning: \n",
      "Expect 'SUCCESSFUL' or 'UNSUCCESSFUL' triage state in the next row entry of triage dataframe, but found IN_PROGRESS at row index 27\n",
      "/home/jincheng/anaconda3/lib/python3.7/site-packages/ipykernel_launcher.py:728: UserWarning: \n",
      "Expect 'SUCCESSFUL' or 'UNSUCCESSFUL' triage state in the next row entry of triage dataframe, but found IN_PROGRESS at row index 88\n",
      "/home/jincheng/anaconda3/lib/python3.7/site-packages/ipykernel_launcher.py:728: UserWarning: \n",
      "Expect 'SUCCESSFUL' or 'UNSUCCESSFUL' triage state in the next row entry of triage dataframe, but found IN_PROGRESS at row index 57\n",
      "/home/jincheng/anaconda3/lib/python3.7/site-packages/ipykernel_launcher.py:728: UserWarning: \n",
      "Expect 'SUCCESSFUL' or 'UNSUCCESSFUL' triage state in the next row entry of triage dataframe, but found IN_PROGRESS at row index 77\n",
      "/home/jincheng/anaconda3/lib/python3.7/site-packages/ipykernel_launcher.py:728: UserWarning: \n",
      "Expect 'SUCCESSFUL' or 'UNSUCCESSFUL' triage state in the next row entry of triage dataframe, but found IN_PROGRESS at row index 31\n",
      "/home/jincheng/anaconda3/lib/python3.7/site-packages/ipykernel_launcher.py:728: UserWarning: \n",
      "Expect 'SUCCESSFUL' or 'UNSUCCESSFUL' triage state in the next row entry of triage dataframe, but found IN_PROGRESS at row index 92\n"
     ]
    },
    {
     "name": "stdout",
     "output_type": "stream",
     "text": [
      "Step 14: set_sensor_state() completed. 7.27440\n",
      "\n",
      "---------------- File saved: processed_20200817_Participant14_Cond1.csv ----------------\n",
      "\n",
      "\n"
     ]
    },
    {
     "name": "stderr",
     "output_type": "stream",
     "text": [
      "/home/jincheng/anaconda3/lib/python3.7/site-packages/ipykernel_launcher.py:728: UserWarning: \n",
      "Expect 'SUCCESSFUL' or 'UNSUCCESSFUL' triage state in the next row entry of triage dataframe, but found IN_PROGRESS at row index 60\n",
      "/home/jincheng/anaconda3/lib/python3.7/site-packages/ipykernel_launcher.py:728: UserWarning: \n",
      "Expect 'SUCCESSFUL' or 'UNSUCCESSFUL' triage state in the next row entry of triage dataframe, but found IN_PROGRESS at row index 35\n",
      "/home/jincheng/anaconda3/lib/python3.7/site-packages/ipykernel_launcher.py:728: UserWarning: \n",
      "Expect 'SUCCESSFUL' or 'UNSUCCESSFUL' triage state in the next row entry of triage dataframe, but found IN_PROGRESS at row index 61\n"
     ]
    },
    {
     "name": "stdout",
     "output_type": "stream",
     "text": [
      "Step 14: set_sensor_state() completed. 6.44721\n",
      "\n",
      "---------------- File saved: processed_20200805_Participant7_Cond1.csv ----------------\n",
      "\n",
      "\n"
     ]
    },
    {
     "name": "stderr",
     "output_type": "stream",
     "text": [
      "/home/jincheng/anaconda3/lib/python3.7/site-packages/ipykernel_launcher.py:728: UserWarning: \n",
      "Expect 'SUCCESSFUL' or 'UNSUCCESSFUL' triage state in the next row entry of triage dataframe, but found IN_PROGRESS at row index 85\n"
     ]
    },
    {
     "name": "stdout",
     "output_type": "stream",
     "text": [
      "Step 12: set_triage_in_progress() completed. 47.72539\n"
     ]
    },
    {
     "name": "stderr",
     "output_type": "stream",
     "text": [
      "/home/jincheng/anaconda3/lib/python3.7/site-packages/ipykernel_launcher.py:728: UserWarning: \n",
      "Expect 'SUCCESSFUL' or 'UNSUCCESSFUL' triage state in the next row entry of triage dataframe, but found IN_PROGRESS at row index 64\n"
     ]
    },
    {
     "name": "stdout",
     "output_type": "stream",
     "text": [
      "Step 10: portal_in_FOV() completed. 23.63038\n",
      "Step 13: update_victim_color() completed. 0.32167\n"
     ]
    },
    {
     "name": "stderr",
     "output_type": "stream",
     "text": [
      "/home/jincheng/anaconda3/lib/python3.7/site-packages/pandas/core/indexing.py:190: SettingWithCopyWarning: \n",
      "A value is trying to be set on a copy of a slice from a DataFrame\n",
      "\n",
      "See the caveats in the documentation: http://pandas.pydata.org/pandas-docs/stable/indexing.html#indexing-view-versus-copy\n",
      "  self._setitem_with_indexer(indexer, value)\n",
      "/home/jincheng/anaconda3/lib/python3.7/site-packages/ipykernel_launcher.py:671: UserWarning: Found conflict of victim entries. Found victim_id '1' at index '0' in triage_df, whereas victim_id 'None' in the crosshair field at index '407' in proc_df \n",
      "\tvictim\n",
      "/home/jincheng/anaconda3/lib/python3.7/site-packages/ipykernel_launcher.py:671: UserWarning: Found conflict of victim entries. Found victim_id '1' at index '1' in triage_df, whereas victim_id 'None' in the crosshair field at index '408' in proc_df \n",
      "\tvictim\n",
      "/home/jincheng/anaconda3/lib/python3.7/site-packages/ipykernel_launcher.py:671: UserWarning: Found conflict of victim entries. Found victim_id '1' at index '2' in triage_df, whereas victim_id 'None' in the crosshair field at index '409' in proc_df \n",
      "\tvictim\n",
      "/home/jincheng/anaconda3/lib/python3.7/site-packages/ipykernel_launcher.py:671: UserWarning: Found conflict of victim entries. Found victim_id '1' at index '3' in triage_df, whereas victim_id 'None' in the crosshair field at index '417' in proc_df \n",
      "\tvictim\n",
      "/home/jincheng/anaconda3/lib/python3.7/site-packages/ipykernel_launcher.py:671: UserWarning: Found conflict of victim entries. Found victim_id '1' at index '4' in triage_df, whereas victim_id 'None' in the crosshair field at index '417' in proc_df \n",
      "\tvictim\n",
      "/home/jincheng/anaconda3/lib/python3.7/site-packages/ipykernel_launcher.py:671: UserWarning: Found conflict of victim entries. Found victim_id '1' at index '5' in triage_df, whereas victim_id 'None' in the crosshair field at index '418' in proc_df \n",
      "\tvictim\n",
      "/home/jincheng/anaconda3/lib/python3.7/site-packages/ipykernel_launcher.py:671: UserWarning: Found conflict of victim entries. Found victim_id '1' at index '6' in triage_df, whereas victim_id 'None' in the crosshair field at index '424' in proc_df \n",
      "\tvictim\n",
      "/home/jincheng/anaconda3/lib/python3.7/site-packages/ipykernel_launcher.py:671: UserWarning: Found conflict of victim entries. Found victim_id '6' at index '13' in triage_df, whereas victim_id 'None' in the crosshair field at index '508' in proc_df \n",
      "\tvictim\n",
      "/home/jincheng/anaconda3/lib/python3.7/site-packages/ipykernel_launcher.py:671: UserWarning: Found conflict of victim entries. Found victim_id '6' at index '14' in triage_df, whereas victim_id 'None' in the crosshair field at index '516' in proc_df \n",
      "\tvictim\n",
      "/home/jincheng/anaconda3/lib/python3.7/site-packages/ipykernel_launcher.py:671: UserWarning: Found conflict of victim entries. Found victim_id '6' at index '15' in triage_df, whereas victim_id 'None' in the crosshair field at index '516' in proc_df \n",
      "\tvictim\n",
      "/home/jincheng/anaconda3/lib/python3.7/site-packages/ipykernel_launcher.py:671: UserWarning: Found conflict of victim entries. Found victim_id '6' at index '16' in triage_df, whereas victim_id 'None' in the crosshair field at index '520' in proc_df \n",
      "\tvictim\n",
      "/home/jincheng/anaconda3/lib/python3.7/site-packages/ipykernel_launcher.py:671: UserWarning: Found conflict of victim entries. Found victim_id '6' at index '17' in triage_df, whereas victim_id 'None' in the crosshair field at index '523' in proc_df \n",
      "\tvictim\n",
      "/home/jincheng/anaconda3/lib/python3.7/site-packages/ipykernel_launcher.py:671: UserWarning: Found conflict of victim entries. Found victim_id '7' at index '18' in triage_df, whereas victim_id 'None' in the crosshair field at index '530' in proc_df \n",
      "\tvictim\n",
      "/home/jincheng/anaconda3/lib/python3.7/site-packages/ipykernel_launcher.py:671: UserWarning: Found conflict of victim entries. Found victim_id '7' at index '19' in triage_df, whereas victim_id 'None' in the crosshair field at index '538' in proc_df \n",
      "\tvictim\n",
      "/home/jincheng/anaconda3/lib/python3.7/site-packages/ipykernel_launcher.py:671: UserWarning: Found conflict of victim entries. Found victim_id '7' at index '20' in triage_df, whereas victim_id 'None' in the crosshair field at index '539' in proc_df \n",
      "\tvictim\n",
      "/home/jincheng/anaconda3/lib/python3.7/site-packages/ipykernel_launcher.py:671: UserWarning: Found conflict of victim entries. Found victim_id '7' at index '21' in triage_df, whereas victim_id 'None' in the crosshair field at index '541' in proc_df \n",
      "\tvictim\n",
      "/home/jincheng/anaconda3/lib/python3.7/site-packages/ipykernel_launcher.py:671: UserWarning: Found conflict of victim entries. Found victim_id '7' at index '22' in triage_df, whereas victim_id 'None' in the crosshair field at index '545' in proc_df \n",
      "\tvictim\n",
      "/home/jincheng/anaconda3/lib/python3.7/site-packages/ipykernel_launcher.py:671: UserWarning: Found conflict of victim entries. Found victim_id '24' at index '26' in triage_df, whereas victim_id '25' in the crosshair field at index '601' in proc_df \n",
      "\tvictim\n",
      "/home/jincheng/anaconda3/lib/python3.7/site-packages/ipykernel_launcher.py:671: UserWarning: Found conflict of victim entries. Found victim_id '24' at index '28' in triage_df, whereas victim_id '25' in the crosshair field at index '609' in proc_df \n",
      "\tvictim\n",
      "/home/jincheng/anaconda3/lib/python3.7/site-packages/ipykernel_launcher.py:671: UserWarning: Found conflict of victim entries. Found victim_id '24' at index '29' in triage_df, whereas victim_id '25' in the crosshair field at index '616' in proc_df \n",
      "\tvictim\n",
      "/home/jincheng/anaconda3/lib/python3.7/site-packages/ipykernel_launcher.py:671: UserWarning: Found conflict of victim entries. Found victim_id '22' at index '33' in triage_df, whereas victim_id 'None' in the crosshair field at index '674' in proc_df \n",
      "\tvictim\n",
      "/home/jincheng/anaconda3/lib/python3.7/site-packages/ipykernel_launcher.py:671: UserWarning: Found conflict of victim entries. Found victim_id '16' at index '38' in triage_df, whereas victim_id '15' in the crosshair field at index '699' in proc_df \n",
      "\tvictim\n",
      "/home/jincheng/anaconda3/lib/python3.7/site-packages/ipykernel_launcher.py:671: UserWarning: Found conflict of victim entries. Found victim_id '15' at index '41' in triage_df, whereas victim_id 'None' in the crosshair field at index '710' in proc_df \n",
      "\tvictim\n",
      "/home/jincheng/anaconda3/lib/python3.7/site-packages/ipykernel_launcher.py:671: UserWarning: Found conflict of victim entries. Found victim_id '4' at index '45' in triage_df, whereas victim_id 'None' in the crosshair field at index '839' in proc_df \n",
      "\tvictim\n",
      "/home/jincheng/anaconda3/lib/python3.7/site-packages/ipykernel_launcher.py:671: UserWarning: Found conflict of victim entries. Found victim_id '29' at index '49' in triage_df, whereas victim_id 'None' in the crosshair field at index '892' in proc_df \n",
      "\tvictim\n",
      "/home/jincheng/anaconda3/lib/python3.7/site-packages/ipykernel_launcher.py:671: UserWarning: Found conflict of victim entries. Found victim_id '12' at index '50' in triage_df, whereas victim_id 'None' in the crosshair field at index '952' in proc_df \n",
      "\tvictim\n",
      "/home/jincheng/anaconda3/lib/python3.7/site-packages/ipykernel_launcher.py:671: UserWarning: Found conflict of victim entries. Found victim_id '12' at index '51' in triage_df, whereas victim_id 'None' in the crosshair field at index '961' in proc_df \n",
      "\tvictim\n",
      "/home/jincheng/anaconda3/lib/python3.7/site-packages/ipykernel_launcher.py:671: UserWarning: Found conflict of victim entries. Found victim_id '12' at index '52' in triage_df, whereas victim_id 'None' in the crosshair field at index '961' in proc_df \n",
      "\tvictim\n",
      "/home/jincheng/anaconda3/lib/python3.7/site-packages/ipykernel_launcher.py:671: UserWarning: Found conflict of victim entries. Found victim_id '12' at index '53' in triage_df, whereas victim_id 'None' in the crosshair field at index '967' in proc_df \n",
      "\tvictim\n",
      "/home/jincheng/anaconda3/lib/python3.7/site-packages/ipykernel_launcher.py:728: UserWarning: \n",
      "Expect 'SUCCESSFUL' or 'UNSUCCESSFUL' triage state in the next row entry of triage dataframe, but found IN_PROGRESS at row index 89\n",
      "/home/jincheng/anaconda3/lib/python3.7/site-packages/ipykernel_launcher.py:671: UserWarning: Found conflict of victim entries. Found victim_id '10' at index '57' in triage_df, whereas victim_id 'None' in the crosshair field at index '1002' in proc_df \n",
      "\tvictim\n",
      "/home/jincheng/anaconda3/lib/python3.7/site-packages/ipykernel_launcher.py:671: UserWarning: Found conflict of victim entries. Found victim_id '9' at index '58' in triage_df, whereas victim_id 'None' in the crosshair field at index '1007' in proc_df \n",
      "\tvictim\n",
      "/home/jincheng/anaconda3/lib/python3.7/site-packages/ipykernel_launcher.py:671: UserWarning: Found conflict of victim entries. Found victim_id '10' at index '59' in triage_df, whereas victim_id 'None' in the crosshair field at index '1010' in proc_df \n",
      "\tvictim\n",
      "/home/jincheng/anaconda3/lib/python3.7/site-packages/ipykernel_launcher.py:671: UserWarning: Found conflict of victim entries. Found victim_id '10' at index '60' in triage_df, whereas victim_id 'None' in the crosshair field at index '1010' in proc_df \n",
      "\tvictim\n",
      "/home/jincheng/anaconda3/lib/python3.7/site-packages/ipykernel_launcher.py:671: UserWarning: Found conflict of victim entries. Found victim_id '10' at index '61' in triage_df, whereas victim_id 'None' in the crosshair field at index '1017' in proc_df \n",
      "\tvictim\n",
      "/home/jincheng/anaconda3/lib/python3.7/site-packages/ipykernel_launcher.py:671: UserWarning: Found conflict of victim entries. Found victim_id '8' at index '65' in triage_df, whereas victim_id 'None' in the crosshair field at index '1041' in proc_df \n",
      "\tvictim\n",
      "/home/jincheng/anaconda3/lib/python3.7/site-packages/ipykernel_launcher.py:671: UserWarning: Found conflict of victim entries. Found victim_id '13' at index '69' in triage_df, whereas victim_id 'None' in the crosshair field at index '1076' in proc_df \n",
      "\tvictim\n"
     ]
    },
    {
     "name": "stdout",
     "output_type": "stream",
     "text": [
      "\n",
      "Conflict entries saved to /mnt/sda2/projects/ASIST/ASIST-Sigma/data2/conflict_victims/conflct_08-18T17-13-39.csv\n",
      "\n"
     ]
    },
    {
     "name": "stderr",
     "output_type": "stream",
     "text": [
      "/home/jincheng/anaconda3/lib/python3.7/site-packages/pandas/core/indexing.py:190: SettingWithCopyWarning: \n",
      "A value is trying to be set on a copy of a slice from a DataFrame\n",
      "\n",
      "See the caveats in the documentation: http://pandas.pydata.org/pandas-docs/stable/indexing.html#indexing-view-versus-copy\n",
      "  self._setitem_with_indexer(indexer, value)\n",
      "/home/jincheng/anaconda3/lib/python3.7/site-packages/ipykernel_launcher.py:728: UserWarning: \n",
      "Expect 'SUCCESSFUL' or 'UNSUCCESSFUL' triage state in the next row entry of triage dataframe, but found IN_PROGRESS at row index 46\n",
      "/home/jincheng/anaconda3/lib/python3.7/site-packages/ipykernel_launcher.py:728: UserWarning: \n",
      "Expect 'SUCCESSFUL' or 'UNSUCCESSFUL' triage state in the next row entry of triage dataframe, but found IN_PROGRESS at row index 69\n",
      "/home/jincheng/anaconda3/lib/python3.7/site-packages/ipykernel_launcher.py:728: UserWarning: \n",
      "Expect 'SUCCESSFUL' or 'UNSUCCESSFUL' triage state in the next row entry of triage dataframe, but found IN_PROGRESS at row index 93\n"
     ]
    },
    {
     "name": "stdout",
     "output_type": "stream",
     "text": [
      "Step 12: set_triage_in_progress() completed. 15.52940\n",
      "Step 13: update_victim_color() completed. 0.14802\n"
     ]
    },
    {
     "name": "stderr",
     "output_type": "stream",
     "text": [
      "/home/jincheng/anaconda3/lib/python3.7/site-packages/pandas/core/indexing.py:190: SettingWithCopyWarning: \n",
      "A value is trying to be set on a copy of a slice from a DataFrame\n",
      "\n",
      "See the caveats in the documentation: http://pandas.pydata.org/pandas-docs/stable/indexing.html#indexing-view-versus-copy\n",
      "  self._setitem_with_indexer(indexer, value)\n",
      "/home/jincheng/anaconda3/lib/python3.7/site-packages/ipykernel_launcher.py:728: UserWarning: \n",
      "Expect 'SUCCESSFUL' or 'UNSUCCESSFUL' triage state in the next row entry of triage dataframe, but found IN_PROGRESS at row index 72\n",
      "/home/jincheng/anaconda3/lib/python3.7/site-packages/ipykernel_launcher.py:728: UserWarning: \n",
      "Expect 'SUCCESSFUL' or 'UNSUCCESSFUL' triage state in the next row entry of triage dataframe, but found IN_PROGRESS at row index 97\n",
      "/home/jincheng/anaconda3/lib/python3.7/site-packages/ipykernel_launcher.py:728: UserWarning: \n",
      "Expect 'SUCCESSFUL' or 'UNSUCCESSFUL' triage state in the next row entry of triage dataframe, but found IN_PROGRESS at row index 75\n",
      "/home/jincheng/anaconda3/lib/python3.7/site-packages/ipykernel_launcher.py:728: UserWarning: \n",
      "Expect 'SUCCESSFUL' or 'UNSUCCESSFUL' triage state in the next row entry of triage dataframe, but found IN_PROGRESS at row index 101\n",
      "/home/jincheng/anaconda3/lib/python3.7/site-packages/ipykernel_launcher.py:728: UserWarning: \n",
      "Expect 'SUCCESSFUL' or 'UNSUCCESSFUL' triage state in the next row entry of triage dataframe, but found IN_PROGRESS at row index 78\n",
      "/home/jincheng/anaconda3/lib/python3.7/site-packages/ipykernel_launcher.py:728: UserWarning: \n",
      "Expect 'SUCCESSFUL' or 'UNSUCCESSFUL' triage state in the next row entry of triage dataframe, but found IN_PROGRESS at row index 105\n",
      "/home/jincheng/anaconda3/lib/python3.7/site-packages/ipykernel_launcher.py:728: UserWarning: \n",
      "Expect 'SUCCESSFUL' or 'UNSUCCESSFUL' triage state in the next row entry of triage dataframe, but found IN_PROGRESS at row index 82\n"
     ]
    },
    {
     "name": "stdout",
     "output_type": "stream",
     "text": [
      "Step 14: set_sensor_state() completed. 7.67052\n",
      "\n",
      "---------------- File saved: processed_20200807_Participant8_Cond1.csv ----------------\n",
      "\n",
      "\n",
      "Step 12: set_triage_in_progress() completed. 45.28727\n"
     ]
    },
    {
     "name": "stderr",
     "output_type": "stream",
     "text": [
      "/home/jincheng/anaconda3/lib/python3.7/site-packages/ipykernel_launcher.py:728: UserWarning: \n",
      "Expect 'SUCCESSFUL' or 'UNSUCCESSFUL' triage state in the next row entry of triage dataframe, but found IN_PROGRESS at row index 87\n"
     ]
    },
    {
     "name": "stdout",
     "output_type": "stream",
     "text": [
      "Step 13: update_victim_color() completed. 0.36181\n"
     ]
    },
    {
     "name": "stderr",
     "output_type": "stream",
     "text": [
      "/home/jincheng/anaconda3/lib/python3.7/site-packages/pandas/core/indexing.py:190: SettingWithCopyWarning: \n",
      "A value is trying to be set on a copy of a slice from a DataFrame\n",
      "\n",
      "See the caveats in the documentation: http://pandas.pydata.org/pandas-docs/stable/indexing.html#indexing-view-versus-copy\n",
      "  self._setitem_with_indexer(indexer, value)\n",
      "/home/jincheng/anaconda3/lib/python3.7/site-packages/ipykernel_launcher.py:728: UserWarning: \n",
      "Expect 'SUCCESSFUL' or 'UNSUCCESSFUL' triage state in the next row entry of triage dataframe, but found IN_PROGRESS at row index 90\n"
     ]
    },
    {
     "name": "stdout",
     "output_type": "stream",
     "text": [
      "Step 12: set_triage_in_progress() completed. 41.77168\n",
      "Step 13: update_victim_color() completed. 0.26164\n"
     ]
    },
    {
     "name": "stderr",
     "output_type": "stream",
     "text": [
      "/home/jincheng/anaconda3/lib/python3.7/site-packages/pandas/core/indexing.py:190: SettingWithCopyWarning: \n",
      "A value is trying to be set on a copy of a slice from a DataFrame\n",
      "\n",
      "See the caveats in the documentation: http://pandas.pydata.org/pandas-docs/stable/indexing.html#indexing-view-versus-copy\n",
      "  self._setitem_with_indexer(indexer, value)\n"
     ]
    },
    {
     "name": "stdout",
     "output_type": "stream",
     "text": [
      "Step 11: identify_triage_id() completed. 15.39816\n",
      "Step 14: set_sensor_state() completed. 3.43338\n",
      "\n",
      "---------------- File saved: processed_20200727_Participant2_Cond1.csv ----------------\n",
      "\n",
      "\n"
     ]
    },
    {
     "name": "stderr",
     "output_type": "stream",
     "text": [
      "/home/jincheng/anaconda3/lib/python3.7/site-packages/ipykernel_launcher.py:728: UserWarning: \n",
      "Expect 'SUCCESSFUL' or 'UNSUCCESSFUL' triage state in the next row entry of triage dataframe, but found IN_PROGRESS at row index 3\n"
     ]
    },
    {
     "name": "stdout",
     "output_type": "stream",
     "text": [
      "Step 14: set_sensor_state() completed. 7.43147\n",
      "\n",
      "---------------- File saved: processed_20200731_Participant5_Cond1.csv ----------------\n",
      "\n",
      "\n",
      "Step 14: set_sensor_state() completed. 14.70926\n",
      "\n",
      "---------------- File saved: processed_20200717_Participant0_MinecraftExperiment.csv ----------------\n",
      "\n",
      "\n"
     ]
    },
    {
     "name": "stderr",
     "output_type": "stream",
     "text": [
      "/home/jincheng/anaconda3/lib/python3.7/site-packages/ipykernel_launcher.py:728: UserWarning: \n",
      "Expect 'SUCCESSFUL' or 'UNSUCCESSFUL' triage state in the next row entry of triage dataframe, but found IN_PROGRESS at row index 8\n",
      "/home/jincheng/anaconda3/lib/python3.7/site-packages/ipykernel_launcher.py:728: UserWarning: \n",
      "Expect 'SUCCESSFUL' or 'UNSUCCESSFUL' triage state in the next row entry of triage dataframe, but found IN_PROGRESS at row index 14\n",
      "/home/jincheng/anaconda3/lib/python3.7/site-packages/ipykernel_launcher.py:728: UserWarning: \n",
      "Expect 'SUCCESSFUL' or 'UNSUCCESSFUL' triage state in the next row entry of triage dataframe, but found IN_PROGRESS at row index 19\n",
      "/home/jincheng/anaconda3/lib/python3.7/site-packages/ipykernel_launcher.py:728: UserWarning: \n",
      "Expect 'SUCCESSFUL' or 'UNSUCCESSFUL' triage state in the next row entry of triage dataframe, but found IN_PROGRESS at row index 24\n",
      "/home/jincheng/anaconda3/lib/python3.7/site-packages/ipykernel_launcher.py:728: UserWarning: \n",
      "Expect 'SUCCESSFUL' or 'UNSUCCESSFUL' triage state in the next row entry of triage dataframe, but found IN_PROGRESS at row index 31\n",
      "/home/jincheng/anaconda3/lib/python3.7/site-packages/ipykernel_launcher.py:728: UserWarning: \n",
      "Expect 'SUCCESSFUL' or 'UNSUCCESSFUL' triage state in the next row entry of triage dataframe, but found IN_PROGRESS at row index 35\n",
      "/home/jincheng/anaconda3/lib/python3.7/site-packages/ipykernel_launcher.py:728: UserWarning: \n",
      "Expect 'SUCCESSFUL' or 'UNSUCCESSFUL' triage state in the next row entry of triage dataframe, but found IN_PROGRESS at row index 43\n",
      "/home/jincheng/anaconda3/lib/python3.7/site-packages/ipykernel_launcher.py:728: UserWarning: \n",
      "Expect 'SUCCESSFUL' or 'UNSUCCESSFUL' triage state in the next row entry of triage dataframe, but found IN_PROGRESS at row index 47\n",
      "/home/jincheng/anaconda3/lib/python3.7/site-packages/ipykernel_launcher.py:728: UserWarning: \n",
      "Expect 'SUCCESSFUL' or 'UNSUCCESSFUL' triage state in the next row entry of triage dataframe, but found IN_PROGRESS at row index 51\n",
      "/home/jincheng/anaconda3/lib/python3.7/site-packages/ipykernel_launcher.py:728: UserWarning: \n",
      "Expect 'SUCCESSFUL' or 'UNSUCCESSFUL' triage state in the next row entry of triage dataframe, but found IN_PROGRESS at row index 55\n",
      "/home/jincheng/anaconda3/lib/python3.7/site-packages/ipykernel_launcher.py:728: UserWarning: \n",
      "Expect 'SUCCESSFUL' or 'UNSUCCESSFUL' triage state in the next row entry of triage dataframe, but found IN_PROGRESS at row index 63\n",
      "/home/jincheng/anaconda3/lib/python3.7/site-packages/ipykernel_launcher.py:728: UserWarning: \n",
      "Expect 'SUCCESSFUL' or 'UNSUCCESSFUL' triage state in the next row entry of triage dataframe, but found IN_PROGRESS at row index 67\n"
     ]
    },
    {
     "name": "stdout",
     "output_type": "stream",
     "text": [
      "Step 12: set_triage_in_progress() completed. 17.85880\n",
      "Step 13: update_victim_color() completed. 0.21640\n"
     ]
    },
    {
     "name": "stderr",
     "output_type": "stream",
     "text": [
      "/home/jincheng/anaconda3/lib/python3.7/site-packages/pandas/core/indexing.py:190: SettingWithCopyWarning: \n",
      "A value is trying to be set on a copy of a slice from a DataFrame\n",
      "\n",
      "See the caveats in the documentation: http://pandas.pydata.org/pandas-docs/stable/indexing.html#indexing-view-versus-copy\n",
      "  self._setitem_with_indexer(indexer, value)\n"
     ]
    },
    {
     "name": "stdout",
     "output_type": "stream",
     "text": [
      "Step 14: set_sensor_state() completed. 5.14771\n",
      "\n",
      "---------------- File saved: processed_20200724_Participant1_Cond1.csv ----------------\n",
      "\n",
      "\n",
      "### ALL FINISHED! ###\n"
     ]
    }
   ],
   "source": [
    "# Using a pool of workers\n",
    "from multiprocessing import Pool\n",
    "\n",
    "with Pool() as pool:\n",
    "    # Gather all JSON files in the given directory\n",
    "    file_list = list(file_name for file_name in os.listdir(main_data_path) if file_name.endswith(file_format))\n",
    "    # Map to processes\n",
    "    pool.map(proc, file_list)\n",
    "    print(\"### ALL FINISHED! ###\")"
   ]
  },
  {
   "cell_type": "markdown",
   "metadata": {},
   "source": [
    "# Temporary"
   ]
  },
  {
   "cell_type": "code",
   "execution_count": null,
   "metadata": {},
   "outputs": [],
   "source": [
    "self.proc_df.columns"
   ]
  },
  {
   "cell_type": "code",
   "execution_count": null,
   "metadata": {},
   "outputs": [],
   "source": []
  }
 ],
 "metadata": {
  "kernelspec": {
   "display_name": "Python 3",
   "language": "python",
   "name": "python3"
  },
  "language_info": {
   "codemirror_mode": {
    "name": "ipython",
    "version": 3
   },
   "file_extension": ".py",
   "mimetype": "text/x-python",
   "name": "python",
   "nbconvert_exporter": "python",
   "pygments_lexer": "ipython3",
   "version": "3.7.3"
  }
 },
 "nbformat": 4,
 "nbformat_minor": 4
}
