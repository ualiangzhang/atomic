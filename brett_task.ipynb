{
 "cells": [
  {
   "cell_type": "code",
   "execution_count": 1,
   "metadata": {},
   "outputs": [],
   "source": [
    "# -*- coding: utf-8 -*-\n",
    "\"\"\"\n",
    "Created on Wed Feb 19 14:35:40 2020\n",
    "\n",
    "@author: mostafh\n",
    "\"\"\"\n",
    "from psychsim.world import World\n",
    "from psychsim.agent import Agent\n",
    "from psychsim.pwl import modelKey, rewardKey, Distribution, stateKey\n",
    "\n",
    "from fires import Fires\n",
    "from victims import Victims\n",
    "from locations import Locations\n",
    "from helpers import printAgent, setBeliefs"
   ]
  },
  {
   "cell_type": "code",
   "execution_count": 6,
   "metadata": {
    "scrolled": false
   },
   "outputs": [
    {
     "ename": "AssertionError",
     "evalue": "Action TriageAg1-triage-victim0 already defined",
     "output_type": "error",
     "traceback": [
      "\u001b[0;31m---------------------------------------------------------------------------\u001b[0m",
      "\u001b[0;31mAssertionError\u001b[0m                            Traceback (most recent call last)",
      "\u001b[0;32m<ipython-input-6-8afd97b92616>\u001b[0m in \u001b[0;36m<module>\u001b[0;34m\u001b[0m\n\u001b[1;32m     11\u001b[0m \u001b[0mVictims\u001b[0m\u001b[0;34m.\u001b[0m\u001b[0mworld\u001b[0m \u001b[0;34m=\u001b[0m \u001b[0mworld\u001b[0m\u001b[0;34m\u001b[0m\u001b[0;34m\u001b[0m\u001b[0m\n\u001b[1;32m     12\u001b[0m \u001b[0mVictims\u001b[0m\u001b[0;34m.\u001b[0m\u001b[0mmakeVictims\u001b[0m\u001b[0;34m(\u001b[0m\u001b[0;34m[\u001b[0m\u001b[0mhuman\u001b[0m\u001b[0;34m.\u001b[0m\u001b[0mname\u001b[0m \u001b[0;32mfor\u001b[0m \u001b[0mhuman\u001b[0m \u001b[0;32min\u001b[0m \u001b[0;34m[\u001b[0m\u001b[0mfireAgent\u001b[0m\u001b[0;34m,\u001b[0m \u001b[0mtriageAgent\u001b[0m\u001b[0;34m]\u001b[0m\u001b[0;34m]\u001b[0m\u001b[0;34m)\u001b[0m\u001b[0;34m\u001b[0m\u001b[0;34m\u001b[0m\u001b[0m\n\u001b[0;32m---> 13\u001b[0;31m \u001b[0mVictims\u001b[0m\u001b[0;34m.\u001b[0m\u001b[0mmakeTriageAction\u001b[0m\u001b[0;34m(\u001b[0m\u001b[0mtriageAgent\u001b[0m\u001b[0;34m)\u001b[0m \u001b[0;31m# only the triage agent has actions to actually save victim\u001b[0m\u001b[0;34m\u001b[0m\u001b[0;34m\u001b[0m\u001b[0m\n\u001b[0m\u001b[1;32m     14\u001b[0m \u001b[0;32mfor\u001b[0m \u001b[0mhuman\u001b[0m \u001b[0;32min\u001b[0m \u001b[0;34m[\u001b[0m\u001b[0mfireAgent\u001b[0m\u001b[0;34m,\u001b[0m \u001b[0mtriageAgent\u001b[0m\u001b[0;34m]\u001b[0m\u001b[0;34m:\u001b[0m\u001b[0;34m\u001b[0m\u001b[0;34m\u001b[0m\u001b[0m\n\u001b[1;32m     15\u001b[0m     \u001b[0mVictims\u001b[0m\u001b[0;34m.\u001b[0m\u001b[0mmakeVictimObs\u001b[0m\u001b[0;34m(\u001b[0m\u001b[0mhuman\u001b[0m\u001b[0;34m)\u001b[0m \u001b[0;31m###### NEED TO COME BACK TO THIS, THE OBSERVATION SEEMS TO BE RELATIVE (I.E. NOT UNIQUE FOR EACH VICTIM)\u001b[0m\u001b[0;34m\u001b[0m\u001b[0;34m\u001b[0m\u001b[0m\n",
      "\u001b[0;32m~/dev/atomic_domain_definitions/victims.py\u001b[0m in \u001b[0;36mmakeTriageAction\u001b[0;34m(human)\u001b[0m\n\u001b[1;32m     85\u001b[0m         \"\"\"\n\u001b[1;32m     86\u001b[0m         \u001b[0mCreate\u001b[0m \u001b[0ma\u001b[0m \u001b[0mtriage\u001b[0m \u001b[0maction\u001b[0m \u001b[0mper\u001b[0m \u001b[0mvictim\u001b[0m\u001b[0;34m\u001b[0m\u001b[0;34m\u001b[0m\u001b[0m\n\u001b[0;32m---> 87\u001b[0;31m         Legal action if: 1) human and victim are in same location; 2)victim is unsaved\n\u001b[0m\u001b[1;32m     88\u001b[0m         Action effects: a) if danger is down to 0: 1) victim is saved, 2) victim remembers savior's name       \n\u001b[1;32m     89\u001b[0m         b) Always decrement victim's danger\n",
      "\u001b[0;32m~/dev/atomic/psychsim/agent.py\u001b[0m in \u001b[0;36maddAction\u001b[0;34m(self, action, condition, description, codePtr)\u001b[0m\n\u001b[1;32m    633\u001b[0m                 \u001b[0matom\u001b[0m\u001b[0;34m[\u001b[0m\u001b[0;34m'subject'\u001b[0m\u001b[0;34m]\u001b[0m \u001b[0;34m=\u001b[0m \u001b[0mself\u001b[0m\u001b[0;34m.\u001b[0m\u001b[0mname\u001b[0m\u001b[0;34m\u001b[0m\u001b[0;34m\u001b[0m\u001b[0m\n\u001b[1;32m    634\u001b[0m         \u001b[0mnew\u001b[0m \u001b[0;34m=\u001b[0m \u001b[0mActionSet\u001b[0m\u001b[0;34m(\u001b[0m\u001b[0mactions\u001b[0m\u001b[0;34m)\u001b[0m\u001b[0;34m\u001b[0m\u001b[0;34m\u001b[0m\u001b[0m\n\u001b[0;32m--> 635\u001b[0;31m         \u001b[0;32massert\u001b[0m \u001b[0mnew\u001b[0m \u001b[0;32mnot\u001b[0m \u001b[0;32min\u001b[0m \u001b[0mself\u001b[0m\u001b[0;34m.\u001b[0m\u001b[0mactions\u001b[0m\u001b[0;34m,\u001b[0m\u001b[0;34m'Action %s already defined'\u001b[0m \u001b[0;34m%\u001b[0m \u001b[0;34m(\u001b[0m\u001b[0mnew\u001b[0m\u001b[0;34m)\u001b[0m\u001b[0;34m\u001b[0m\u001b[0;34m\u001b[0m\u001b[0m\n\u001b[0m\u001b[1;32m    636\u001b[0m         \u001b[0mself\u001b[0m\u001b[0;34m.\u001b[0m\u001b[0mactions\u001b[0m\u001b[0;34m.\u001b[0m\u001b[0madd\u001b[0m\u001b[0;34m(\u001b[0m\u001b[0mnew\u001b[0m\u001b[0;34m)\u001b[0m\u001b[0;34m\u001b[0m\u001b[0;34m\u001b[0m\u001b[0m\n\u001b[1;32m    637\u001b[0m         \u001b[0;32mif\u001b[0m \u001b[0mcondition\u001b[0m\u001b[0;34m:\u001b[0m\u001b[0;34m\u001b[0m\u001b[0;34m\u001b[0m\u001b[0m\n",
      "\u001b[0;31mAssertionError\u001b[0m: Action TriageAg1-triage-victim0 already defined"
     ]
    }
   ],
   "source": [
    "# create world and add human triageAgents\n",
    "world = World()\n",
    "fireAgent = Agent('FireAg1')\n",
    "world.addAgent(fireAgent)\n",
    "triageAgent = Agent('TriageAg1')\n",
    "world.addAgent(triageAgent)\n",
    "# ASIST Agent\n",
    "agent = world.addAgent('ATOMIC')\n",
    "\n",
    "################# Victims and triage actions\n",
    "Victims.world = world\n",
    "Victims.makeVictims([human.name for human in [fireAgent, triageAgent]])\n",
    "Victims.makeTriageAction(triageAgent) # only the triage agent has actions to actually save victim\n",
    "for human in [fireAgent, triageAgent]:\n",
    "    Victims.makeVictimObs(human) ###### NEED TO COME BACK TO THIS, THE OBSERVATION SEEMS TO BE RELATIVE (I.E. NOT UNIQUE FOR EACH VICTIM)\n",
    "\n",
    "\n",
    "################# Locations and Move actions\n",
    "Locations.world = world\n",
    "Locations.makeMap(6, [(0,1), (1,2), (2,3), (3,4), (1,5)])\n",
    "Locations.makePlayerLocation(fireAgent, 0)\n",
    "Locations.makePlayerLocation(triageAgent, 1)\n",
    "\n",
    "\n",
    "################# Fires and extinguish actions\n",
    "Fires.world = world\n",
    "Fires.firemen = [fireAgent]\n",
    "Fires.allPlayers = [triageAgent, fireAgent]\n",
    "Fires.makeFires([0])"
   ]
  },
  {
   "cell_type": "code",
   "execution_count": 5,
   "metadata": {
    "scrolled": true
   },
   "outputs": [
    {
     "name": "stdout",
     "output_type": "stream",
     "text": [
      "TriageAg1's __MODEL__ 100%\tTriageAg10\n",
      "TriageAg1's __ACTION__ 100%\tTriageAg1-triage-victim0\n",
      "TriageAg1's __REWARD__ 100%\t0.0\n",
      "TriageAg1's obs_victim_status 100%\tnull\n",
      "TriageAg1's obs_victim_danger 100%\t0\n",
      "TriageAg1's obs_victim_reward 100%\t0\n",
      "TriageAg1's loc 100%\t1\n",
      "TriageAg1's seenloc_0 100%\tFalse\n",
      "TriageAg1's seenloc_1 100%\tTrue\n",
      "TriageAg1's seenloc_2 100%\tFalse\n",
      "TriageAg1's seenloc_3 100%\tFalse\n",
      "TriageAg1's seenloc_4 100%\tFalse\n",
      "TriageAg1's seenloc_5 100%\tFalse\n"
     ]
    }
   ],
   "source": [
    "printAgent(world,triageAgent.name)"
   ]
  },
  {
   "cell_type": "code",
   "execution_count": null,
   "metadata": {},
   "outputs": [],
   "source": [
    "################# ORDER           \n",
    "#world.setOrder([{fireAgent.name}, {triageAgent.name}]) #, \n",
    "world.setOrder([{triageAgent.name}]) #, \n",
    "\n",
    "################# Set beliefs, observables and things to ignore\n",
    "setBeliefs(world, agent, triageAgent, fireAgent)\n",
    "\n",
    "################# \n",
    "printAgent(world, triageAgent.name)\n",
    "world.printBeliefs(triageAgent.name)\n",
    "#Locations.move(triageAgent, 5)\n",
    "#printAgent(world, triageAgent.name)\n",
    "\n",
    "##world.printBeliefs(agent.name)\n",
    "###Locations.move(triageAgent, 3)\n",
    "###world.printBeliefs(agent.name)\n",
    "###\n",
    "#\n",
    "\n",
    "#showOptions()\n",
    "#triageLoc = stateKey(triageAgent.name, 'loc')\n",
    "#Locations.move(triageAgent, 5)\n",
    "#triageBel = triageAgent.getBelief()[trueTriageModel]\n",
    "#print(triageBel[triageLoc], world.state[triageLoc])\n",
    "#\n",
    "#showOptions()\n",
    "#"
   ]
  }
 ],
 "metadata": {
  "kernelspec": {
   "display_name": "Python 3",
   "language": "python",
   "name": "python3"
  },
  "language_info": {
   "codemirror_mode": {
    "name": "ipython",
    "version": 3
   },
   "file_extension": ".py",
   "mimetype": "text/x-python",
   "name": "python",
   "nbconvert_exporter": "python",
   "pygments_lexer": "ipython3",
   "version": "3.7.6"
  }
 },
 "nbformat": 4,
 "nbformat_minor": 4
}
