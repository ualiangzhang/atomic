{
 "cells": [
  {
   "cell_type": "code",
   "execution_count": 1,
   "metadata": {},
   "outputs": [],
   "source": [
    "# -*- coding: utf-8 -*-\n",
    "\"\"\"\n",
    "Created on Wed Feb 19 14:35:40 2020\n",
    "\n",
    "@author: mostafh\n",
    "\"\"\"\n",
    "from psychsim.world import World\n",
    "from psychsim.agent import Agent\n",
    "from psychsim.pwl import modelKey, rewardKey, Distribution, stateKey\n",
    "\n",
    "from fires import Fires\n",
    "from victims import Victims\n",
    "from locations import Locations\n",
    "from helpers import printAgent, setBeliefs"
   ]
  },
  {
   "cell_type": "code",
   "execution_count": 2,
   "metadata": {
    "scrolled": false
   },
   "outputs": [
    {
     "name": "stdout",
     "output_type": "stream",
     "text": [
      "making tree...\n",
      "tree completed\n",
      "if 1.000*__WORLD__'s fire_0 == True\n",
      "True\tif 1.000*FireAg1's loc == 1\n",
      "\tTrue\tTrue\n",
      "\tFalse\tFalse\n",
      "False\tFalse\n",
      "\n"
     ]
    }
   ],
   "source": [
    "# create world and add human triageAgents\n",
    "world = World()\n",
    "fireAgent = Agent('FireAg1')\n",
    "world.addAgent(fireAgent)\n",
    "triageAgent = Agent('TriageAg1')\n",
    "world.addAgent(triageAgent)\n",
    "# ASIST Agent\n",
    "agent = world.addAgent('ATOMIC')\n",
    "\n",
    "################# Victims and triage actions\n",
    "Victims.world = world\n",
    "Victims.makeVictims([human.name for human in [fireAgent, triageAgent]])\n",
    "Victims.makeTriageAction(triageAgent) # only the triage agent has actions to actually save victim\n",
    "for human in [fireAgent, triageAgent]:\n",
    "    Victims.makeVictimObs(human) ###### NEED TO COME BACK TO THIS, THE OBSERVATION SEEMS TO BE RELATIVE (I.E. NOT UNIQUE FOR EACH VICTIM)\n",
    "\n",
    "\n",
    "################# Locations and Move actions\n",
    "Locations.world = world\n",
    "Locations.makeMap(6, [(0,1), (1,2), (2,3), (3,4), (1,5)])\n",
    "Locations.makePlayerLocation(fireAgent, 0)\n",
    "Locations.makePlayerLocation(triageAgent, 1)\n",
    "\n",
    "\n",
    "################# Fires and extinguish actions\n",
    "Fires.world = world\n",
    "Fires.firemen = [fireAgent]\n",
    "Fires.allPlayers = [triageAgent, fireAgent]\n",
    "Fires.makeFires([0])"
   ]
  },
  {
   "cell_type": "code",
   "execution_count": null,
   "metadata": {
    "scrolled": true
   },
   "outputs": [],
   "source": [
    "Locations.nbrs"
   ]
  },
  {
   "cell_type": "code",
   "execution_count": null,
   "metadata": {},
   "outputs": [],
   "source": [
    "################# ORDER           \n",
    "#world.setOrder([{fireAgent.name}, {triageAgent.name}]) #, \n",
    "world.setOrder([{triageAgent.name}]) #, \n",
    "\n",
    "################# Set beliefs, observables and things to ignore\n",
    "setBeliefs(world, agent, triageAgent, fireAgent)\n",
    "\n",
    "################# \n",
    "printAgent(world, triageAgent.name)\n",
    "world.printBeliefs(triageAgent.name)\n",
    "#Locations.move(triageAgent, 5)\n",
    "#printAgent(world, triageAgent.name)\n",
    "\n",
    "##world.printBeliefs(agent.name)\n",
    "###Locations.move(triageAgent, 3)\n",
    "###world.printBeliefs(agent.name)\n",
    "###\n",
    "#\n",
    "\n",
    "#showOptions()\n",
    "#triageLoc = stateKey(triageAgent.name, 'loc')\n",
    "#Locations.move(triageAgent, 5)\n",
    "#triageBel = triageAgent.getBelief()[trueTriageModel]\n",
    "#print(triageBel[triageLoc], world.state[triageLoc])\n",
    "#\n",
    "#showOptions()\n",
    "#"
   ]
  }
 ],
 "metadata": {
  "kernelspec": {
   "display_name": "Python 3",
   "language": "python",
   "name": "python3"
  },
  "language_info": {
   "codemirror_mode": {
    "name": "ipython",
    "version": 3
   },
   "file_extension": ".py",
   "mimetype": "text/x-python",
   "name": "python",
   "nbconvert_exporter": "python",
   "pygments_lexer": "ipython3",
   "version": "3.7.6"
  }
 },
 "nbformat": 4,
 "nbformat_minor": 4
}
